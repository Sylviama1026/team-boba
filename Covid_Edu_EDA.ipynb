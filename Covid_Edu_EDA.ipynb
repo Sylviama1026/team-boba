{
 "cells": [
  {
   "cell_type": "code",
   "execution_count": 1,
   "id": "eligible-sullivan",
   "metadata": {},
   "outputs": [],
   "source": [
    "import pandas as pd\n",
    "import plotly.express as px\n",
    "import numpy as np\n",
    "import seaborn as sns\n",
    "import matplotlib.pyplot as plt"
   ]
  },
  {
   "cell_type": "code",
   "execution_count": 2,
   "id": "clean-music",
   "metadata": {},
   "outputs": [
    {
     "data": {
      "text/html": [
       "<div>\n",
       "<style scoped>\n",
       "    .dataframe tbody tr th:only-of-type {\n",
       "        vertical-align: middle;\n",
       "    }\n",
       "\n",
       "    .dataframe tbody tr th {\n",
       "        vertical-align: top;\n",
       "    }\n",
       "\n",
       "    .dataframe thead th {\n",
       "        text-align: right;\n",
       "    }\n",
       "</style>\n",
       "<table border=\"1\" class=\"dataframe\">\n",
       "  <thead>\n",
       "    <tr style=\"text-align: right;\">\n",
       "      <th></th>\n",
       "      <th>Unnamed: 0</th>\n",
       "      <th>Country</th>\n",
       "      <th>Code</th>\n",
       "      <th>Region</th>\n",
       "      <th>Income Group</th>\n",
       "      <th>School Closures</th>\n",
       "      <th>As of</th>\n",
       "      <th>Date</th>\n",
       "      <th>Number of confirmed cases at time of closure</th>\n",
       "      <th>Planned Reopening</th>\n",
       "      <th>...</th>\n",
       "      <th>Other supports - Childcare</th>\n",
       "      <th>Other supports - Childcare (Detail)</th>\n",
       "      <th>Other supports - Meals</th>\n",
       "      <th>Other supports - Meals (Details)</th>\n",
       "      <th>Other supports - Other</th>\n",
       "      <th>Source</th>\n",
       "      <th>Source.1</th>\n",
       "      <th>Facebook Page</th>\n",
       "      <th>Official COVID Education Policy Document</th>\n",
       "      <th>Source for Re-opening</th>\n",
       "    </tr>\n",
       "  </thead>\n",
       "  <tbody>\n",
       "    <tr>\n",
       "      <th>0</th>\n",
       "      <td>1</td>\n",
       "      <td>Afghanistan</td>\n",
       "      <td>AFG</td>\n",
       "      <td>South Asia</td>\n",
       "      <td>Low income</td>\n",
       "      <td>Yes</td>\n",
       "      <td>NaN</td>\n",
       "      <td>2020-03-17</td>\n",
       "      <td>22.0</td>\n",
       "      <td>1 month</td>\n",
       "      <td>...</td>\n",
       "      <td>NaN</td>\n",
       "      <td>NaN</td>\n",
       "      <td>NaN</td>\n",
       "      <td>NaN</td>\n",
       "      <td>NaN</td>\n",
       "      <td>https://www-washingtonpost-com.ezp-prod1.hul.h...</td>\n",
       "      <td>https://moe.gov.af/index.php/en/all-news\\n\\nht...</td>\n",
       "      <td>https://www.facebook.com/MoEAfghanistan/?hc_re...</td>\n",
       "      <td>https://planipolis.iiep.unesco.org/sites/plani...</td>\n",
       "      <td>NaN</td>\n",
       "    </tr>\n",
       "    <tr>\n",
       "      <th>1</th>\n",
       "      <td>2</td>\n",
       "      <td>Albania</td>\n",
       "      <td>ALB</td>\n",
       "      <td>Europe &amp; Central Asia</td>\n",
       "      <td>Upper middle income</td>\n",
       "      <td>Yes</td>\n",
       "      <td>NaN</td>\n",
       "      <td>2020-03-09</td>\n",
       "      <td>2.0</td>\n",
       "      <td>2 weeks</td>\n",
       "      <td>...</td>\n",
       "      <td>NaN</td>\n",
       "      <td>NaN</td>\n",
       "      <td>Self-employed families receive cash benefit</td>\n",
       "      <td>NaN</td>\n",
       "      <td>NaN</td>\n",
       "      <td>https://balkaninsight.com/2020/03/09/albania-c...</td>\n",
       "      <td>NaN</td>\n",
       "      <td>https://www.facebook.com/arsimitsportitdherinise/</td>\n",
       "      <td>NaN</td>\n",
       "      <td>NaN</td>\n",
       "    </tr>\n",
       "    <tr>\n",
       "      <th>2</th>\n",
       "      <td>3</td>\n",
       "      <td>Algeria</td>\n",
       "      <td>DZA</td>\n",
       "      <td>Middle East &amp; North Africa</td>\n",
       "      <td>Upper middle income</td>\n",
       "      <td>Yes</td>\n",
       "      <td>NaN</td>\n",
       "      <td>2020-03-12</td>\n",
       "      <td>24.0</td>\n",
       "      <td>5 April</td>\n",
       "      <td>...</td>\n",
       "      <td>NaN</td>\n",
       "      <td>NaN</td>\n",
       "      <td>NaN</td>\n",
       "      <td>NaN</td>\n",
       "      <td>NaN</td>\n",
       "      <td>https://www.africanews.com/2020/03/16/coronavi...</td>\n",
       "      <td>http://www.education.gov.dz/</td>\n",
       "      <td>https://www.facebook.com/EducationAlgerie/</td>\n",
       "      <td>NaN</td>\n",
       "      <td>NaN</td>\n",
       "    </tr>\n",
       "    <tr>\n",
       "      <th>3</th>\n",
       "      <td>4</td>\n",
       "      <td>American Samoa</td>\n",
       "      <td>ASM</td>\n",
       "      <td>East Asia &amp; Pacific</td>\n",
       "      <td>Upper middle income</td>\n",
       "      <td>Yes</td>\n",
       "      <td>NaN</td>\n",
       "      <td>2020-03-23</td>\n",
       "      <td>NaN</td>\n",
       "      <td>30 days</td>\n",
       "      <td>...</td>\n",
       "      <td>NaN</td>\n",
       "      <td>NaN</td>\n",
       "      <td>NaN</td>\n",
       "      <td>NaN</td>\n",
       "      <td>NaN</td>\n",
       "      <td>https://www.doe.as/\\n\\nhttps://www.doe.as/file...</td>\n",
       "      <td>https://www.doe.as/files/user/2/file/2020-AMEN...</td>\n",
       "      <td>https://www.facebook.com/americansamoagov.gov/</td>\n",
       "      <td>NaN</td>\n",
       "      <td>NaN</td>\n",
       "    </tr>\n",
       "    <tr>\n",
       "      <th>4</th>\n",
       "      <td>5</td>\n",
       "      <td>Andorra</td>\n",
       "      <td>AND</td>\n",
       "      <td>Europe &amp; Central Asia</td>\n",
       "      <td>High income</td>\n",
       "      <td>Yes</td>\n",
       "      <td>NaN</td>\n",
       "      <td>2020-03-13</td>\n",
       "      <td>2.0</td>\n",
       "      <td>NaN</td>\n",
       "      <td>...</td>\n",
       "      <td>NaN</td>\n",
       "      <td>NaN</td>\n",
       "      <td>NaN</td>\n",
       "      <td>NaN</td>\n",
       "      <td>NaN</td>\n",
       "      <td>http://www.leparisien.fr/societe/coronavirus-l...</td>\n",
       "      <td>NaN</td>\n",
       "      <td>NaN</td>\n",
       "      <td>NaN</td>\n",
       "      <td>NaN</td>\n",
       "    </tr>\n",
       "    <tr>\n",
       "      <th>...</th>\n",
       "      <td>...</td>\n",
       "      <td>...</td>\n",
       "      <td>...</td>\n",
       "      <td>...</td>\n",
       "      <td>...</td>\n",
       "      <td>...</td>\n",
       "      <td>...</td>\n",
       "      <td>...</td>\n",
       "      <td>...</td>\n",
       "      <td>...</td>\n",
       "      <td>...</td>\n",
       "      <td>...</td>\n",
       "      <td>...</td>\n",
       "      <td>...</td>\n",
       "      <td>...</td>\n",
       "      <td>...</td>\n",
       "      <td>...</td>\n",
       "      <td>...</td>\n",
       "      <td>...</td>\n",
       "      <td>...</td>\n",
       "      <td>...</td>\n",
       "    </tr>\n",
       "    <tr>\n",
       "      <th>213</th>\n",
       "      <td>214</td>\n",
       "      <td>Virgin Islands (U.S.)</td>\n",
       "      <td>VIR</td>\n",
       "      <td>Latin America &amp; Caribbean</td>\n",
       "      <td>High income</td>\n",
       "      <td>Yes</td>\n",
       "      <td>NaN</td>\n",
       "      <td>2020-03-16</td>\n",
       "      <td>2.0</td>\n",
       "      <td>14 April</td>\n",
       "      <td>...</td>\n",
       "      <td>NaN</td>\n",
       "      <td>NaN</td>\n",
       "      <td>NaN</td>\n",
       "      <td>NaN</td>\n",
       "      <td>NaN</td>\n",
       "      <td>https://www.vide.vi/\\n\\nhttps://bvi.gov.vg/med...</td>\n",
       "      <td>https://viconsortium.com/vi-coronavirus/virgin...</td>\n",
       "      <td>https://www.facebook.com/USVI.VIDE/</td>\n",
       "      <td>NaN</td>\n",
       "      <td>NaN</td>\n",
       "    </tr>\n",
       "    <tr>\n",
       "      <th>214</th>\n",
       "      <td>215</td>\n",
       "      <td>West Bank and Gaza</td>\n",
       "      <td>PSE</td>\n",
       "      <td>Middle East &amp; North Africa</td>\n",
       "      <td>Lower middle income</td>\n",
       "      <td>Yes</td>\n",
       "      <td>NaN</td>\n",
       "      <td>2020-03-20</td>\n",
       "      <td>52.0</td>\n",
       "      <td>Indefinitely</td>\n",
       "      <td>...</td>\n",
       "      <td>NaN</td>\n",
       "      <td>NaN</td>\n",
       "      <td>NaN</td>\n",
       "      <td>NaN</td>\n",
       "      <td>Support the psychosocial wellbeing of both stu...</td>\n",
       "      <td>https://www.timesofisrael.com/palestinians-ann...</td>\n",
       "      <td>NaN</td>\n",
       "      <td>NaN</td>\n",
       "      <td>https://planipolis.iiep.unesco.org/sites/plani...</td>\n",
       "      <td>NaN</td>\n",
       "    </tr>\n",
       "    <tr>\n",
       "      <th>215</th>\n",
       "      <td>216</td>\n",
       "      <td>Yemen, Rep.</td>\n",
       "      <td>YEM</td>\n",
       "      <td>Middle East &amp; North Africa</td>\n",
       "      <td>Low income</td>\n",
       "      <td>Yes</td>\n",
       "      <td>NaN</td>\n",
       "      <td>2020-03-16</td>\n",
       "      <td>0.0</td>\n",
       "      <td>One week</td>\n",
       "      <td>...</td>\n",
       "      <td>NaN</td>\n",
       "      <td>NaN</td>\n",
       "      <td>NaN</td>\n",
       "      <td>NaN</td>\n",
       "      <td>NaN</td>\n",
       "      <td>https://www.arabnews.com/node/1641896/middle-east</td>\n",
       "      <td>http://www.yemenmoe.net/student.aspx</td>\n",
       "      <td>https://www.facebook.com/YemenEducationMinistr...</td>\n",
       "      <td>NaN</td>\n",
       "      <td>NaN</td>\n",
       "    </tr>\n",
       "    <tr>\n",
       "      <th>216</th>\n",
       "      <td>217</td>\n",
       "      <td>Zambia</td>\n",
       "      <td>ZMB</td>\n",
       "      <td>Sub-Saharan Africa</td>\n",
       "      <td>Lower middle income</td>\n",
       "      <td>Yes</td>\n",
       "      <td>NaN</td>\n",
       "      <td>2020-03-20</td>\n",
       "      <td>2.0</td>\n",
       "      <td>Indefinitely</td>\n",
       "      <td>...</td>\n",
       "      <td>NaN</td>\n",
       "      <td>NaN</td>\n",
       "      <td>NaN</td>\n",
       "      <td>NaN</td>\n",
       "      <td>NaN</td>\n",
       "      <td>https://www.moge.gov.zm/download/Press-stateme...</td>\n",
       "      <td>https://www.techtrends.co.zm/zamtel-launches-e...</td>\n",
       "      <td>https://www.facebook.com/www.moge.gov.zm/</td>\n",
       "      <td>NaN</td>\n",
       "      <td>NaN</td>\n",
       "    </tr>\n",
       "    <tr>\n",
       "      <th>217</th>\n",
       "      <td>218</td>\n",
       "      <td>Zimbabwe</td>\n",
       "      <td>ZWE</td>\n",
       "      <td>Sub-Saharan Africa</td>\n",
       "      <td>Lower middle income</td>\n",
       "      <td>Yes</td>\n",
       "      <td>NaN</td>\n",
       "      <td>2020-03-24</td>\n",
       "      <td>0.0</td>\n",
       "      <td>19 April</td>\n",
       "      <td>...</td>\n",
       "      <td>NaN</td>\n",
       "      <td>NaN</td>\n",
       "      <td>NaN</td>\n",
       "      <td>NaN</td>\n",
       "      <td>NaN</td>\n",
       "      <td>https://allafrica.com/stories/202003200728.htm...</td>\n",
       "      <td>http://mopse.co.zw/blog-v2</td>\n",
       "      <td>https://www.facebook.com/MinistryofEducationZi...</td>\n",
       "      <td>NaN</td>\n",
       "      <td>NaN</td>\n",
       "    </tr>\n",
       "  </tbody>\n",
       "</table>\n",
       "<p>218 rows × 49 columns</p>\n",
       "</div>"
      ],
      "text/plain": [
       "     Unnamed: 0                Country Code                      Region  \\\n",
       "0             1            Afghanistan  AFG                  South Asia   \n",
       "1             2                Albania  ALB       Europe & Central Asia   \n",
       "2             3                Algeria  DZA  Middle East & North Africa   \n",
       "3             4         American Samoa  ASM         East Asia & Pacific   \n",
       "4             5                Andorra  AND       Europe & Central Asia   \n",
       "..          ...                    ...  ...                         ...   \n",
       "213         214  Virgin Islands (U.S.)  VIR   Latin America & Caribbean   \n",
       "214         215     West Bank and Gaza  PSE  Middle East & North Africa   \n",
       "215         216            Yemen, Rep.  YEM  Middle East & North Africa   \n",
       "216         217                 Zambia  ZMB          Sub-Saharan Africa   \n",
       "217         218               Zimbabwe  ZWE          Sub-Saharan Africa   \n",
       "\n",
       "            Income Group School Closures As of        Date  \\\n",
       "0             Low income             Yes   NaN  2020-03-17   \n",
       "1    Upper middle income             Yes   NaN  2020-03-09   \n",
       "2    Upper middle income             Yes   NaN  2020-03-12   \n",
       "3    Upper middle income             Yes   NaN  2020-03-23   \n",
       "4            High income             Yes   NaN  2020-03-13   \n",
       "..                   ...             ...   ...         ...   \n",
       "213          High income             Yes   NaN  2020-03-16   \n",
       "214  Lower middle income             Yes   NaN  2020-03-20   \n",
       "215           Low income             Yes   NaN  2020-03-16   \n",
       "216  Lower middle income             Yes   NaN  2020-03-20   \n",
       "217  Lower middle income             Yes   NaN  2020-03-24   \n",
       "\n",
       "     Number of confirmed cases at time of closure Planned Reopening  ...  \\\n",
       "0                                            22.0           1 month  ...   \n",
       "1                                             2.0           2 weeks  ...   \n",
       "2                                            24.0           5 April  ...   \n",
       "3                                             NaN           30 days  ...   \n",
       "4                                             2.0               NaN  ...   \n",
       "..                                            ...               ...  ...   \n",
       "213                                           2.0          14 April  ...   \n",
       "214                                          52.0      Indefinitely  ...   \n",
       "215                                           0.0          One week  ...   \n",
       "216                                           2.0      Indefinitely  ...   \n",
       "217                                           0.0          19 April  ...   \n",
       "\n",
       "     Other supports - Childcare Other supports - Childcare (Detail)  \\\n",
       "0                           NaN                                 NaN   \n",
       "1                           NaN                                 NaN   \n",
       "2                           NaN                                 NaN   \n",
       "3                           NaN                                 NaN   \n",
       "4                           NaN                                 NaN   \n",
       "..                          ...                                 ...   \n",
       "213                         NaN                                 NaN   \n",
       "214                         NaN                                 NaN   \n",
       "215                         NaN                                 NaN   \n",
       "216                         NaN                                 NaN   \n",
       "217                         NaN                                 NaN   \n",
       "\n",
       "                          Other supports - Meals  \\\n",
       "0                                            NaN   \n",
       "1    Self-employed families receive cash benefit   \n",
       "2                                            NaN   \n",
       "3                                            NaN   \n",
       "4                                            NaN   \n",
       "..                                           ...   \n",
       "213                                          NaN   \n",
       "214                                          NaN   \n",
       "215                                          NaN   \n",
       "216                                          NaN   \n",
       "217                                          NaN   \n",
       "\n",
       "    Other supports - Meals (Details)  \\\n",
       "0                                NaN   \n",
       "1                                NaN   \n",
       "2                                NaN   \n",
       "3                                NaN   \n",
       "4                                NaN   \n",
       "..                               ...   \n",
       "213                              NaN   \n",
       "214                              NaN   \n",
       "215                              NaN   \n",
       "216                              NaN   \n",
       "217                              NaN   \n",
       "\n",
       "                                Other supports - Other  \\\n",
       "0                                                  NaN   \n",
       "1                                                  NaN   \n",
       "2                                                  NaN   \n",
       "3                                                  NaN   \n",
       "4                                                  NaN   \n",
       "..                                                 ...   \n",
       "213                                                NaN   \n",
       "214  Support the psychosocial wellbeing of both stu...   \n",
       "215                                                NaN   \n",
       "216                                                NaN   \n",
       "217                                                NaN   \n",
       "\n",
       "                                                Source  \\\n",
       "0    https://www-washingtonpost-com.ezp-prod1.hul.h...   \n",
       "1    https://balkaninsight.com/2020/03/09/albania-c...   \n",
       "2    https://www.africanews.com/2020/03/16/coronavi...   \n",
       "3    https://www.doe.as/\\n\\nhttps://www.doe.as/file...   \n",
       "4    http://www.leparisien.fr/societe/coronavirus-l...   \n",
       "..                                                 ...   \n",
       "213  https://www.vide.vi/\\n\\nhttps://bvi.gov.vg/med...   \n",
       "214  https://www.timesofisrael.com/palestinians-ann...   \n",
       "215  https://www.arabnews.com/node/1641896/middle-east   \n",
       "216  https://www.moge.gov.zm/download/Press-stateme...   \n",
       "217  https://allafrica.com/stories/202003200728.htm...   \n",
       "\n",
       "                                              Source.1  \\\n",
       "0    https://moe.gov.af/index.php/en/all-news\\n\\nht...   \n",
       "1                                                  NaN   \n",
       "2                         http://www.education.gov.dz/   \n",
       "3    https://www.doe.as/files/user/2/file/2020-AMEN...   \n",
       "4                                                  NaN   \n",
       "..                                                 ...   \n",
       "213  https://viconsortium.com/vi-coronavirus/virgin...   \n",
       "214                                                NaN   \n",
       "215               http://www.yemenmoe.net/student.aspx   \n",
       "216  https://www.techtrends.co.zm/zamtel-launches-e...   \n",
       "217                         http://mopse.co.zw/blog-v2   \n",
       "\n",
       "                                         Facebook Page  \\\n",
       "0    https://www.facebook.com/MoEAfghanistan/?hc_re...   \n",
       "1    https://www.facebook.com/arsimitsportitdherinise/   \n",
       "2           https://www.facebook.com/EducationAlgerie/   \n",
       "3       https://www.facebook.com/americansamoagov.gov/   \n",
       "4                                                  NaN   \n",
       "..                                                 ...   \n",
       "213                https://www.facebook.com/USVI.VIDE/   \n",
       "214                                                NaN   \n",
       "215  https://www.facebook.com/YemenEducationMinistr...   \n",
       "216          https://www.facebook.com/www.moge.gov.zm/   \n",
       "217  https://www.facebook.com/MinistryofEducationZi...   \n",
       "\n",
       "              Official COVID Education Policy Document Source for Re-opening  \n",
       "0    https://planipolis.iiep.unesco.org/sites/plani...                   NaN  \n",
       "1                                                  NaN                   NaN  \n",
       "2                                                  NaN                   NaN  \n",
       "3                                                  NaN                   NaN  \n",
       "4                                                  NaN                   NaN  \n",
       "..                                                 ...                   ...  \n",
       "213                                                NaN                   NaN  \n",
       "214  https://planipolis.iiep.unesco.org/sites/plani...                   NaN  \n",
       "215                                                NaN                   NaN  \n",
       "216                                                NaN                   NaN  \n",
       "217                                                NaN                   NaN  \n",
       "\n",
       "[218 rows x 49 columns]"
      ]
     },
     "execution_count": 2,
     "metadata": {},
     "output_type": "execute_result"
    }
   ],
   "source": [
    "df_n=pd.read_csv('closure.csv')[:-10]\n",
    "df_n"
   ]
  },
  {
   "cell_type": "code",
   "execution_count": 3,
   "id": "first-lecture",
   "metadata": {},
   "outputs": [
    {
     "data": {
      "text/html": [
       "<div>\n",
       "<style scoped>\n",
       "    .dataframe tbody tr th:only-of-type {\n",
       "        vertical-align: middle;\n",
       "    }\n",
       "\n",
       "    .dataframe tbody tr th {\n",
       "        vertical-align: top;\n",
       "    }\n",
       "\n",
       "    .dataframe thead th {\n",
       "        text-align: right;\n",
       "    }\n",
       "</style>\n",
       "<table border=\"1\" class=\"dataframe\">\n",
       "  <thead>\n",
       "    <tr style=\"text-align: right;\">\n",
       "      <th></th>\n",
       "      <th>Country</th>\n",
       "      <th>Code</th>\n",
       "      <th>Region</th>\n",
       "      <th>Income Group</th>\n",
       "    </tr>\n",
       "  </thead>\n",
       "  <tbody>\n",
       "    <tr>\n",
       "      <th>0</th>\n",
       "      <td>Afghanistan</td>\n",
       "      <td>AFG</td>\n",
       "      <td>South Asia</td>\n",
       "      <td>Low income</td>\n",
       "    </tr>\n",
       "    <tr>\n",
       "      <th>1</th>\n",
       "      <td>Albania</td>\n",
       "      <td>ALB</td>\n",
       "      <td>Europe &amp; Central Asia</td>\n",
       "      <td>Upper middle income</td>\n",
       "    </tr>\n",
       "    <tr>\n",
       "      <th>2</th>\n",
       "      <td>Algeria</td>\n",
       "      <td>DZA</td>\n",
       "      <td>Middle East &amp; North Africa</td>\n",
       "      <td>Upper middle income</td>\n",
       "    </tr>\n",
       "    <tr>\n",
       "      <th>3</th>\n",
       "      <td>American Samoa</td>\n",
       "      <td>ASM</td>\n",
       "      <td>East Asia &amp; Pacific</td>\n",
       "      <td>Upper middle income</td>\n",
       "    </tr>\n",
       "    <tr>\n",
       "      <th>4</th>\n",
       "      <td>Andorra</td>\n",
       "      <td>AND</td>\n",
       "      <td>Europe &amp; Central Asia</td>\n",
       "      <td>High income</td>\n",
       "    </tr>\n",
       "    <tr>\n",
       "      <th>...</th>\n",
       "      <td>...</td>\n",
       "      <td>...</td>\n",
       "      <td>...</td>\n",
       "      <td>...</td>\n",
       "    </tr>\n",
       "    <tr>\n",
       "      <th>213</th>\n",
       "      <td>Virgin Islands (U.S.)</td>\n",
       "      <td>VIR</td>\n",
       "      <td>Latin America &amp; Caribbean</td>\n",
       "      <td>High income</td>\n",
       "    </tr>\n",
       "    <tr>\n",
       "      <th>214</th>\n",
       "      <td>West Bank and Gaza</td>\n",
       "      <td>PSE</td>\n",
       "      <td>Middle East &amp; North Africa</td>\n",
       "      <td>Lower middle income</td>\n",
       "    </tr>\n",
       "    <tr>\n",
       "      <th>215</th>\n",
       "      <td>Yemen, Rep.</td>\n",
       "      <td>YEM</td>\n",
       "      <td>Middle East &amp; North Africa</td>\n",
       "      <td>Low income</td>\n",
       "    </tr>\n",
       "    <tr>\n",
       "      <th>216</th>\n",
       "      <td>Zambia</td>\n",
       "      <td>ZMB</td>\n",
       "      <td>Sub-Saharan Africa</td>\n",
       "      <td>Lower middle income</td>\n",
       "    </tr>\n",
       "    <tr>\n",
       "      <th>217</th>\n",
       "      <td>Zimbabwe</td>\n",
       "      <td>ZWE</td>\n",
       "      <td>Sub-Saharan Africa</td>\n",
       "      <td>Lower middle income</td>\n",
       "    </tr>\n",
       "  </tbody>\n",
       "</table>\n",
       "<p>218 rows × 4 columns</p>\n",
       "</div>"
      ],
      "text/plain": [
       "                   Country Code                      Region  \\\n",
       "0              Afghanistan  AFG                  South Asia   \n",
       "1                  Albania  ALB       Europe & Central Asia   \n",
       "2                  Algeria  DZA  Middle East & North Africa   \n",
       "3           American Samoa  ASM         East Asia & Pacific   \n",
       "4                  Andorra  AND       Europe & Central Asia   \n",
       "..                     ...  ...                         ...   \n",
       "213  Virgin Islands (U.S.)  VIR   Latin America & Caribbean   \n",
       "214     West Bank and Gaza  PSE  Middle East & North Africa   \n",
       "215            Yemen, Rep.  YEM  Middle East & North Africa   \n",
       "216                 Zambia  ZMB          Sub-Saharan Africa   \n",
       "217               Zimbabwe  ZWE          Sub-Saharan Africa   \n",
       "\n",
       "            Income Group  \n",
       "0             Low income  \n",
       "1    Upper middle income  \n",
       "2    Upper middle income  \n",
       "3    Upper middle income  \n",
       "4            High income  \n",
       "..                   ...  \n",
       "213          High income  \n",
       "214  Lower middle income  \n",
       "215           Low income  \n",
       "216  Lower middle income  \n",
       "217  Lower middle income  \n",
       "\n",
       "[218 rows x 4 columns]"
      ]
     },
     "execution_count": 3,
     "metadata": {},
     "output_type": "execute_result"
    }
   ],
   "source": [
    "income=df_n.iloc[:,1:5]\n",
    "income"
   ]
  },
  {
   "cell_type": "code",
   "execution_count": 19,
   "id": "active-spending",
   "metadata": {},
   "outputs": [
    {
     "data": {
      "text/html": [
       "<div>\n",
       "<style scoped>\n",
       "    .dataframe tbody tr th:only-of-type {\n",
       "        vertical-align: middle;\n",
       "    }\n",
       "\n",
       "    .dataframe tbody tr th {\n",
       "        vertical-align: top;\n",
       "    }\n",
       "\n",
       "    .dataframe thead th {\n",
       "        text-align: right;\n",
       "    }\n",
       "</style>\n",
       "<table border=\"1\" class=\"dataframe\">\n",
       "  <thead>\n",
       "    <tr style=\"text-align: right;\">\n",
       "      <th></th>\n",
       "      <th>Country</th>\n",
       "      <th>internet</th>\n",
       "    </tr>\n",
       "  </thead>\n",
       "  <tbody>\n",
       "    <tr>\n",
       "      <th>0</th>\n",
       "      <td>Afghanistan</td>\n",
       "      <td>10.595726</td>\n",
       "    </tr>\n",
       "    <tr>\n",
       "      <th>1</th>\n",
       "      <td>Albania</td>\n",
       "      <td>66.363445</td>\n",
       "    </tr>\n",
       "    <tr>\n",
       "      <th>2</th>\n",
       "      <td>Algeria</td>\n",
       "      <td>42.945527</td>\n",
       "    </tr>\n",
       "    <tr>\n",
       "      <th>3</th>\n",
       "      <td>Andorra</td>\n",
       "      <td>97.930637</td>\n",
       "    </tr>\n",
       "    <tr>\n",
       "      <th>4</th>\n",
       "      <td>Angola</td>\n",
       "      <td>13.000000</td>\n",
       "    </tr>\n",
       "    <tr>\n",
       "      <th>...</th>\n",
       "      <td>...</td>\n",
       "      <td>...</td>\n",
       "    </tr>\n",
       "    <tr>\n",
       "      <th>244</th>\n",
       "      <td>Vietnam</td>\n",
       "      <td>46.500000</td>\n",
       "    </tr>\n",
       "    <tr>\n",
       "      <th>245</th>\n",
       "      <td>World</td>\n",
       "      <td>45.793684</td>\n",
       "    </tr>\n",
       "    <tr>\n",
       "      <th>246</th>\n",
       "      <td>Yemen</td>\n",
       "      <td>24.579208</td>\n",
       "    </tr>\n",
       "    <tr>\n",
       "      <th>247</th>\n",
       "      <td>Zambia</td>\n",
       "      <td>25.506579</td>\n",
       "    </tr>\n",
       "    <tr>\n",
       "      <th>248</th>\n",
       "      <td>Zimbabwe</td>\n",
       "      <td>23.119989</td>\n",
       "    </tr>\n",
       "  </tbody>\n",
       "</table>\n",
       "<p>249 rows × 2 columns</p>\n",
       "</div>"
      ],
      "text/plain": [
       "         Country   internet\n",
       "0    Afghanistan  10.595726\n",
       "1        Albania  66.363445\n",
       "2        Algeria  42.945527\n",
       "3        Andorra  97.930637\n",
       "4         Angola  13.000000\n",
       "..           ...        ...\n",
       "244      Vietnam  46.500000\n",
       "245        World  45.793684\n",
       "246        Yemen  24.579208\n",
       "247       Zambia  25.506579\n",
       "248     Zimbabwe  23.119989\n",
       "\n",
       "[249 rows x 2 columns]"
      ]
     },
     "execution_count": 19,
     "metadata": {},
     "output_type": "execute_result"
    }
   ],
   "source": [
    "df_3=pd.read_csv('share-of-individuals-using-the-internet.csv')\n",
    "internet=df_3[df_3.Year==2016].reset_index()\n",
    "internet=internet.rename(columns={'Entity':'Country','Individuals using the Internet (% of population)':'internet'})\n",
    "internet=internet.iloc[:,[1,4]]\n",
    "internet"
   ]
  },
  {
   "cell_type": "code",
   "execution_count": 20,
   "id": "tight-video",
   "metadata": {},
   "outputs": [
    {
     "data": {
      "text/html": [
       "<div>\n",
       "<style scoped>\n",
       "    .dataframe tbody tr th:only-of-type {\n",
       "        vertical-align: middle;\n",
       "    }\n",
       "\n",
       "    .dataframe tbody tr th {\n",
       "        vertical-align: top;\n",
       "    }\n",
       "\n",
       "    .dataframe thead th {\n",
       "        text-align: right;\n",
       "    }\n",
       "</style>\n",
       "<table border=\"1\" class=\"dataframe\">\n",
       "  <thead>\n",
       "    <tr style=\"text-align: right;\">\n",
       "      <th></th>\n",
       "      <th>Unnamed: 0</th>\n",
       "      <th>Unnamed: 1</th>\n",
       "      <th>UNESCO global dataset on the duration of school closures</th>\n",
       "      <th>Unnamed: 3</th>\n",
       "      <th>Unnamed: 4</th>\n",
       "      <th>Unnamed: 5</th>\n",
       "      <th>Unnamed: 6</th>\n",
       "      <th>Unnamed: 7</th>\n",
       "      <th>Unnamed: 8</th>\n",
       "    </tr>\n",
       "  </thead>\n",
       "  <tbody>\n",
       "    <tr>\n",
       "      <th>17</th>\n",
       "      <td>Country</td>\n",
       "      <td>ISO</td>\n",
       "      <td>Duration of FULL and PARTIAL school closures (...</td>\n",
       "      <td>Duration of FULL closures (in weeks)</td>\n",
       "      <td>Duration of PARTIAL closures (in weeks)</td>\n",
       "      <td>Duration of FULL closures from Mar-Aug 20 (in ...</td>\n",
       "      <td>Duration of FULL closures from Sep 20 - Mar 21...</td>\n",
       "      <td>Duration of PARTIAL closures from Mar-Aug 20 (...</td>\n",
       "      <td>Duration of PARTIAL closures from Sep 20 - Mar...</td>\n",
       "    </tr>\n",
       "    <tr>\n",
       "      <th>18</th>\n",
       "      <td>Afghanistan</td>\n",
       "      <td>AFG</td>\n",
       "      <td>31</td>\n",
       "      <td>23</td>\n",
       "      <td>8</td>\n",
       "      <td>23</td>\n",
       "      <td>0</td>\n",
       "      <td>3</td>\n",
       "      <td>5</td>\n",
       "    </tr>\n",
       "    <tr>\n",
       "      <th>19</th>\n",
       "      <td>Albania</td>\n",
       "      <td>ALB</td>\n",
       "      <td>24</td>\n",
       "      <td>8</td>\n",
       "      <td>16</td>\n",
       "      <td>8</td>\n",
       "      <td>0</td>\n",
       "      <td>5</td>\n",
       "      <td>11</td>\n",
       "    </tr>\n",
       "    <tr>\n",
       "      <th>20</th>\n",
       "      <td>Algeria</td>\n",
       "      <td>DZA</td>\n",
       "      <td>21</td>\n",
       "      <td>19</td>\n",
       "      <td>2</td>\n",
       "      <td>13</td>\n",
       "      <td>6</td>\n",
       "      <td>0</td>\n",
       "      <td>2</td>\n",
       "    </tr>\n",
       "    <tr>\n",
       "      <th>21</th>\n",
       "      <td>Andorra</td>\n",
       "      <td>AND</td>\n",
       "      <td>16</td>\n",
       "      <td>15</td>\n",
       "      <td>1</td>\n",
       "      <td>15</td>\n",
       "      <td>0</td>\n",
       "      <td>0</td>\n",
       "      <td>1</td>\n",
       "    </tr>\n",
       "    <tr>\n",
       "      <th>...</th>\n",
       "      <td>...</td>\n",
       "      <td>...</td>\n",
       "      <td>...</td>\n",
       "      <td>...</td>\n",
       "      <td>...</td>\n",
       "      <td>...</td>\n",
       "      <td>...</td>\n",
       "      <td>...</td>\n",
       "      <td>...</td>\n",
       "    </tr>\n",
       "    <tr>\n",
       "      <th>223</th>\n",
       "      <td>Venezuela</td>\n",
       "      <td>VEN</td>\n",
       "      <td>38</td>\n",
       "      <td>38</td>\n",
       "      <td>0</td>\n",
       "      <td>14</td>\n",
       "      <td>25</td>\n",
       "      <td>0</td>\n",
       "      <td>0</td>\n",
       "    </tr>\n",
       "    <tr>\n",
       "      <th>224</th>\n",
       "      <td>Viet Nam</td>\n",
       "      <td>VNM</td>\n",
       "      <td>14</td>\n",
       "      <td>5</td>\n",
       "      <td>9</td>\n",
       "      <td>5</td>\n",
       "      <td>0</td>\n",
       "      <td>7</td>\n",
       "      <td>2</td>\n",
       "    </tr>\n",
       "    <tr>\n",
       "      <th>225</th>\n",
       "      <td>Yemen</td>\n",
       "      <td>YEM</td>\n",
       "      <td>19</td>\n",
       "      <td>14</td>\n",
       "      <td>5</td>\n",
       "      <td>14</td>\n",
       "      <td>0</td>\n",
       "      <td>1</td>\n",
       "      <td>4</td>\n",
       "    </tr>\n",
       "    <tr>\n",
       "      <th>226</th>\n",
       "      <td>Zambia</td>\n",
       "      <td>ZMB</td>\n",
       "      <td>18</td>\n",
       "      <td>8</td>\n",
       "      <td>10</td>\n",
       "      <td>6</td>\n",
       "      <td>2</td>\n",
       "      <td>9</td>\n",
       "      <td>1</td>\n",
       "    </tr>\n",
       "    <tr>\n",
       "      <th>227</th>\n",
       "      <td>Zimbabwe</td>\n",
       "      <td>ZWE</td>\n",
       "      <td>34</td>\n",
       "      <td>25</td>\n",
       "      <td>9</td>\n",
       "      <td>15</td>\n",
       "      <td>10</td>\n",
       "      <td>0</td>\n",
       "      <td>9</td>\n",
       "    </tr>\n",
       "  </tbody>\n",
       "</table>\n",
       "<p>211 rows × 9 columns</p>\n",
       "</div>"
      ],
      "text/plain": [
       "      Unnamed: 0 Unnamed: 1  \\\n",
       "17       Country        ISO   \n",
       "18   Afghanistan        AFG   \n",
       "19       Albania        ALB   \n",
       "20       Algeria        DZA   \n",
       "21       Andorra        AND   \n",
       "..           ...        ...   \n",
       "223    Venezuela        VEN   \n",
       "224     Viet Nam        VNM   \n",
       "225        Yemen        YEM   \n",
       "226       Zambia        ZMB   \n",
       "227     Zimbabwe        ZWE   \n",
       "\n",
       "    UNESCO global dataset on the duration of school closures   \\\n",
       "17   Duration of FULL and PARTIAL school closures (...          \n",
       "18                                                  31          \n",
       "19                                                  24          \n",
       "20                                                  21          \n",
       "21                                                  16          \n",
       "..                                                 ...          \n",
       "223                                                 38          \n",
       "224                                                 14          \n",
       "225                                                 19          \n",
       "226                                                 18          \n",
       "227                                                 34          \n",
       "\n",
       "                               Unnamed: 3  \\\n",
       "17   Duration of FULL closures (in weeks)   \n",
       "18                                     23   \n",
       "19                                      8   \n",
       "20                                     19   \n",
       "21                                     15   \n",
       "..                                    ...   \n",
       "223                                    38   \n",
       "224                                     5   \n",
       "225                                    14   \n",
       "226                                     8   \n",
       "227                                    25   \n",
       "\n",
       "                                  Unnamed: 4  \\\n",
       "17   Duration of PARTIAL closures (in weeks)   \n",
       "18                                         8   \n",
       "19                                        16   \n",
       "20                                         2   \n",
       "21                                         1   \n",
       "..                                       ...   \n",
       "223                                        0   \n",
       "224                                        9   \n",
       "225                                        5   \n",
       "226                                       10   \n",
       "227                                        9   \n",
       "\n",
       "                                            Unnamed: 5  \\\n",
       "17   Duration of FULL closures from Mar-Aug 20 (in ...   \n",
       "18                                                  23   \n",
       "19                                                   8   \n",
       "20                                                  13   \n",
       "21                                                  15   \n",
       "..                                                 ...   \n",
       "223                                                 14   \n",
       "224                                                  5   \n",
       "225                                                 14   \n",
       "226                                                  6   \n",
       "227                                                 15   \n",
       "\n",
       "                                            Unnamed: 6  \\\n",
       "17   Duration of FULL closures from Sep 20 - Mar 21...   \n",
       "18                                                   0   \n",
       "19                                                   0   \n",
       "20                                                   6   \n",
       "21                                                   0   \n",
       "..                                                 ...   \n",
       "223                                                 25   \n",
       "224                                                  0   \n",
       "225                                                  0   \n",
       "226                                                  2   \n",
       "227                                                 10   \n",
       "\n",
       "                                            Unnamed: 7  \\\n",
       "17   Duration of PARTIAL closures from Mar-Aug 20 (...   \n",
       "18                                                   3   \n",
       "19                                                   5   \n",
       "20                                                   0   \n",
       "21                                                   0   \n",
       "..                                                 ...   \n",
       "223                                                  0   \n",
       "224                                                  7   \n",
       "225                                                  1   \n",
       "226                                                  9   \n",
       "227                                                  0   \n",
       "\n",
       "                                            Unnamed: 8  \n",
       "17   Duration of PARTIAL closures from Sep 20 - Mar...  \n",
       "18                                                   5  \n",
       "19                                                  11  \n",
       "20                                                   2  \n",
       "21                                                   1  \n",
       "..                                                 ...  \n",
       "223                                                  0  \n",
       "224                                                  2  \n",
       "225                                                  4  \n",
       "226                                                  1  \n",
       "227                                                  9  \n",
       "\n",
       "[211 rows x 9 columns]"
      ]
     },
     "execution_count": 20,
     "metadata": {},
     "output_type": "execute_result"
    }
   ],
   "source": [
    "df_4=pd.read_csv('duration_school_closures.csv')[17:]\n",
    "df_4"
   ]
  },
  {
   "cell_type": "code",
   "execution_count": 21,
   "id": "portuguese-oxide",
   "metadata": {},
   "outputs": [
    {
     "data": {
      "text/html": [
       "<div>\n",
       "<style scoped>\n",
       "    .dataframe tbody tr th:only-of-type {\n",
       "        vertical-align: middle;\n",
       "    }\n",
       "\n",
       "    .dataframe tbody tr th {\n",
       "        vertical-align: top;\n",
       "    }\n",
       "\n",
       "    .dataframe thead th {\n",
       "        text-align: right;\n",
       "    }\n",
       "</style>\n",
       "<table border=\"1\" class=\"dataframe\">\n",
       "  <thead>\n",
       "    <tr style=\"text-align: right;\">\n",
       "      <th></th>\n",
       "      <th>Country</th>\n",
       "      <th>Code</th>\n",
       "      <th>closure</th>\n",
       "    </tr>\n",
       "  </thead>\n",
       "  <tbody>\n",
       "    <tr>\n",
       "      <th>0</th>\n",
       "      <td>Afghanistan</td>\n",
       "      <td>AFG</td>\n",
       "      <td>31</td>\n",
       "    </tr>\n",
       "    <tr>\n",
       "      <th>1</th>\n",
       "      <td>Albania</td>\n",
       "      <td>ALB</td>\n",
       "      <td>24</td>\n",
       "    </tr>\n",
       "    <tr>\n",
       "      <th>2</th>\n",
       "      <td>Algeria</td>\n",
       "      <td>DZA</td>\n",
       "      <td>21</td>\n",
       "    </tr>\n",
       "    <tr>\n",
       "      <th>3</th>\n",
       "      <td>Andorra</td>\n",
       "      <td>AND</td>\n",
       "      <td>16</td>\n",
       "    </tr>\n",
       "    <tr>\n",
       "      <th>4</th>\n",
       "      <td>Angola</td>\n",
       "      <td>AGO</td>\n",
       "      <td>46</td>\n",
       "    </tr>\n",
       "    <tr>\n",
       "      <th>...</th>\n",
       "      <td>...</td>\n",
       "      <td>...</td>\n",
       "      <td>...</td>\n",
       "    </tr>\n",
       "    <tr>\n",
       "      <th>205</th>\n",
       "      <td>Venezuela</td>\n",
       "      <td>VEN</td>\n",
       "      <td>38</td>\n",
       "    </tr>\n",
       "    <tr>\n",
       "      <th>206</th>\n",
       "      <td>Viet Nam</td>\n",
       "      <td>VNM</td>\n",
       "      <td>14</td>\n",
       "    </tr>\n",
       "    <tr>\n",
       "      <th>207</th>\n",
       "      <td>Yemen</td>\n",
       "      <td>YEM</td>\n",
       "      <td>19</td>\n",
       "    </tr>\n",
       "    <tr>\n",
       "      <th>208</th>\n",
       "      <td>Zambia</td>\n",
       "      <td>ZMB</td>\n",
       "      <td>18</td>\n",
       "    </tr>\n",
       "    <tr>\n",
       "      <th>209</th>\n",
       "      <td>Zimbabwe</td>\n",
       "      <td>ZWE</td>\n",
       "      <td>34</td>\n",
       "    </tr>\n",
       "  </tbody>\n",
       "</table>\n",
       "<p>210 rows × 3 columns</p>\n",
       "</div>"
      ],
      "text/plain": [
       "         Country Code closure\n",
       "0    Afghanistan  AFG      31\n",
       "1        Albania  ALB      24\n",
       "2        Algeria  DZA      21\n",
       "3        Andorra  AND      16\n",
       "4         Angola  AGO      46\n",
       "..           ...  ...     ...\n",
       "205    Venezuela  VEN      38\n",
       "206     Viet Nam  VNM      14\n",
       "207        Yemen  YEM      19\n",
       "208       Zambia  ZMB      18\n",
       "209     Zimbabwe  ZWE      34\n",
       "\n",
       "[210 rows x 3 columns]"
      ]
     },
     "execution_count": 21,
     "metadata": {},
     "output_type": "execute_result"
    }
   ],
   "source": [
    "closure=df_4.iloc[1:,:3].reset_index().drop('index',axis=1)\n",
    "closure.columns=['Country', 'Code', 'closure'] \n",
    "closure"
   ]
  },
  {
   "cell_type": "code",
   "execution_count": 22,
   "id": "moral-subcommittee",
   "metadata": {},
   "outputs": [],
   "source": [
    "closure['Country'][23]='Bolivia'\n",
    "closure['Country'][28]='Brunei'\n",
    "closure['Country'][53]='Democratic Republic of Congo'\n",
    "closure['Country'][37]='Central African Republic'\n",
    "closure['Country'][89]='Iran'\n",
    "closure['Country'][153]='Moldova'\n",
    "closure['Country'][155]='Russia'\n",
    "closure['Country'][152]='South Korea'\n",
    "closure['Country'][200]='Tanzania'\n",
    "closure['Country'][186]='Timor'\n",
    "closure['Country'][199]='United Kingdom'\n",
    "closure['Country'][201]='United States'\n",
    "closure['Country'][206]='Vietnam'\n",
    "closure['Country'][102]='Laos'\n",
    "closure['Country'][200]='Tanzania'"
   ]
  },
  {
   "cell_type": "code",
   "execution_count": 23,
   "id": "smooth-start",
   "metadata": {},
   "outputs": [
    {
     "data": {
      "text/html": [
       "<div>\n",
       "<style scoped>\n",
       "    .dataframe tbody tr th:only-of-type {\n",
       "        vertical-align: middle;\n",
       "    }\n",
       "\n",
       "    .dataframe tbody tr th {\n",
       "        vertical-align: top;\n",
       "    }\n",
       "\n",
       "    .dataframe thead th {\n",
       "        text-align: right;\n",
       "    }\n",
       "</style>\n",
       "<table border=\"1\" class=\"dataframe\">\n",
       "  <thead>\n",
       "    <tr style=\"text-align: right;\">\n",
       "      <th></th>\n",
       "      <th>Real GDP growth (Annual percent change)</th>\n",
       "      <th>Unnamed: 1</th>\n",
       "    </tr>\n",
       "  </thead>\n",
       "  <tbody>\n",
       "    <tr>\n",
       "      <th>0</th>\n",
       "      <td>Country</td>\n",
       "      <td>GDP change</td>\n",
       "    </tr>\n",
       "    <tr>\n",
       "      <th>1</th>\n",
       "      <td>Afghanistan</td>\n",
       "      <td>-5</td>\n",
       "    </tr>\n",
       "    <tr>\n",
       "      <th>2</th>\n",
       "      <td>Albania</td>\n",
       "      <td>-3.5</td>\n",
       "    </tr>\n",
       "    <tr>\n",
       "      <th>3</th>\n",
       "      <td>Algeria</td>\n",
       "      <td>-6</td>\n",
       "    </tr>\n",
       "    <tr>\n",
       "      <th>4</th>\n",
       "      <td>Angola</td>\n",
       "      <td>-4</td>\n",
       "    </tr>\n",
       "    <tr>\n",
       "      <th>...</th>\n",
       "      <td>...</td>\n",
       "      <td>...</td>\n",
       "    </tr>\n",
       "    <tr>\n",
       "      <th>225</th>\n",
       "      <td>Other advanced economies</td>\n",
       "      <td>-2.1</td>\n",
       "    </tr>\n",
       "    <tr>\n",
       "      <th>226</th>\n",
       "      <td>Sub-Saharan Africa</td>\n",
       "      <td>-1.9</td>\n",
       "    </tr>\n",
       "    <tr>\n",
       "      <th>227</th>\n",
       "      <td>World</td>\n",
       "      <td>-3.3</td>\n",
       "    </tr>\n",
       "    <tr>\n",
       "      <th>228</th>\n",
       "      <td>NaN</td>\n",
       "      <td>NaN</td>\n",
       "    </tr>\n",
       "    <tr>\n",
       "      <th>229</th>\n",
       "      <td>©IMF, 2021</td>\n",
       "      <td>NaN</td>\n",
       "    </tr>\n",
       "  </tbody>\n",
       "</table>\n",
       "<p>230 rows × 2 columns</p>\n",
       "</div>"
      ],
      "text/plain": [
       "    Real GDP growth (Annual percent change)  Unnamed: 1\n",
       "0                                   Country  GDP change\n",
       "1                               Afghanistan          -5\n",
       "2                                   Albania        -3.5\n",
       "3                                   Algeria          -6\n",
       "4                                    Angola          -4\n",
       "..                                      ...         ...\n",
       "225                Other advanced economies        -2.1\n",
       "226                      Sub-Saharan Africa        -1.9\n",
       "227                                   World        -3.3\n",
       "228                                     NaN         NaN\n",
       "229                              ©IMF, 2021         NaN\n",
       "\n",
       "[230 rows x 2 columns]"
      ]
     },
     "execution_count": 23,
     "metadata": {},
     "output_type": "execute_result"
    }
   ],
   "source": [
    "df_5=pd.read_csv('GDP change_subset.csv')\n",
    "df_5"
   ]
  },
  {
   "cell_type": "code",
   "execution_count": 24,
   "id": "heard-objective",
   "metadata": {},
   "outputs": [
    {
     "data": {
      "text/html": [
       "<div>\n",
       "<style scoped>\n",
       "    .dataframe tbody tr th:only-of-type {\n",
       "        vertical-align: middle;\n",
       "    }\n",
       "\n",
       "    .dataframe tbody tr th {\n",
       "        vertical-align: top;\n",
       "    }\n",
       "\n",
       "    .dataframe thead th {\n",
       "        text-align: right;\n",
       "    }\n",
       "</style>\n",
       "<table border=\"1\" class=\"dataframe\">\n",
       "  <thead>\n",
       "    <tr style=\"text-align: right;\">\n",
       "      <th></th>\n",
       "      <th>Country</th>\n",
       "      <th>change</th>\n",
       "    </tr>\n",
       "  </thead>\n",
       "  <tbody>\n",
       "    <tr>\n",
       "      <th>0</th>\n",
       "      <td>Afghanistan</td>\n",
       "      <td>-5</td>\n",
       "    </tr>\n",
       "    <tr>\n",
       "      <th>1</th>\n",
       "      <td>Albania</td>\n",
       "      <td>-3.5</td>\n",
       "    </tr>\n",
       "    <tr>\n",
       "      <th>2</th>\n",
       "      <td>Algeria</td>\n",
       "      <td>-6</td>\n",
       "    </tr>\n",
       "    <tr>\n",
       "      <th>3</th>\n",
       "      <td>Angola</td>\n",
       "      <td>-4</td>\n",
       "    </tr>\n",
       "    <tr>\n",
       "      <th>4</th>\n",
       "      <td>Antigua and Barbuda</td>\n",
       "      <td>-17.3</td>\n",
       "    </tr>\n",
       "    <tr>\n",
       "      <th>...</th>\n",
       "      <td>...</td>\n",
       "      <td>...</td>\n",
       "    </tr>\n",
       "    <tr>\n",
       "      <th>190</th>\n",
       "      <td>Vietnam</td>\n",
       "      <td>2.9</td>\n",
       "    </tr>\n",
       "    <tr>\n",
       "      <th>191</th>\n",
       "      <td>West Bank and Gaza</td>\n",
       "      <td>-11</td>\n",
       "    </tr>\n",
       "    <tr>\n",
       "      <th>192</th>\n",
       "      <td>Yemen</td>\n",
       "      <td>-5</td>\n",
       "    </tr>\n",
       "    <tr>\n",
       "      <th>193</th>\n",
       "      <td>Zambia</td>\n",
       "      <td>-3.5</td>\n",
       "    </tr>\n",
       "    <tr>\n",
       "      <th>194</th>\n",
       "      <td>Zimbabwe</td>\n",
       "      <td>-8</td>\n",
       "    </tr>\n",
       "  </tbody>\n",
       "</table>\n",
       "<p>195 rows × 2 columns</p>\n",
       "</div>"
      ],
      "text/plain": [
       "                 Country change\n",
       "0            Afghanistan     -5\n",
       "1                Albania   -3.5\n",
       "2                Algeria     -6\n",
       "3                 Angola     -4\n",
       "4    Antigua and Barbuda  -17.3\n",
       "..                   ...    ...\n",
       "190              Vietnam    2.9\n",
       "191   West Bank and Gaza    -11\n",
       "192                Yemen     -5\n",
       "193               Zambia   -3.5\n",
       "194             Zimbabwe     -8\n",
       "\n",
       "[195 rows x 2 columns]"
      ]
     },
     "execution_count": 24,
     "metadata": {},
     "output_type": "execute_result"
    }
   ],
   "source": [
    "gdp=df_5.iloc[1:196,:].reset_index().drop('index',axis=1)\n",
    "gdp.columns=['Country', 'change'] \n",
    "gdp"
   ]
  },
  {
   "cell_type": "code",
   "execution_count": 25,
   "id": "later-filing",
   "metadata": {},
   "outputs": [],
   "source": [
    "gdp['Country'][38]='Democratic Republic of Congo'\n",
    "gdp['Country'][39]='Congo'\n",
    "gdp['Country'][89]='South Korea'\n",
    "gdp['Country'][173]='Timor'\n",
    "gdp['Country'][93]='Laos'\n",
    "gdp['Country'][112]='Micronesia (country)'\n",
    "gdp['Country'][11]='Bahamas'\n",
    "gdp['Country'][24]='Brunei'\n",
    "gdp['Country'][35]='China'\n",
    "gdp['Country'][43]='Czechia'\n",
    "gdp['Country'][61]='Gambia'\n",
    "gdp['Country'][92]='Kyrgyzstan'\n",
    "gdp['Country'][160]='South Sudan'\n",
    "gdp['Country'][159]='Slovakia'\n",
    "gdp['Country'][142]='Russia'"
   ]
  },
  {
   "cell_type": "code",
   "execution_count": 26,
   "id": "flying-marble",
   "metadata": {},
   "outputs": [
    {
     "data": {
      "text/html": [
       "<div>\n",
       "<style scoped>\n",
       "    .dataframe tbody tr th:only-of-type {\n",
       "        vertical-align: middle;\n",
       "    }\n",
       "\n",
       "    .dataframe tbody tr th {\n",
       "        vertical-align: top;\n",
       "    }\n",
       "\n",
       "    .dataframe thead th {\n",
       "        text-align: right;\n",
       "    }\n",
       "</style>\n",
       "<table border=\"1\" class=\"dataframe\">\n",
       "  <thead>\n",
       "    <tr style=\"text-align: right;\">\n",
       "      <th></th>\n",
       "      <th>Country</th>\n",
       "      <th>case</th>\n",
       "    </tr>\n",
       "  </thead>\n",
       "  <tbody>\n",
       "    <tr>\n",
       "      <th>0</th>\n",
       "      <td>Afghanistan</td>\n",
       "      <td>1,549.00</td>\n",
       "    </tr>\n",
       "    <tr>\n",
       "      <th>1</th>\n",
       "      <td>Africa</td>\n",
       "      <td>3,415.53</td>\n",
       "    </tr>\n",
       "    <tr>\n",
       "      <th>2</th>\n",
       "      <td>Albania</td>\n",
       "      <td>45,616.79</td>\n",
       "    </tr>\n",
       "    <tr>\n",
       "      <th>3</th>\n",
       "      <td>Algeria</td>\n",
       "      <td>2,798.50</td>\n",
       "    </tr>\n",
       "    <tr>\n",
       "      <th>4</th>\n",
       "      <td>Andorra</td>\n",
       "      <td>172,070.15</td>\n",
       "    </tr>\n",
       "    <tr>\n",
       "      <th>...</th>\n",
       "      <td>...</td>\n",
       "      <td>...</td>\n",
       "    </tr>\n",
       "    <tr>\n",
       "      <th>193</th>\n",
       "      <td>Vietnam</td>\n",
       "      <td>30.67</td>\n",
       "    </tr>\n",
       "    <tr>\n",
       "      <th>194</th>\n",
       "      <td>World</td>\n",
       "      <td>19,699.22</td>\n",
       "    </tr>\n",
       "    <tr>\n",
       "      <th>195</th>\n",
       "      <td>Yemen</td>\n",
       "      <td>213.34</td>\n",
       "    </tr>\n",
       "    <tr>\n",
       "      <th>196</th>\n",
       "      <td>Zambia</td>\n",
       "      <td>4,989.24</td>\n",
       "    </tr>\n",
       "    <tr>\n",
       "      <th>197</th>\n",
       "      <td>Zimbabwe</td>\n",
       "      <td>2,576.41</td>\n",
       "    </tr>\n",
       "  </tbody>\n",
       "</table>\n",
       "<p>198 rows × 2 columns</p>\n",
       "</div>"
      ],
      "text/plain": [
       "         Country        case\n",
       "0    Afghanistan    1,549.00\n",
       "1         Africa    3,415.53\n",
       "2        Albania   45,616.79\n",
       "3        Algeria    2,798.50\n",
       "4        Andorra  172,070.15\n",
       "..           ...         ...\n",
       "193      Vietnam       30.67\n",
       "194        World   19,699.22\n",
       "195        Yemen      213.34\n",
       "196       Zambia    4,989.24\n",
       "197     Zimbabwe    2,576.41\n",
       "\n",
       "[198 rows x 2 columns]"
      ]
     },
     "execution_count": 26,
     "metadata": {},
     "output_type": "execute_result"
    }
   ],
   "source": [
    "df_6=pd.read_csv('case_data.csv')\n",
    "df_6"
   ]
  },
  {
   "cell_type": "code",
   "execution_count": 43,
   "id": "incorporate-century",
   "metadata": {},
   "outputs": [
    {
     "data": {
      "text/html": [
       "<div>\n",
       "<style scoped>\n",
       "    .dataframe tbody tr th:only-of-type {\n",
       "        vertical-align: middle;\n",
       "    }\n",
       "\n",
       "    .dataframe tbody tr th {\n",
       "        vertical-align: top;\n",
       "    }\n",
       "\n",
       "    .dataframe thead th {\n",
       "        text-align: right;\n",
       "    }\n",
       "</style>\n",
       "<table border=\"1\" class=\"dataframe\">\n",
       "  <thead>\n",
       "    <tr style=\"text-align: right;\">\n",
       "      <th></th>\n",
       "      <th>Country</th>\n",
       "      <th>Code</th>\n",
       "      <th>closure</th>\n",
       "      <th>case</th>\n",
       "      <th>change</th>\n",
       "      <th>internet</th>\n",
       "      <th>Region</th>\n",
       "      <th>Income Group</th>\n",
       "    </tr>\n",
       "  </thead>\n",
       "  <tbody>\n",
       "    <tr>\n",
       "      <th>0</th>\n",
       "      <td>Afghanistan</td>\n",
       "      <td>AFG</td>\n",
       "      <td>31</td>\n",
       "      <td>1,549.00</td>\n",
       "      <td>-5</td>\n",
       "      <td>10.595726</td>\n",
       "      <td>South Asia</td>\n",
       "      <td>Low income</td>\n",
       "    </tr>\n",
       "    <tr>\n",
       "      <th>1</th>\n",
       "      <td>Albania</td>\n",
       "      <td>ALB</td>\n",
       "      <td>24</td>\n",
       "      <td>45,616.79</td>\n",
       "      <td>-3.5</td>\n",
       "      <td>66.363445</td>\n",
       "      <td>Europe &amp; Central Asia</td>\n",
       "      <td>Upper middle income</td>\n",
       "    </tr>\n",
       "    <tr>\n",
       "      <th>2</th>\n",
       "      <td>Algeria</td>\n",
       "      <td>DZA</td>\n",
       "      <td>21</td>\n",
       "      <td>2,798.50</td>\n",
       "      <td>-6</td>\n",
       "      <td>42.945527</td>\n",
       "      <td>Middle East &amp; North Africa</td>\n",
       "      <td>Upper middle income</td>\n",
       "    </tr>\n",
       "    <tr>\n",
       "      <th>3</th>\n",
       "      <td>Angola</td>\n",
       "      <td>AGO</td>\n",
       "      <td>46</td>\n",
       "      <td>825.56</td>\n",
       "      <td>-4</td>\n",
       "      <td>13.000000</td>\n",
       "      <td>Sub-Saharan Africa</td>\n",
       "      <td>Lower middle income</td>\n",
       "    </tr>\n",
       "    <tr>\n",
       "      <th>4</th>\n",
       "      <td>Antigua and Barbuda</td>\n",
       "      <td>ATG</td>\n",
       "      <td>41</td>\n",
       "      <td>12,580.67</td>\n",
       "      <td>-17.3</td>\n",
       "      <td>73.000000</td>\n",
       "      <td>Latin America &amp; Caribbean</td>\n",
       "      <td>High income</td>\n",
       "    </tr>\n",
       "    <tr>\n",
       "      <th>...</th>\n",
       "      <td>...</td>\n",
       "      <td>...</td>\n",
       "      <td>...</td>\n",
       "      <td>...</td>\n",
       "      <td>...</td>\n",
       "      <td>...</td>\n",
       "      <td>...</td>\n",
       "      <td>...</td>\n",
       "    </tr>\n",
       "    <tr>\n",
       "      <th>169</th>\n",
       "      <td>Venezuela</td>\n",
       "      <td>VEN</td>\n",
       "      <td>38</td>\n",
       "      <td>7,066.09</td>\n",
       "      <td>-30</td>\n",
       "      <td>60.000000</td>\n",
       "      <td>Latin America &amp; Caribbean</td>\n",
       "      <td>Upper middle income</td>\n",
       "    </tr>\n",
       "    <tr>\n",
       "      <th>170</th>\n",
       "      <td>Vietnam</td>\n",
       "      <td>VNM</td>\n",
       "      <td>14</td>\n",
       "      <td>30.67</td>\n",
       "      <td>2.9</td>\n",
       "      <td>46.500000</td>\n",
       "      <td>East Asia &amp; Pacific</td>\n",
       "      <td>Lower middle income</td>\n",
       "    </tr>\n",
       "    <tr>\n",
       "      <th>171</th>\n",
       "      <td>Yemen</td>\n",
       "      <td>YEM</td>\n",
       "      <td>19</td>\n",
       "      <td>213.34</td>\n",
       "      <td>-5</td>\n",
       "      <td>24.579208</td>\n",
       "      <td>Middle East &amp; North Africa</td>\n",
       "      <td>Low income</td>\n",
       "    </tr>\n",
       "    <tr>\n",
       "      <th>172</th>\n",
       "      <td>Zambia</td>\n",
       "      <td>ZMB</td>\n",
       "      <td>18</td>\n",
       "      <td>4,989.24</td>\n",
       "      <td>-3.5</td>\n",
       "      <td>25.506579</td>\n",
       "      <td>Sub-Saharan Africa</td>\n",
       "      <td>Lower middle income</td>\n",
       "    </tr>\n",
       "    <tr>\n",
       "      <th>173</th>\n",
       "      <td>Zimbabwe</td>\n",
       "      <td>ZWE</td>\n",
       "      <td>34</td>\n",
       "      <td>2,576.41</td>\n",
       "      <td>-8</td>\n",
       "      <td>23.119989</td>\n",
       "      <td>Sub-Saharan Africa</td>\n",
       "      <td>Lower middle income</td>\n",
       "    </tr>\n",
       "  </tbody>\n",
       "</table>\n",
       "<p>174 rows × 8 columns</p>\n",
       "</div>"
      ],
      "text/plain": [
       "                 Country Code closure       case change   internet  \\\n",
       "0            Afghanistan  AFG      31   1,549.00     -5  10.595726   \n",
       "1                Albania  ALB      24  45,616.79   -3.5  66.363445   \n",
       "2                Algeria  DZA      21   2,798.50     -6  42.945527   \n",
       "3                 Angola  AGO      46     825.56     -4  13.000000   \n",
       "4    Antigua and Barbuda  ATG      41  12,580.67  -17.3  73.000000   \n",
       "..                   ...  ...     ...        ...    ...        ...   \n",
       "169            Venezuela  VEN      38   7,066.09    -30  60.000000   \n",
       "170              Vietnam  VNM      14      30.67    2.9  46.500000   \n",
       "171                Yemen  YEM      19     213.34     -5  24.579208   \n",
       "172               Zambia  ZMB      18   4,989.24   -3.5  25.506579   \n",
       "173             Zimbabwe  ZWE      34   2,576.41     -8  23.119989   \n",
       "\n",
       "                         Region         Income Group  \n",
       "0                    South Asia           Low income  \n",
       "1         Europe & Central Asia  Upper middle income  \n",
       "2    Middle East & North Africa  Upper middle income  \n",
       "3            Sub-Saharan Africa  Lower middle income  \n",
       "4     Latin America & Caribbean          High income  \n",
       "..                          ...                  ...  \n",
       "169   Latin America & Caribbean  Upper middle income  \n",
       "170         East Asia & Pacific  Lower middle income  \n",
       "171  Middle East & North Africa           Low income  \n",
       "172          Sub-Saharan Africa  Lower middle income  \n",
       "173          Sub-Saharan Africa  Lower middle income  \n",
       "\n",
       "[174 rows x 8 columns]"
      ]
     },
     "execution_count": 43,
     "metadata": {},
     "output_type": "execute_result"
    }
   ],
   "source": [
    "df=pd.merge(closure,df_6,on=['Country'])\n",
    "df1=pd.merge(df,gdp,on=['Country'])\n",
    "df2=pd.merge(df1,internet,on=['Country'])\n",
    "df3=pd.merge(df2,income,on=['Code'])\n",
    "df3=df3.drop('Country_y',axis=1)\n",
    "df3=df3.rename(columns={'Country_x':'Country'})\n",
    "df3"
   ]
  },
  {
   "cell_type": "code",
   "execution_count": 44,
   "id": "subtle-education",
   "metadata": {},
   "outputs": [],
   "source": [
    "df3['change']=df3.change.apply(lambda x: float(x))\n",
    "df3['closure']=df3.closure.apply(lambda x: float(x))\n",
    "df3['case']=df3.case.apply(lambda x: float(x.replace(',','')))\n",
    "df3['Log(Cases)']=np.log(df3['case'])"
   ]
  },
  {
   "cell_type": "code",
   "execution_count": 92,
   "id": "patent-orlando",
   "metadata": {},
   "outputs": [
    {
     "data": {
      "application/vnd.plotly.v1+json": {
       "config": {
        "plotlyServerURL": "https://plotly.com"
       },
       "data": [
        {
         "hovertemplate": "<b>%{hovertext}</b><br><br>School Closure Weeks=%{x}<br>%Change in GDP=%{y}<br>Log(Cases)=%{marker.color}<extra></extra>",
         "hovertext": [
          "Afghanistan",
          "Albania",
          "Algeria",
          "Angola",
          "Antigua and Barbuda",
          "Argentina",
          "Armenia",
          "Australia",
          "Austria",
          "Azerbaijan",
          "Bahamas",
          "Bahrain",
          "Bangladesh",
          "Barbados",
          "Belarus",
          "Belgium",
          "Belize",
          "Benin",
          "Bhutan",
          "Bolivia",
          "Bosnia and Herzegovina",
          "Botswana",
          "Brazil",
          "Brunei",
          "Bulgaria",
          "Burkina Faso",
          "Burundi",
          "Cambodia",
          "Cameroon",
          "Canada",
          "Central African Republic",
          "Chad",
          "Chile",
          "China",
          "Colombia",
          "Comoros",
          "Congo",
          "Costa Rica",
          "Croatia",
          "Cyprus",
          "Czechia",
          "Democratic Republic of Congo",
          "Denmark",
          "Djibouti",
          "Dominica",
          "Dominican Republic",
          "Ecuador",
          "Egypt",
          "El Salvador",
          "Equatorial Guinea",
          "Eritrea",
          "Estonia",
          "Eswatini",
          "Ethiopia",
          "Fiji",
          "Finland",
          "France",
          "Gabon",
          "Gambia",
          "Georgia",
          "Germany",
          "Ghana",
          "Greece",
          "Grenada",
          "Guatemala",
          "Guinea",
          "Guinea-Bissau",
          "Guyana",
          "Haiti",
          "Honduras",
          "Hungary",
          "Iceland",
          "India",
          "Indonesia",
          "Iran",
          "Iraq",
          "Ireland",
          "Israel",
          "Italy",
          "Jamaica",
          "Japan",
          "Jordan",
          "Kazakhstan",
          "Kenya",
          "Kuwait",
          "Kyrgyzstan",
          "Laos",
          "Latvia",
          "Lebanon",
          "Lesotho",
          "Liberia",
          "Libya",
          "Lithuania",
          "Luxembourg",
          "Madagascar",
          "Malawi",
          "Malaysia",
          "Maldives",
          "Mali",
          "Malta",
          "Marshall Islands",
          "Mauritania",
          "Mauritius",
          "Mexico",
          "Mongolia",
          "Montenegro",
          "Morocco",
          "Mozambique",
          "Myanmar",
          "Namibia",
          "Nepal",
          "Netherlands",
          "New Zealand",
          "Nicaragua",
          "Niger",
          "Nigeria",
          "Norway",
          "Oman",
          "Pakistan",
          "Panama",
          "Papua New Guinea",
          "Paraguay",
          "Peru",
          "Philippines",
          "Poland",
          "Portugal",
          "Qatar",
          "South Korea",
          "Moldova",
          "Romania",
          "Russia",
          "Rwanda",
          "Saint Kitts and Nevis",
          "Saint Lucia",
          "Saint Vincent and the Grenadines",
          "Samoa",
          "Saudi Arabia",
          "Senegal",
          "Serbia",
          "Seychelles",
          "Sierra Leone",
          "Singapore",
          "Slovakia",
          "Slovenia",
          "Solomon Islands",
          "Somalia",
          "South Sudan",
          "Spain",
          "Sri Lanka",
          "Sudan",
          "Suriname",
          "Sweden",
          "Switzerland",
          "Tajikistan",
          "Thailand",
          "Timor",
          "Togo",
          "Trinidad and Tobago",
          "Tunisia",
          "Turkey",
          "Uganda",
          "Ukraine",
          "United Arab Emirates",
          "United Kingdom",
          "Tanzania",
          "United States",
          "Uruguay",
          "Uzbekistan",
          "Vanuatu",
          "Venezuela",
          "Vietnam",
          "Yemen",
          "Zambia",
          "Zimbabwe"
         ],
         "legendgroup": "",
         "marker": {
          "color": [
           7.3453648404168685,
           10.728031129487233,
           7.936838838331414,
           6.716061943941175,
           9.439916787977708,
           11.110154075542049,
           11.201408245532681,
           7.0652631741929195,
           11.144688942816181,
           10.365272500757332,
           10.199657376892748,
           11.571716500912691,
           8.441844449826382,
           9.510829334991135,
           10.553172015350027,
           11.362292208416926,
           10.369563792173656,
           6.477464549438317,
           7.279463652514325,
           10.18376389513981,
           11.010255989216121,
           9.920740854631054,
           11.149532146063484,
           6.251672642559008,
           10.975159349859762,
           6.457413090595657,
           5.829710031253992,
           6.823046703055171,
           7.909011964058885,
           10.409324252290125,
           7.190969887159265,
           5.683341643751415,
           11.060388560452727,
           4.26619481914876,
           10.952504753170492,
           8.394256900519053,
           7.599070783046446,
           10.82748411806508,
           11.311171761043843,
           11.243623177989754,
           11.935837486682113,
           5.81416038212581,
           10.69002466130594,
           9.335828756151175,
           7.79026996854536,
           10.113579501020663,
           9.998536789206845,
           7.720683497861139,
           9.282665684707784,
           8.609593687648568,
           6.94282315024263,
           11.436902799421981,
           9.674799911116438,
           7.71924533845698,
           4.9051266193152605,
           9.665496825369658,
           11.337305561846863,
           9.251866118804681,
           7.800490751234755,
           11.270227083155676,
           10.622213050894734,
           8.000604325361136,
           10.417568173047748,
           7.259805545566668,
           9.45524384951295,
           7.438707007131717,
           7.548756169878532,
           9.755261868536284,
           7.046072700278037,
           9.982948244717656,
           11.304275990202617,
           9.852078461970775,
           9.595443576422293,
           8.72410816888934,
           10.323059686990973,
           10.198043073624824,
           10.83345650950825,
           11.481314460401236,
           11.112389986248466,
           9.65166285123094,
           8.480543729760768,
           11.156184947453024,
           9.923601405906252,
           8.001676582162123,
           11.08302615837989,
           9.600090646363821,
           4.8886183079078105,
           11.060289972640506,
           11.257059580222235,
           8.519221133750474,
           6.033541753520077,
           10.164067533809005,
           11.429089513702896,
           11.588252022918027,
           7.217656175022513,
           7.485766542174537,
           9.464960109476916,
           10.967514262531974,
           6.534108554260492,
           11.138172522850073,
           4.213164097564083,
           8.28743279699972,
           6.858796100530596,
           9.810592354314945,
           9.419163473361719,
           11.954957447401624,
           9.537410691623556,
           7.71405702254782,
           7.872950454209895,
           9.8599645176551,
           9.374701603393145,
           11.408443452204601,
           6.298838946655453,
           6.948206004590618,
           5.381462947634706,
           6.686347719960977,
           9.95320776027141,
           10.559913174453007,
           8.240527547999623,
           11.346427925407102,
           7.13786649961194,
           10.593657304952815,
           10.915460940291325,
           9.179211868397855,
           11.21364236000663,
           11.31606034134742,
           11.185171672027785,
           7.7931124640863665,
           11.039963865240116,
           10.915338432969815,
           10.396132912262688,
           7.577725947090867,
           6.740507539205393,
           10.119915806628628,
           9.738792728083196,
           2.716018370751387,
           9.39871026730434,
           7.790133424636972,
           11.531430878699569,
           11.079150075893367,
           6.232860505139277,
           9.255974131365639,
           11.159002017904063,
           11.664355160560893,
           3.3714252233284854,
           6.774829417272474,
           6.853446917528793,
           11.234842242467526,
           8.577098495762352,
           6.651713982354847,
           9.79657138303163,
           11.476296749686218,
           11.24787208807872,
           7.240871891789988,
           6.925153056158558,
           7.557149089402108,
           7.359785856237623,
           9.01146861301261,
           10.183473712273448,
           10.969925245756734,
           6.82178336156717,
           10.79858753812257,
           10.880668470961282,
           11.087772975924768,
           2.1424163408412245,
           11.493748863678872,
           10.9812351801498,
           7.918981575046404,
           2.5664866367804233,
           8.86306256488864,
           3.4232849781261603,
           5.362887137197337,
           8.51503887253682,
           7.854152236050081
          ],
          "coloraxis": "coloraxis",
          "line": {
           "color": "black",
           "width": 0.5
          },
          "opacity": 0.8,
          "size": 12,
          "symbol": "circle"
         },
         "mode": "markers",
         "name": "",
         "orientation": "v",
         "showlegend": false,
         "type": "scatter",
         "x": [
          31,
          24,
          21,
          46,
          41,
          46,
          12,
          27,
          27,
          37,
          41,
          44,
          47,
          31,
          0,
          15,
          38,
          15,
          49,
          47,
          38,
          20,
          44,
          17,
          32,
          14,
          0,
          29,
          18,
          40,
          23,
          28,
          44,
          27,
          43,
          35,
          26,
          46,
          10,
          25,
          38,
          33,
          23,
          7,
          17,
          32,
          44,
          19,
          45,
          22,
          49,
          16,
          49,
          31,
          13,
          23,
          10,
          21,
          28,
          32,
          28,
          40,
          32,
          45,
          45,
          22,
          23,
          45,
          31,
          46,
          33,
          6,
          51,
          48,
          45,
          50,
          26,
          33,
          35,
          37,
          11,
          42,
          36,
          37,
          42,
          38,
          19,
          36,
          37,
          41,
          37,
          40,
          29,
          15,
          16,
          26,
          35,
          16,
          17,
          19,
          2,
          23,
          8,
          44,
          34,
          36,
          21,
          45,
          48,
          25,
          53,
          22,
          9,
          15,
          16,
          24,
          19,
          26,
          33,
          46,
          6,
          40,
          42,
          34,
          35,
          21,
          41,
          41,
          16,
          32,
          13,
          47,
          11,
          40,
          28,
          4,
          41,
          22,
          34,
          19,
          14,
          11,
          37,
          34,
          7,
          15,
          49,
          15,
          43,
          22,
          20,
          23,
          6,
          0,
          25,
          11,
          14,
          40,
          28,
          38,
          50,
          19,
          42,
          27,
          15,
          47,
          27,
          12,
          4,
          38,
          14,
          19,
          18,
          34
         ],
         "xaxis": "x",
         "y": [
          -5,
          -3.5,
          -6,
          -4,
          -17.3,
          -10,
          -7.6,
          -2.4,
          -6.6,
          -4.3,
          -16.3,
          -5.4,
          3.8,
          -17.6,
          -0.9,
          -6.4,
          -14.1,
          2,
          -0.8,
          -7.7,
          -5.5,
          -8.3,
          -4.1,
          1.2,
          -3.8,
          0.8,
          -1.3,
          -3.5,
          -2.8,
          -5.4,
          0,
          -0.9,
          -5.8,
          2.3,
          -6.8,
          -0.5,
          -7.8,
          -4.8,
          -9,
          -5.1,
          -5.6,
          -0.1,
          -3.3,
          -1,
          -10.4,
          -6.7,
          -7.5,
          3.6,
          -8.6,
          -5.8,
          -0.6,
          -2.9,
          -3.3,
          6.1,
          -19,
          -2.9,
          -8.2,
          -1.8,
          0,
          -6.1,
          -4.9,
          0.9,
          -8.2,
          -13.5,
          -1.5,
          5.2,
          -2.4,
          43.4,
          -3.7,
          -8,
          -5,
          -6.6,
          -8,
          -2.1,
          1.5,
          -10.9,
          2.5,
          -2.4,
          -8.9,
          -10.2,
          -4.8,
          -2,
          -2.6,
          -0.1,
          -8.1,
          -8,
          -0.4,
          -3.6,
          -25,
          -4.5,
          -3,
          -59.7,
          -0.8,
          -1.3,
          -4.2,
          0.6,
          -5.6,
          -32.2,
          -2,
          -7,
          -3.3,
          -2.2,
          -15.8,
          -8.2,
          -5.3,
          -15.2,
          -7,
          -0.5,
          3.2,
          -7.2,
          -1.9,
          -3.8,
          -3,
          -3,
          1.2,
          -1.8,
          -0.8,
          -6.4,
          -0.4,
          -17.9,
          -3.9,
          -0.9,
          -11.1,
          -9.5,
          -2.7,
          -7.6,
          -2.6,
          -1,
          -7.5,
          -3.9,
          -3.1,
          -0.2,
          -18.7,
          -18.9,
          -4.2,
          -3.2,
          -4.1,
          0.8,
          -1,
          -13.4,
          -2.2,
          -5.4,
          -7,
          -5.5,
          -4.3,
          -1.5,
          -6.6,
          -11,
          -3.6,
          -3.6,
          -13.5,
          -2.8,
          -3,
          4.5,
          -6.1,
          -6.8,
          0.7,
          -7.8,
          -8.8,
          1.8,
          -2.1,
          -4.2,
          -5.9,
          -9.9,
          1,
          -3.5,
          -5.7,
          1.6,
          -9.2,
          -30,
          2.9,
          -5,
          -3.5,
          -8
         ],
         "yaxis": "y"
        }
       ],
       "layout": {
        "annotations": [
         {
          "arrowhead": 1,
          "showarrow": true,
          "text": "Guyana",
          "x": 45,
          "y": 43.4
         },
         {
          "arrowhead": 1,
          "showarrow": true,
          "text": "Libya",
          "x": 40,
          "y": -59.7
         },
         {
          "arrowhead": 1,
          "showarrow": true,
          "text": "China",
          "x": 27,
          "y": 2.3
         },
         {
          "arrowhead": 1,
          "showarrow": true,
          "text": "Switzerland",
          "x": 6,
          "y": -3
         },
         {
          "arrowhead": 1,
          "showarrow": true,
          "text": "Fiji",
          "x": 13,
          "y": -19
         },
         {
          "arrowhead": 1,
          "showarrow": true,
          "text": "Uganda",
          "x": 50,
          "y": -2.1
         },
         {
          "arrowhead": 1,
          "showarrow": true,
          "text": "Maldives",
          "x": 16,
          "y": -32.2
         }
        ],
        "coloraxis": {
         "colorbar": {
          "title": {
           "text": "Log(Cases)"
          }
         },
         "colorscale": [
          [
           0,
           "rgb(5,48,97)"
          ],
          [
           0.1,
           "rgb(33,102,172)"
          ],
          [
           0.2,
           "rgb(67,147,195)"
          ],
          [
           0.3,
           "rgb(146,197,222)"
          ],
          [
           0.4,
           "rgb(209,229,240)"
          ],
          [
           0.5,
           "rgb(247,247,247)"
          ],
          [
           0.6,
           "rgb(253,219,199)"
          ],
          [
           0.7,
           "rgb(244,165,130)"
          ],
          [
           0.8,
           "rgb(214,96,77)"
          ],
          [
           0.9,
           "rgb(178,24,43)"
          ],
          [
           1,
           "rgb(103,0,31)"
          ]
         ]
        },
        "height": 1000,
        "legend": {
         "tracegroupgap": 0
        },
        "template": {
         "data": {
          "bar": [
           {
            "error_x": {
             "color": "#2a3f5f"
            },
            "error_y": {
             "color": "#2a3f5f"
            },
            "marker": {
             "line": {
              "color": "white",
              "width": 0.5
             }
            },
            "type": "bar"
           }
          ],
          "barpolar": [
           {
            "marker": {
             "line": {
              "color": "white",
              "width": 0.5
             }
            },
            "type": "barpolar"
           }
          ],
          "carpet": [
           {
            "aaxis": {
             "endlinecolor": "#2a3f5f",
             "gridcolor": "#C8D4E3",
             "linecolor": "#C8D4E3",
             "minorgridcolor": "#C8D4E3",
             "startlinecolor": "#2a3f5f"
            },
            "baxis": {
             "endlinecolor": "#2a3f5f",
             "gridcolor": "#C8D4E3",
             "linecolor": "#C8D4E3",
             "minorgridcolor": "#C8D4E3",
             "startlinecolor": "#2a3f5f"
            },
            "type": "carpet"
           }
          ],
          "choropleth": [
           {
            "colorbar": {
             "outlinewidth": 0,
             "ticks": ""
            },
            "type": "choropleth"
           }
          ],
          "contour": [
           {
            "colorbar": {
             "outlinewidth": 0,
             "ticks": ""
            },
            "colorscale": [
             [
              0,
              "#0d0887"
             ],
             [
              0.1111111111111111,
              "#46039f"
             ],
             [
              0.2222222222222222,
              "#7201a8"
             ],
             [
              0.3333333333333333,
              "#9c179e"
             ],
             [
              0.4444444444444444,
              "#bd3786"
             ],
             [
              0.5555555555555556,
              "#d8576b"
             ],
             [
              0.6666666666666666,
              "#ed7953"
             ],
             [
              0.7777777777777778,
              "#fb9f3a"
             ],
             [
              0.8888888888888888,
              "#fdca26"
             ],
             [
              1,
              "#f0f921"
             ]
            ],
            "type": "contour"
           }
          ],
          "contourcarpet": [
           {
            "colorbar": {
             "outlinewidth": 0,
             "ticks": ""
            },
            "type": "contourcarpet"
           }
          ],
          "heatmap": [
           {
            "colorbar": {
             "outlinewidth": 0,
             "ticks": ""
            },
            "colorscale": [
             [
              0,
              "#0d0887"
             ],
             [
              0.1111111111111111,
              "#46039f"
             ],
             [
              0.2222222222222222,
              "#7201a8"
             ],
             [
              0.3333333333333333,
              "#9c179e"
             ],
             [
              0.4444444444444444,
              "#bd3786"
             ],
             [
              0.5555555555555556,
              "#d8576b"
             ],
             [
              0.6666666666666666,
              "#ed7953"
             ],
             [
              0.7777777777777778,
              "#fb9f3a"
             ],
             [
              0.8888888888888888,
              "#fdca26"
             ],
             [
              1,
              "#f0f921"
             ]
            ],
            "type": "heatmap"
           }
          ],
          "heatmapgl": [
           {
            "colorbar": {
             "outlinewidth": 0,
             "ticks": ""
            },
            "colorscale": [
             [
              0,
              "#0d0887"
             ],
             [
              0.1111111111111111,
              "#46039f"
             ],
             [
              0.2222222222222222,
              "#7201a8"
             ],
             [
              0.3333333333333333,
              "#9c179e"
             ],
             [
              0.4444444444444444,
              "#bd3786"
             ],
             [
              0.5555555555555556,
              "#d8576b"
             ],
             [
              0.6666666666666666,
              "#ed7953"
             ],
             [
              0.7777777777777778,
              "#fb9f3a"
             ],
             [
              0.8888888888888888,
              "#fdca26"
             ],
             [
              1,
              "#f0f921"
             ]
            ],
            "type": "heatmapgl"
           }
          ],
          "histogram": [
           {
            "marker": {
             "colorbar": {
              "outlinewidth": 0,
              "ticks": ""
             }
            },
            "type": "histogram"
           }
          ],
          "histogram2d": [
           {
            "colorbar": {
             "outlinewidth": 0,
             "ticks": ""
            },
            "colorscale": [
             [
              0,
              "#0d0887"
             ],
             [
              0.1111111111111111,
              "#46039f"
             ],
             [
              0.2222222222222222,
              "#7201a8"
             ],
             [
              0.3333333333333333,
              "#9c179e"
             ],
             [
              0.4444444444444444,
              "#bd3786"
             ],
             [
              0.5555555555555556,
              "#d8576b"
             ],
             [
              0.6666666666666666,
              "#ed7953"
             ],
             [
              0.7777777777777778,
              "#fb9f3a"
             ],
             [
              0.8888888888888888,
              "#fdca26"
             ],
             [
              1,
              "#f0f921"
             ]
            ],
            "type": "histogram2d"
           }
          ],
          "histogram2dcontour": [
           {
            "colorbar": {
             "outlinewidth": 0,
             "ticks": ""
            },
            "colorscale": [
             [
              0,
              "#0d0887"
             ],
             [
              0.1111111111111111,
              "#46039f"
             ],
             [
              0.2222222222222222,
              "#7201a8"
             ],
             [
              0.3333333333333333,
              "#9c179e"
             ],
             [
              0.4444444444444444,
              "#bd3786"
             ],
             [
              0.5555555555555556,
              "#d8576b"
             ],
             [
              0.6666666666666666,
              "#ed7953"
             ],
             [
              0.7777777777777778,
              "#fb9f3a"
             ],
             [
              0.8888888888888888,
              "#fdca26"
             ],
             [
              1,
              "#f0f921"
             ]
            ],
            "type": "histogram2dcontour"
           }
          ],
          "mesh3d": [
           {
            "colorbar": {
             "outlinewidth": 0,
             "ticks": ""
            },
            "type": "mesh3d"
           }
          ],
          "parcoords": [
           {
            "line": {
             "colorbar": {
              "outlinewidth": 0,
              "ticks": ""
             }
            },
            "type": "parcoords"
           }
          ],
          "pie": [
           {
            "automargin": true,
            "type": "pie"
           }
          ],
          "scatter": [
           {
            "marker": {
             "colorbar": {
              "outlinewidth": 0,
              "ticks": ""
             }
            },
            "type": "scatter"
           }
          ],
          "scatter3d": [
           {
            "line": {
             "colorbar": {
              "outlinewidth": 0,
              "ticks": ""
             }
            },
            "marker": {
             "colorbar": {
              "outlinewidth": 0,
              "ticks": ""
             }
            },
            "type": "scatter3d"
           }
          ],
          "scattercarpet": [
           {
            "marker": {
             "colorbar": {
              "outlinewidth": 0,
              "ticks": ""
             }
            },
            "type": "scattercarpet"
           }
          ],
          "scattergeo": [
           {
            "marker": {
             "colorbar": {
              "outlinewidth": 0,
              "ticks": ""
             }
            },
            "type": "scattergeo"
           }
          ],
          "scattergl": [
           {
            "marker": {
             "colorbar": {
              "outlinewidth": 0,
              "ticks": ""
             }
            },
            "type": "scattergl"
           }
          ],
          "scattermapbox": [
           {
            "marker": {
             "colorbar": {
              "outlinewidth": 0,
              "ticks": ""
             }
            },
            "type": "scattermapbox"
           }
          ],
          "scatterpolar": [
           {
            "marker": {
             "colorbar": {
              "outlinewidth": 0,
              "ticks": ""
             }
            },
            "type": "scatterpolar"
           }
          ],
          "scatterpolargl": [
           {
            "marker": {
             "colorbar": {
              "outlinewidth": 0,
              "ticks": ""
             }
            },
            "type": "scatterpolargl"
           }
          ],
          "scatterternary": [
           {
            "marker": {
             "colorbar": {
              "outlinewidth": 0,
              "ticks": ""
             }
            },
            "type": "scatterternary"
           }
          ],
          "surface": [
           {
            "colorbar": {
             "outlinewidth": 0,
             "ticks": ""
            },
            "colorscale": [
             [
              0,
              "#0d0887"
             ],
             [
              0.1111111111111111,
              "#46039f"
             ],
             [
              0.2222222222222222,
              "#7201a8"
             ],
             [
              0.3333333333333333,
              "#9c179e"
             ],
             [
              0.4444444444444444,
              "#bd3786"
             ],
             [
              0.5555555555555556,
              "#d8576b"
             ],
             [
              0.6666666666666666,
              "#ed7953"
             ],
             [
              0.7777777777777778,
              "#fb9f3a"
             ],
             [
              0.8888888888888888,
              "#fdca26"
             ],
             [
              1,
              "#f0f921"
             ]
            ],
            "type": "surface"
           }
          ],
          "table": [
           {
            "cells": {
             "fill": {
              "color": "#EBF0F8"
             },
             "line": {
              "color": "white"
             }
            },
            "header": {
             "fill": {
              "color": "#C8D4E3"
             },
             "line": {
              "color": "white"
             }
            },
            "type": "table"
           }
          ]
         },
         "layout": {
          "annotationdefaults": {
           "arrowcolor": "#2a3f5f",
           "arrowhead": 0,
           "arrowwidth": 1
          },
          "autotypenumbers": "strict",
          "coloraxis": {
           "colorbar": {
            "outlinewidth": 0,
            "ticks": ""
           }
          },
          "colorscale": {
           "diverging": [
            [
             0,
             "#8e0152"
            ],
            [
             0.1,
             "#c51b7d"
            ],
            [
             0.2,
             "#de77ae"
            ],
            [
             0.3,
             "#f1b6da"
            ],
            [
             0.4,
             "#fde0ef"
            ],
            [
             0.5,
             "#f7f7f7"
            ],
            [
             0.6,
             "#e6f5d0"
            ],
            [
             0.7,
             "#b8e186"
            ],
            [
             0.8,
             "#7fbc41"
            ],
            [
             0.9,
             "#4d9221"
            ],
            [
             1,
             "#276419"
            ]
           ],
           "sequential": [
            [
             0,
             "#0d0887"
            ],
            [
             0.1111111111111111,
             "#46039f"
            ],
            [
             0.2222222222222222,
             "#7201a8"
            ],
            [
             0.3333333333333333,
             "#9c179e"
            ],
            [
             0.4444444444444444,
             "#bd3786"
            ],
            [
             0.5555555555555556,
             "#d8576b"
            ],
            [
             0.6666666666666666,
             "#ed7953"
            ],
            [
             0.7777777777777778,
             "#fb9f3a"
            ],
            [
             0.8888888888888888,
             "#fdca26"
            ],
            [
             1,
             "#f0f921"
            ]
           ],
           "sequentialminus": [
            [
             0,
             "#0d0887"
            ],
            [
             0.1111111111111111,
             "#46039f"
            ],
            [
             0.2222222222222222,
             "#7201a8"
            ],
            [
             0.3333333333333333,
             "#9c179e"
            ],
            [
             0.4444444444444444,
             "#bd3786"
            ],
            [
             0.5555555555555556,
             "#d8576b"
            ],
            [
             0.6666666666666666,
             "#ed7953"
            ],
            [
             0.7777777777777778,
             "#fb9f3a"
            ],
            [
             0.8888888888888888,
             "#fdca26"
            ],
            [
             1,
             "#f0f921"
            ]
           ]
          },
          "colorway": [
           "#636efa",
           "#EF553B",
           "#00cc96",
           "#ab63fa",
           "#FFA15A",
           "#19d3f3",
           "#FF6692",
           "#B6E880",
           "#FF97FF",
           "#FECB52"
          ],
          "font": {
           "color": "#2a3f5f"
          },
          "geo": {
           "bgcolor": "white",
           "lakecolor": "white",
           "landcolor": "white",
           "showlakes": true,
           "showland": true,
           "subunitcolor": "#C8D4E3"
          },
          "hoverlabel": {
           "align": "left"
          },
          "hovermode": "closest",
          "mapbox": {
           "style": "light"
          },
          "paper_bgcolor": "white",
          "plot_bgcolor": "white",
          "polar": {
           "angularaxis": {
            "gridcolor": "#EBF0F8",
            "linecolor": "#EBF0F8",
            "ticks": ""
           },
           "bgcolor": "white",
           "radialaxis": {
            "gridcolor": "#EBF0F8",
            "linecolor": "#EBF0F8",
            "ticks": ""
           }
          },
          "scene": {
           "xaxis": {
            "backgroundcolor": "white",
            "gridcolor": "#DFE8F3",
            "gridwidth": 2,
            "linecolor": "#EBF0F8",
            "showbackground": true,
            "ticks": "",
            "zerolinecolor": "#EBF0F8"
           },
           "yaxis": {
            "backgroundcolor": "white",
            "gridcolor": "#DFE8F3",
            "gridwidth": 2,
            "linecolor": "#EBF0F8",
            "showbackground": true,
            "ticks": "",
            "zerolinecolor": "#EBF0F8"
           },
           "zaxis": {
            "backgroundcolor": "white",
            "gridcolor": "#DFE8F3",
            "gridwidth": 2,
            "linecolor": "#EBF0F8",
            "showbackground": true,
            "ticks": "",
            "zerolinecolor": "#EBF0F8"
           }
          },
          "shapedefaults": {
           "line": {
            "color": "#2a3f5f"
           }
          },
          "ternary": {
           "aaxis": {
            "gridcolor": "#DFE8F3",
            "linecolor": "#A2B1C6",
            "ticks": ""
           },
           "baxis": {
            "gridcolor": "#DFE8F3",
            "linecolor": "#A2B1C6",
            "ticks": ""
           },
           "bgcolor": "white",
           "caxis": {
            "gridcolor": "#DFE8F3",
            "linecolor": "#A2B1C6",
            "ticks": ""
           }
          },
          "title": {
           "x": 0.05
          },
          "xaxis": {
           "automargin": true,
           "gridcolor": "#EBF0F8",
           "linecolor": "#EBF0F8",
           "ticks": "",
           "title": {
            "standoff": 15
           },
           "zerolinecolor": "#EBF0F8",
           "zerolinewidth": 2
          },
          "yaxis": {
           "automargin": true,
           "gridcolor": "#EBF0F8",
           "linecolor": "#EBF0F8",
           "ticks": "",
           "title": {
            "standoff": 15
           },
           "zerolinecolor": "#EBF0F8",
           "zerolinewidth": 2
          }
         }
        },
        "title": {
         "text": "%Change in GDP vs. School Closure Weeks, Color=Total Covid Cases(per 1M population)"
        },
        "width": 1600,
        "xaxis": {
         "anchor": "y",
         "domain": [
          0,
          1
         ],
         "title": {
          "text": "School Closure Weeks"
         }
        },
        "yaxis": {
         "anchor": "x",
         "domain": [
          0,
          1
         ],
         "title": {
          "text": "%Change in GDP"
         }
        }
       }
      },
      "text/html": [
       "<div>                            <div id=\"2e495cc2-4932-4ba3-a522-ff232202e20b\" class=\"plotly-graph-div\" style=\"height:1000px; width:1600px;\"></div>            <script type=\"text/javascript\">                require([\"plotly\"], function(Plotly) {                    window.PLOTLYENV=window.PLOTLYENV || {};                                    if (document.getElementById(\"2e495cc2-4932-4ba3-a522-ff232202e20b\")) {                    Plotly.newPlot(                        \"2e495cc2-4932-4ba3-a522-ff232202e20b\",                        [{\"hovertemplate\": \"<b>%{hovertext}</b><br><br>School Closure Weeks=%{x}<br>%Change in GDP=%{y}<br>Log(Cases)=%{marker.color}<extra></extra>\", \"hovertext\": [\"Afghanistan\", \"Albania\", \"Algeria\", \"Angola\", \"Antigua and Barbuda\", \"Argentina\", \"Armenia\", \"Australia\", \"Austria\", \"Azerbaijan\", \"Bahamas\", \"Bahrain\", \"Bangladesh\", \"Barbados\", \"Belarus\", \"Belgium\", \"Belize\", \"Benin\", \"Bhutan\", \"Bolivia\", \"Bosnia and Herzegovina\", \"Botswana\", \"Brazil\", \"Brunei\", \"Bulgaria\", \"Burkina Faso\", \"Burundi\", \"Cambodia\", \"Cameroon\", \"Canada\", \"Central African Republic\", \"Chad\", \"Chile\", \"China\", \"Colombia\", \"Comoros\", \"Congo\", \"Costa Rica\", \"Croatia\", \"Cyprus\", \"Czechia\", \"Democratic Republic of Congo\", \"Denmark\", \"Djibouti\", \"Dominica\", \"Dominican Republic\", \"Ecuador\", \"Egypt\", \"El Salvador\", \"Equatorial Guinea\", \"Eritrea\", \"Estonia\", \"Eswatini\", \"Ethiopia\", \"Fiji\", \"Finland\", \"France\", \"Gabon\", \"Gambia\", \"Georgia\", \"Germany\", \"Ghana\", \"Greece\", \"Grenada\", \"Guatemala\", \"Guinea\", \"Guinea-Bissau\", \"Guyana\", \"Haiti\", \"Honduras\", \"Hungary\", \"Iceland\", \"India\", \"Indonesia\", \"Iran\", \"Iraq\", \"Ireland\", \"Israel\", \"Italy\", \"Jamaica\", \"Japan\", \"Jordan\", \"Kazakhstan\", \"Kenya\", \"Kuwait\", \"Kyrgyzstan\", \"Laos\", \"Latvia\", \"Lebanon\", \"Lesotho\", \"Liberia\", \"Libya\", \"Lithuania\", \"Luxembourg\", \"Madagascar\", \"Malawi\", \"Malaysia\", \"Maldives\", \"Mali\", \"Malta\", \"Marshall Islands\", \"Mauritania\", \"Mauritius\", \"Mexico\", \"Mongolia\", \"Montenegro\", \"Morocco\", \"Mozambique\", \"Myanmar\", \"Namibia\", \"Nepal\", \"Netherlands\", \"New Zealand\", \"Nicaragua\", \"Niger\", \"Nigeria\", \"Norway\", \"Oman\", \"Pakistan\", \"Panama\", \"Papua New Guinea\", \"Paraguay\", \"Peru\", \"Philippines\", \"Poland\", \"Portugal\", \"Qatar\", \"South Korea\", \"Moldova\", \"Romania\", \"Russia\", \"Rwanda\", \"Saint Kitts and Nevis\", \"Saint Lucia\", \"Saint Vincent and the Grenadines\", \"Samoa\", \"Saudi Arabia\", \"Senegal\", \"Serbia\", \"Seychelles\", \"Sierra Leone\", \"Singapore\", \"Slovakia\", \"Slovenia\", \"Solomon Islands\", \"Somalia\", \"South Sudan\", \"Spain\", \"Sri Lanka\", \"Sudan\", \"Suriname\", \"Sweden\", \"Switzerland\", \"Tajikistan\", \"Thailand\", \"Timor\", \"Togo\", \"Trinidad and Tobago\", \"Tunisia\", \"Turkey\", \"Uganda\", \"Ukraine\", \"United Arab Emirates\", \"United Kingdom\", \"Tanzania\", \"United States\", \"Uruguay\", \"Uzbekistan\", \"Vanuatu\", \"Venezuela\", \"Vietnam\", \"Yemen\", \"Zambia\", \"Zimbabwe\"], \"legendgroup\": \"\", \"marker\": {\"color\": [7.3453648404168685, 10.728031129487233, 7.936838838331414, 6.716061943941175, 9.439916787977708, 11.110154075542049, 11.201408245532681, 7.0652631741929195, 11.144688942816181, 10.365272500757332, 10.199657376892748, 11.571716500912691, 8.441844449826382, 9.510829334991135, 10.553172015350027, 11.362292208416926, 10.369563792173656, 6.477464549438317, 7.279463652514325, 10.18376389513981, 11.010255989216121, 9.920740854631054, 11.149532146063484, 6.251672642559008, 10.975159349859762, 6.457413090595657, 5.829710031253992, 6.823046703055171, 7.909011964058885, 10.409324252290125, 7.190969887159265, 5.683341643751415, 11.060388560452727, 4.26619481914876, 10.952504753170492, 8.394256900519053, 7.599070783046446, 10.82748411806508, 11.311171761043843, 11.243623177989754, 11.935837486682113, 5.81416038212581, 10.69002466130594, 9.335828756151175, 7.79026996854536, 10.113579501020663, 9.998536789206845, 7.720683497861139, 9.282665684707784, 8.609593687648568, 6.94282315024263, 11.436902799421981, 9.674799911116438, 7.71924533845698, 4.9051266193152605, 9.665496825369658, 11.337305561846863, 9.251866118804681, 7.800490751234755, 11.270227083155676, 10.622213050894734, 8.000604325361136, 10.417568173047748, 7.259805545566668, 9.45524384951295, 7.438707007131717, 7.548756169878532, 9.755261868536284, 7.046072700278037, 9.982948244717656, 11.304275990202617, 9.852078461970775, 9.595443576422293, 8.72410816888934, 10.323059686990973, 10.198043073624824, 10.83345650950825, 11.481314460401236, 11.112389986248466, 9.65166285123094, 8.480543729760768, 11.156184947453024, 9.923601405906252, 8.001676582162123, 11.08302615837989, 9.600090646363821, 4.8886183079078105, 11.060289972640506, 11.257059580222235, 8.519221133750474, 6.033541753520077, 10.164067533809005, 11.429089513702896, 11.588252022918027, 7.217656175022513, 7.485766542174537, 9.464960109476916, 10.967514262531974, 6.534108554260492, 11.138172522850073, 4.213164097564083, 8.28743279699972, 6.858796100530596, 9.810592354314945, 9.419163473361719, 11.954957447401624, 9.537410691623556, 7.71405702254782, 7.872950454209895, 9.8599645176551, 9.374701603393145, 11.408443452204601, 6.298838946655453, 6.948206004590618, 5.381462947634706, 6.686347719960977, 9.95320776027141, 10.559913174453007, 8.240527547999623, 11.346427925407102, 7.13786649961194, 10.593657304952815, 10.915460940291325, 9.179211868397855, 11.21364236000663, 11.31606034134742, 11.185171672027785, 7.7931124640863665, 11.039963865240116, 10.915338432969815, 10.396132912262688, 7.577725947090867, 6.740507539205393, 10.119915806628628, 9.738792728083196, 2.716018370751387, 9.39871026730434, 7.790133424636972, 11.531430878699569, 11.079150075893367, 6.232860505139277, 9.255974131365639, 11.159002017904063, 11.664355160560893, 3.3714252233284854, 6.774829417272474, 6.853446917528793, 11.234842242467526, 8.577098495762352, 6.651713982354847, 9.79657138303163, 11.476296749686218, 11.24787208807872, 7.240871891789988, 6.925153056158558, 7.557149089402108, 7.359785856237623, 9.01146861301261, 10.183473712273448, 10.969925245756734, 6.82178336156717, 10.79858753812257, 10.880668470961282, 11.087772975924768, 2.1424163408412245, 11.493748863678872, 10.9812351801498, 7.918981575046404, 2.5664866367804233, 8.86306256488864, 3.4232849781261603, 5.362887137197337, 8.51503887253682, 7.854152236050081], \"coloraxis\": \"coloraxis\", \"line\": {\"color\": \"black\", \"width\": 0.5}, \"opacity\": 0.8, \"size\": 12, \"symbol\": \"circle\"}, \"mode\": \"markers\", \"name\": \"\", \"orientation\": \"v\", \"showlegend\": false, \"type\": \"scatter\", \"x\": [31.0, 24.0, 21.0, 46.0, 41.0, 46.0, 12.0, 27.0, 27.0, 37.0, 41.0, 44.0, 47.0, 31.0, 0.0, 15.0, 38.0, 15.0, 49.0, 47.0, 38.0, 20.0, 44.0, 17.0, 32.0, 14.0, 0.0, 29.0, 18.0, 40.0, 23.0, 28.0, 44.0, 27.0, 43.0, 35.0, 26.0, 46.0, 10.0, 25.0, 38.0, 33.0, 23.0, 7.0, 17.0, 32.0, 44.0, 19.0, 45.0, 22.0, 49.0, 16.0, 49.0, 31.0, 13.0, 23.0, 10.0, 21.0, 28.0, 32.0, 28.0, 40.0, 32.0, 45.0, 45.0, 22.0, 23.0, 45.0, 31.0, 46.0, 33.0, 6.0, 51.0, 48.0, 45.0, 50.0, 26.0, 33.0, 35.0, 37.0, 11.0, 42.0, 36.0, 37.0, 42.0, 38.0, 19.0, 36.0, 37.0, 41.0, 37.0, 40.0, 29.0, 15.0, 16.0, 26.0, 35.0, 16.0, 17.0, 19.0, 2.0, 23.0, 8.0, 44.0, 34.0, 36.0, 21.0, 45.0, 48.0, 25.0, 53.0, 22.0, 9.0, 15.0, 16.0, 24.0, 19.0, 26.0, 33.0, 46.0, 6.0, 40.0, 42.0, 34.0, 35.0, 21.0, 41.0, 41.0, 16.0, 32.0, 13.0, 47.0, 11.0, 40.0, 28.0, 4.0, 41.0, 22.0, 34.0, 19.0, 14.0, 11.0, 37.0, 34.0, 7.0, 15.0, 49.0, 15.0, 43.0, 22.0, 20.0, 23.0, 6.0, 0.0, 25.0, 11.0, 14.0, 40.0, 28.0, 38.0, 50.0, 19.0, 42.0, 27.0, 15.0, 47.0, 27.0, 12.0, 4.0, 38.0, 14.0, 19.0, 18.0, 34.0], \"xaxis\": \"x\", \"y\": [-5.0, -3.5, -6.0, -4.0, -17.3, -10.0, -7.6, -2.4, -6.6, -4.3, -16.3, -5.4, 3.8, -17.6, -0.9, -6.4, -14.1, 2.0, -0.8, -7.7, -5.5, -8.3, -4.1, 1.2, -3.8, 0.8, -1.3, -3.5, -2.8, -5.4, 0.0, -0.9, -5.8, 2.3, -6.8, -0.5, -7.8, -4.8, -9.0, -5.1, -5.6, -0.1, -3.3, -1.0, -10.4, -6.7, -7.5, 3.6, -8.6, -5.8, -0.6, -2.9, -3.3, 6.1, -19.0, -2.9, -8.2, -1.8, 0.0, -6.1, -4.9, 0.9, -8.2, -13.5, -1.5, 5.2, -2.4, 43.4, -3.7, -8.0, -5.0, -6.6, -8.0, -2.1, 1.5, -10.9, 2.5, -2.4, -8.9, -10.2, -4.8, -2.0, -2.6, -0.1, -8.1, -8.0, -0.4, -3.6, -25.0, -4.5, -3.0, -59.7, -0.8, -1.3, -4.2, 0.6, -5.6, -32.2, -2.0, -7.0, -3.3, -2.2, -15.8, -8.2, -5.3, -15.2, -7.0, -0.5, 3.2, -7.2, -1.9, -3.8, -3.0, -3.0, 1.2, -1.8, -0.8, -6.4, -0.4, -17.9, -3.9, -0.9, -11.1, -9.5, -2.7, -7.6, -2.6, -1.0, -7.5, -3.9, -3.1, -0.2, -18.7, -18.9, -4.2, -3.2, -4.1, 0.8, -1.0, -13.4, -2.2, -5.4, -7.0, -5.5, -4.3, -1.5, -6.6, -11.0, -3.6, -3.6, -13.5, -2.8, -3.0, 4.5, -6.1, -6.8, 0.7, -7.8, -8.8, 1.8, -2.1, -4.2, -5.9, -9.9, 1.0, -3.5, -5.7, 1.6, -9.2, -30.0, 2.9, -5.0, -3.5, -8.0], \"yaxis\": \"y\"}],                        {\"annotations\": [{\"arrowhead\": 1, \"showarrow\": true, \"text\": \"Guyana\", \"x\": 45, \"y\": 43.4}, {\"arrowhead\": 1, \"showarrow\": true, \"text\": \"Libya\", \"x\": 40, \"y\": -59.7}, {\"arrowhead\": 1, \"showarrow\": true, \"text\": \"China\", \"x\": 27, \"y\": 2.3}, {\"arrowhead\": 1, \"showarrow\": true, \"text\": \"Switzerland\", \"x\": 6, \"y\": -3}, {\"arrowhead\": 1, \"showarrow\": true, \"text\": \"Fiji\", \"x\": 13, \"y\": -19}, {\"arrowhead\": 1, \"showarrow\": true, \"text\": \"Uganda\", \"x\": 50, \"y\": -2.1}, {\"arrowhead\": 1, \"showarrow\": true, \"text\": \"Maldives\", \"x\": 16, \"y\": -32.2}], \"coloraxis\": {\"colorbar\": {\"title\": {\"text\": \"Log(Cases)\"}}, \"colorscale\": [[0.0, \"rgb(5,48,97)\"], [0.1, \"rgb(33,102,172)\"], [0.2, \"rgb(67,147,195)\"], [0.3, \"rgb(146,197,222)\"], [0.4, \"rgb(209,229,240)\"], [0.5, \"rgb(247,247,247)\"], [0.6, \"rgb(253,219,199)\"], [0.7, \"rgb(244,165,130)\"], [0.8, \"rgb(214,96,77)\"], [0.9, \"rgb(178,24,43)\"], [1.0, \"rgb(103,0,31)\"]]}, \"height\": 1000, \"legend\": {\"tracegroupgap\": 0}, \"template\": {\"data\": {\"bar\": [{\"error_x\": {\"color\": \"#2a3f5f\"}, \"error_y\": {\"color\": \"#2a3f5f\"}, \"marker\": {\"line\": {\"color\": \"white\", \"width\": 0.5}}, \"type\": \"bar\"}], \"barpolar\": [{\"marker\": {\"line\": {\"color\": \"white\", \"width\": 0.5}}, \"type\": \"barpolar\"}], \"carpet\": [{\"aaxis\": {\"endlinecolor\": \"#2a3f5f\", \"gridcolor\": \"#C8D4E3\", \"linecolor\": \"#C8D4E3\", \"minorgridcolor\": \"#C8D4E3\", \"startlinecolor\": \"#2a3f5f\"}, \"baxis\": {\"endlinecolor\": \"#2a3f5f\", \"gridcolor\": \"#C8D4E3\", \"linecolor\": \"#C8D4E3\", \"minorgridcolor\": \"#C8D4E3\", \"startlinecolor\": \"#2a3f5f\"}, \"type\": \"carpet\"}], \"choropleth\": [{\"colorbar\": {\"outlinewidth\": 0, \"ticks\": \"\"}, \"type\": \"choropleth\"}], \"contour\": [{\"colorbar\": {\"outlinewidth\": 0, \"ticks\": \"\"}, \"colorscale\": [[0.0, \"#0d0887\"], [0.1111111111111111, \"#46039f\"], [0.2222222222222222, \"#7201a8\"], [0.3333333333333333, \"#9c179e\"], [0.4444444444444444, \"#bd3786\"], [0.5555555555555556, \"#d8576b\"], [0.6666666666666666, \"#ed7953\"], [0.7777777777777778, \"#fb9f3a\"], [0.8888888888888888, \"#fdca26\"], [1.0, \"#f0f921\"]], \"type\": \"contour\"}], \"contourcarpet\": [{\"colorbar\": {\"outlinewidth\": 0, \"ticks\": \"\"}, \"type\": \"contourcarpet\"}], \"heatmap\": [{\"colorbar\": {\"outlinewidth\": 0, \"ticks\": \"\"}, \"colorscale\": [[0.0, \"#0d0887\"], [0.1111111111111111, \"#46039f\"], [0.2222222222222222, \"#7201a8\"], [0.3333333333333333, \"#9c179e\"], [0.4444444444444444, \"#bd3786\"], [0.5555555555555556, \"#d8576b\"], [0.6666666666666666, \"#ed7953\"], [0.7777777777777778, \"#fb9f3a\"], [0.8888888888888888, \"#fdca26\"], [1.0, \"#f0f921\"]], \"type\": \"heatmap\"}], \"heatmapgl\": [{\"colorbar\": {\"outlinewidth\": 0, \"ticks\": \"\"}, \"colorscale\": [[0.0, \"#0d0887\"], [0.1111111111111111, \"#46039f\"], [0.2222222222222222, \"#7201a8\"], [0.3333333333333333, \"#9c179e\"], [0.4444444444444444, \"#bd3786\"], [0.5555555555555556, \"#d8576b\"], [0.6666666666666666, \"#ed7953\"], [0.7777777777777778, \"#fb9f3a\"], [0.8888888888888888, \"#fdca26\"], [1.0, \"#f0f921\"]], \"type\": \"heatmapgl\"}], \"histogram\": [{\"marker\": {\"colorbar\": {\"outlinewidth\": 0, \"ticks\": \"\"}}, \"type\": \"histogram\"}], \"histogram2d\": [{\"colorbar\": {\"outlinewidth\": 0, \"ticks\": \"\"}, \"colorscale\": [[0.0, \"#0d0887\"], [0.1111111111111111, \"#46039f\"], [0.2222222222222222, \"#7201a8\"], [0.3333333333333333, \"#9c179e\"], [0.4444444444444444, \"#bd3786\"], [0.5555555555555556, \"#d8576b\"], [0.6666666666666666, \"#ed7953\"], [0.7777777777777778, \"#fb9f3a\"], [0.8888888888888888, \"#fdca26\"], [1.0, \"#f0f921\"]], \"type\": \"histogram2d\"}], \"histogram2dcontour\": [{\"colorbar\": {\"outlinewidth\": 0, \"ticks\": \"\"}, \"colorscale\": [[0.0, \"#0d0887\"], [0.1111111111111111, \"#46039f\"], [0.2222222222222222, \"#7201a8\"], [0.3333333333333333, \"#9c179e\"], [0.4444444444444444, \"#bd3786\"], [0.5555555555555556, \"#d8576b\"], [0.6666666666666666, \"#ed7953\"], [0.7777777777777778, \"#fb9f3a\"], [0.8888888888888888, \"#fdca26\"], [1.0, \"#f0f921\"]], \"type\": \"histogram2dcontour\"}], \"mesh3d\": [{\"colorbar\": {\"outlinewidth\": 0, \"ticks\": \"\"}, \"type\": \"mesh3d\"}], \"parcoords\": [{\"line\": {\"colorbar\": {\"outlinewidth\": 0, \"ticks\": \"\"}}, \"type\": \"parcoords\"}], \"pie\": [{\"automargin\": true, \"type\": \"pie\"}], \"scatter\": [{\"marker\": {\"colorbar\": {\"outlinewidth\": 0, \"ticks\": \"\"}}, \"type\": \"scatter\"}], \"scatter3d\": [{\"line\": {\"colorbar\": {\"outlinewidth\": 0, \"ticks\": \"\"}}, \"marker\": {\"colorbar\": {\"outlinewidth\": 0, \"ticks\": \"\"}}, \"type\": \"scatter3d\"}], \"scattercarpet\": [{\"marker\": {\"colorbar\": {\"outlinewidth\": 0, \"ticks\": \"\"}}, \"type\": \"scattercarpet\"}], \"scattergeo\": [{\"marker\": {\"colorbar\": {\"outlinewidth\": 0, \"ticks\": \"\"}}, \"type\": \"scattergeo\"}], \"scattergl\": [{\"marker\": {\"colorbar\": {\"outlinewidth\": 0, \"ticks\": \"\"}}, \"type\": \"scattergl\"}], \"scattermapbox\": [{\"marker\": {\"colorbar\": {\"outlinewidth\": 0, \"ticks\": \"\"}}, \"type\": \"scattermapbox\"}], \"scatterpolar\": [{\"marker\": {\"colorbar\": {\"outlinewidth\": 0, \"ticks\": \"\"}}, \"type\": \"scatterpolar\"}], \"scatterpolargl\": [{\"marker\": {\"colorbar\": {\"outlinewidth\": 0, \"ticks\": \"\"}}, \"type\": \"scatterpolargl\"}], \"scatterternary\": [{\"marker\": {\"colorbar\": {\"outlinewidth\": 0, \"ticks\": \"\"}}, \"type\": \"scatterternary\"}], \"surface\": [{\"colorbar\": {\"outlinewidth\": 0, \"ticks\": \"\"}, \"colorscale\": [[0.0, \"#0d0887\"], [0.1111111111111111, \"#46039f\"], [0.2222222222222222, \"#7201a8\"], [0.3333333333333333, \"#9c179e\"], [0.4444444444444444, \"#bd3786\"], [0.5555555555555556, \"#d8576b\"], [0.6666666666666666, \"#ed7953\"], [0.7777777777777778, \"#fb9f3a\"], [0.8888888888888888, \"#fdca26\"], [1.0, \"#f0f921\"]], \"type\": \"surface\"}], \"table\": [{\"cells\": {\"fill\": {\"color\": \"#EBF0F8\"}, \"line\": {\"color\": \"white\"}}, \"header\": {\"fill\": {\"color\": \"#C8D4E3\"}, \"line\": {\"color\": \"white\"}}, \"type\": \"table\"}]}, \"layout\": {\"annotationdefaults\": {\"arrowcolor\": \"#2a3f5f\", \"arrowhead\": 0, \"arrowwidth\": 1}, \"autotypenumbers\": \"strict\", \"coloraxis\": {\"colorbar\": {\"outlinewidth\": 0, \"ticks\": \"\"}}, \"colorscale\": {\"diverging\": [[0, \"#8e0152\"], [0.1, \"#c51b7d\"], [0.2, \"#de77ae\"], [0.3, \"#f1b6da\"], [0.4, \"#fde0ef\"], [0.5, \"#f7f7f7\"], [0.6, \"#e6f5d0\"], [0.7, \"#b8e186\"], [0.8, \"#7fbc41\"], [0.9, \"#4d9221\"], [1, \"#276419\"]], \"sequential\": [[0.0, \"#0d0887\"], [0.1111111111111111, \"#46039f\"], [0.2222222222222222, \"#7201a8\"], [0.3333333333333333, \"#9c179e\"], [0.4444444444444444, \"#bd3786\"], [0.5555555555555556, \"#d8576b\"], [0.6666666666666666, \"#ed7953\"], [0.7777777777777778, \"#fb9f3a\"], [0.8888888888888888, \"#fdca26\"], [1.0, \"#f0f921\"]], \"sequentialminus\": [[0.0, \"#0d0887\"], [0.1111111111111111, \"#46039f\"], [0.2222222222222222, \"#7201a8\"], [0.3333333333333333, \"#9c179e\"], [0.4444444444444444, \"#bd3786\"], [0.5555555555555556, \"#d8576b\"], [0.6666666666666666, \"#ed7953\"], [0.7777777777777778, \"#fb9f3a\"], [0.8888888888888888, \"#fdca26\"], [1.0, \"#f0f921\"]]}, \"colorway\": [\"#636efa\", \"#EF553B\", \"#00cc96\", \"#ab63fa\", \"#FFA15A\", \"#19d3f3\", \"#FF6692\", \"#B6E880\", \"#FF97FF\", \"#FECB52\"], \"font\": {\"color\": \"#2a3f5f\"}, \"geo\": {\"bgcolor\": \"white\", \"lakecolor\": \"white\", \"landcolor\": \"white\", \"showlakes\": true, \"showland\": true, \"subunitcolor\": \"#C8D4E3\"}, \"hoverlabel\": {\"align\": \"left\"}, \"hovermode\": \"closest\", \"mapbox\": {\"style\": \"light\"}, \"paper_bgcolor\": \"white\", \"plot_bgcolor\": \"white\", \"polar\": {\"angularaxis\": {\"gridcolor\": \"#EBF0F8\", \"linecolor\": \"#EBF0F8\", \"ticks\": \"\"}, \"bgcolor\": \"white\", \"radialaxis\": {\"gridcolor\": \"#EBF0F8\", \"linecolor\": \"#EBF0F8\", \"ticks\": \"\"}}, \"scene\": {\"xaxis\": {\"backgroundcolor\": \"white\", \"gridcolor\": \"#DFE8F3\", \"gridwidth\": 2, \"linecolor\": \"#EBF0F8\", \"showbackground\": true, \"ticks\": \"\", \"zerolinecolor\": \"#EBF0F8\"}, \"yaxis\": {\"backgroundcolor\": \"white\", \"gridcolor\": \"#DFE8F3\", \"gridwidth\": 2, \"linecolor\": \"#EBF0F8\", \"showbackground\": true, \"ticks\": \"\", \"zerolinecolor\": \"#EBF0F8\"}, \"zaxis\": {\"backgroundcolor\": \"white\", \"gridcolor\": \"#DFE8F3\", \"gridwidth\": 2, \"linecolor\": \"#EBF0F8\", \"showbackground\": true, \"ticks\": \"\", \"zerolinecolor\": \"#EBF0F8\"}}, \"shapedefaults\": {\"line\": {\"color\": \"#2a3f5f\"}}, \"ternary\": {\"aaxis\": {\"gridcolor\": \"#DFE8F3\", \"linecolor\": \"#A2B1C6\", \"ticks\": \"\"}, \"baxis\": {\"gridcolor\": \"#DFE8F3\", \"linecolor\": \"#A2B1C6\", \"ticks\": \"\"}, \"bgcolor\": \"white\", \"caxis\": {\"gridcolor\": \"#DFE8F3\", \"linecolor\": \"#A2B1C6\", \"ticks\": \"\"}}, \"title\": {\"x\": 0.05}, \"xaxis\": {\"automargin\": true, \"gridcolor\": \"#EBF0F8\", \"linecolor\": \"#EBF0F8\", \"ticks\": \"\", \"title\": {\"standoff\": 15}, \"zerolinecolor\": \"#EBF0F8\", \"zerolinewidth\": 2}, \"yaxis\": {\"automargin\": true, \"gridcolor\": \"#EBF0F8\", \"linecolor\": \"#EBF0F8\", \"ticks\": \"\", \"title\": {\"standoff\": 15}, \"zerolinecolor\": \"#EBF0F8\", \"zerolinewidth\": 2}}}, \"title\": {\"text\": \"%Change in GDP vs. School Closure Weeks, Color=Total Covid Cases(per 1M population)\"}, \"width\": 1600, \"xaxis\": {\"anchor\": \"y\", \"domain\": [0.0, 1.0], \"title\": {\"text\": \"School Closure Weeks\"}}, \"yaxis\": {\"anchor\": \"x\", \"domain\": [0.0, 1.0], \"title\": {\"text\": \"%Change in GDP\"}}},                        {\"responsive\": true}                    ).then(function(){\n",
       "                            \n",
       "var gd = document.getElementById('2e495cc2-4932-4ba3-a522-ff232202e20b');\n",
       "var x = new MutationObserver(function (mutations, observer) {{\n",
       "        var display = window.getComputedStyle(gd).display;\n",
       "        if (!display || display === 'none') {{\n",
       "            console.log([gd, 'removed!']);\n",
       "            Plotly.purge(gd);\n",
       "            observer.disconnect();\n",
       "        }}\n",
       "}});\n",
       "\n",
       "// Listen for the removal of the full notebook cells\n",
       "var notebookContainer = gd.closest('#notebook-container');\n",
       "if (notebookContainer) {{\n",
       "    x.observe(notebookContainer, {childList: true});\n",
       "}}\n",
       "\n",
       "// Listen for the clearing of the current output cell\n",
       "var outputEl = gd.closest('.output');\n",
       "if (outputEl) {{\n",
       "    x.observe(outputEl, {childList: true});\n",
       "}}\n",
       "\n",
       "                        })                };                });            </script>        </div>"
      ]
     },
     "metadata": {},
     "output_type": "display_data"
    }
   ],
   "source": [
    "fig = px.scatter(df3, x=\"closure\", y=\"change\",\n",
    "                 color=\"Log(Cases)\",\n",
    "                 color_continuous_scale=px.colors.sequential.RdBu_r,\n",
    "                 opacity=0.8,\n",
    "                 #color='internet',\n",
    "                 hover_name=\"Country\",\n",
    "                 labels={\"closure\": \"School Closure Weeks\",\n",
    "                        \"change\":\"%Change in GDP\"},\n",
    "                 title=\"%Change in GDP vs. School Closure Weeks, Color=Total Covid Cases(per 1M population)\",\n",
    "                 size_max=12,\n",
    "                 width=1600, height=1000,\n",
    "                 template='plotly_white'\n",
    "                )\n",
    "\n",
    "fig.add_annotation(x=45, y=43.4,\n",
    "            text=\"Guyana\",\n",
    "            showarrow=True,\n",
    "            arrowhead=1)\n",
    "fig.add_annotation(x=40, y=-59.7,\n",
    "            text=\"Libya\",\n",
    "            showarrow=True,\n",
    "            arrowhead=1)\n",
    "fig.add_annotation(x=27, y=2.3,\n",
    "            text=\"China\",\n",
    "            showarrow=True,\n",
    "            arrowhead=1)\n",
    "fig.add_annotation(x=6, y=-3,\n",
    "            text=\"Switzerland\",\n",
    "            showarrow=True,\n",
    "            arrowhead=1)\n",
    "fig.add_annotation(x=13, y=-19,\n",
    "            text=\"Fiji\",\n",
    "            showarrow=True,\n",
    "            arrowhead=1)\n",
    "fig.add_annotation(x=50, y=-2.1,\n",
    "            text=\"Uganda\",\n",
    "            showarrow=True,\n",
    "            arrowhead=1)\n",
    "fig.add_annotation(x=16, y=-32.2,\n",
    "            text=\"Maldives\",\n",
    "            showarrow=True,\n",
    "            arrowhead=1)\n",
    "\n",
    "fig.update_traces(marker=dict(size=12,\n",
    "                              line=dict(width=0.5,\n",
    "                                        color='black')),\n",
    "                  selector=dict(mode='markers'))\n",
    "\n",
    "fig.show()\n"
   ]
  },
  {
   "cell_type": "code",
   "execution_count": 78,
   "id": "allied-joint",
   "metadata": {},
   "outputs": [
    {
     "data": {
      "application/vnd.plotly.v1+json": {
       "config": {
        "plotlyServerURL": "https://plotly.com"
       },
       "data": [
        {
         "hovertemplate": "<b>%{hovertext}</b><br><br>Income Group=Low income<br>School Closure Weeks=%{x}<br>%Change in GDP=%{y}<extra></extra>",
         "hovertext": [
          "Afghanistan",
          "Benin",
          "Burkina Faso",
          "Burundi",
          "Central African Republic",
          "Chad",
          "Democratic Republic of Congo",
          "Eritrea",
          "Ethiopia",
          "Gambia",
          "Guinea",
          "Guinea-Bissau",
          "Haiti",
          "Liberia",
          "Madagascar",
          "Malawi",
          "Mali",
          "Mozambique",
          "Nepal",
          "Niger",
          "Rwanda",
          "Sierra Leone",
          "Somalia",
          "South Sudan",
          "Tajikistan",
          "Togo",
          "Uganda",
          "Tanzania",
          "Yemen"
         ],
         "legendgroup": "Low income",
         "marker": {
          "color": "black",
          "line": {
           "color": "black",
           "width": 0.5
          },
          "opacity": 0.8,
          "size": 12,
          "symbol": "circle"
         },
         "mode": "markers",
         "name": "Low income",
         "orientation": "v",
         "showlegend": true,
         "type": "scatter",
         "x": [
          31,
          15,
          14,
          0,
          23,
          28,
          33,
          49,
          31,
          28,
          22,
          23,
          31,
          37,
          16,
          26,
          17,
          45,
          53,
          16,
          47,
          14,
          15,
          49,
          0,
          14,
          50,
          15,
          19
         ],
         "xaxis": "x",
         "y": [
          -5,
          2,
          0.8,
          -1.3,
          0,
          -0.9,
          -0.1,
          -0.6,
          6.1,
          0,
          5.2,
          -2.4,
          -3.7,
          -3,
          -4.2,
          0.6,
          -2,
          -0.5,
          -1.9,
          1.2,
          -0.2,
          -2.2,
          -1.5,
          -6.6,
          4.5,
          0.7,
          -2.1,
          1,
          -5
         ],
         "yaxis": "y"
        },
        {
         "hovertemplate": "<b>%{hovertext}</b><br><br>Income Group=Upper middle income<br>School Closure Weeks=%{x}<br>%Change in GDP=%{y}<extra></extra>",
         "hovertext": [
          "Albania",
          "Algeria",
          "Argentina",
          "Armenia",
          "Azerbaijan",
          "Belarus",
          "Belize",
          "Bosnia and Herzegovina",
          "Botswana",
          "Brazil",
          "Bulgaria",
          "China",
          "Colombia",
          "Costa Rica",
          "Dominica",
          "Dominican Republic",
          "Ecuador",
          "Equatorial Guinea",
          "Fiji",
          "Gabon",
          "Georgia",
          "Grenada",
          "Guatemala",
          "Guyana",
          "Iran",
          "Iraq",
          "Jamaica",
          "Jordan",
          "Kazakhstan",
          "Lebanon",
          "Libya",
          "Malaysia",
          "Maldives",
          "Marshall Islands",
          "Mauritius",
          "Mexico",
          "Montenegro",
          "Namibia",
          "Paraguay",
          "Peru",
          "Romania",
          "Russia",
          "Saint Lucia",
          "Saint Vincent and the Grenadines",
          "Samoa",
          "Serbia",
          "Sri Lanka",
          "Suriname",
          "Thailand",
          "Turkey",
          "Venezuela"
         ],
         "legendgroup": "Upper middle income",
         "marker": {
          "color": "grey",
          "line": {
           "color": "black",
           "width": 0.5
          },
          "opacity": 0.8,
          "size": 12,
          "symbol": "circle"
         },
         "mode": "markers",
         "name": "Upper middle income",
         "orientation": "v",
         "showlegend": true,
         "type": "scatter",
         "x": [
          24,
          21,
          46,
          12,
          37,
          0,
          38,
          38,
          20,
          44,
          32,
          27,
          43,
          46,
          17,
          32,
          44,
          22,
          13,
          21,
          32,
          45,
          45,
          45,
          45,
          50,
          37,
          42,
          36,
          37,
          40,
          35,
          16,
          2,
          8,
          44,
          36,
          25,
          40,
          42,
          32,
          13,
          40,
          28,
          4,
          34,
          43,
          20,
          25,
          38,
          38
         ],
         "xaxis": "x",
         "y": [
          -3.5,
          -6,
          -10,
          -7.6,
          -4.3,
          -0.9,
          -14.1,
          -5.5,
          -8.3,
          -4.1,
          -3.8,
          2.3,
          -6.8,
          -4.8,
          -10.4,
          -6.7,
          -7.5,
          -5.8,
          -19,
          -1.8,
          -6.1,
          -13.5,
          -1.5,
          43.4,
          1.5,
          -10.9,
          -10.2,
          -2,
          -2.6,
          -25,
          -59.7,
          -5.6,
          -32.2,
          -3.3,
          -15.8,
          -8.2,
          -15.2,
          -7.2,
          -0.9,
          -11.1,
          -3.9,
          -3.1,
          -18.9,
          -4.2,
          -3.2,
          -1,
          -3.6,
          -13.5,
          -6.1,
          1.8,
          -30
         ],
         "yaxis": "y"
        },
        {
         "hovertemplate": "<b>%{hovertext}</b><br><br>Income Group=Lower middle income<br>School Closure Weeks=%{x}<br>%Change in GDP=%{y}<extra></extra>",
         "hovertext": [
          "Angola",
          "Bangladesh",
          "Bhutan",
          "Bolivia",
          "Cambodia",
          "Cameroon",
          "Comoros",
          "Congo",
          "Djibouti",
          "Egypt",
          "El Salvador",
          "Eswatini",
          "Ghana",
          "Honduras",
          "India",
          "Indonesia",
          "Kenya",
          "Kyrgyzstan",
          "Laos",
          "Lesotho",
          "Mauritania",
          "Mongolia",
          "Morocco",
          "Myanmar",
          "Nicaragua",
          "Nigeria",
          "Pakistan",
          "Papua New Guinea",
          "Philippines",
          "Moldova",
          "Senegal",
          "Solomon Islands",
          "Sudan",
          "Timor",
          "Tunisia",
          "Ukraine",
          "Uzbekistan",
          "Vanuatu",
          "Vietnam",
          "Zambia",
          "Zimbabwe"
         ],
         "legendgroup": "Lower middle income",
         "marker": {
          "color": "lightblue",
          "line": {
           "color": "black",
           "width": 0.5
          },
          "opacity": 0.8,
          "size": 12,
          "symbol": "circle"
         },
         "mode": "markers",
         "name": "Lower middle income",
         "orientation": "v",
         "showlegend": true,
         "type": "scatter",
         "x": [
          46,
          47,
          49,
          47,
          29,
          18,
          35,
          26,
          7,
          19,
          45,
          49,
          40,
          46,
          51,
          48,
          37,
          38,
          19,
          41,
          23,
          34,
          21,
          48,
          15,
          24,
          33,
          6,
          34,
          16,
          22,
          7,
          22,
          11,
          28,
          19,
          12,
          4,
          14,
          18,
          34
         ],
         "xaxis": "x",
         "y": [
          -4,
          3.8,
          -0.8,
          -7.7,
          -3.5,
          -2.8,
          -0.5,
          -7.8,
          -1,
          3.6,
          -8.6,
          -3.3,
          0.9,
          -8,
          -8,
          -2.1,
          -0.1,
          -8,
          -0.4,
          -4.5,
          -2.2,
          -5.3,
          -7,
          3.2,
          -3,
          -1.8,
          -0.4,
          -3.9,
          -9.5,
          -7.5,
          0.8,
          -4.3,
          -3.6,
          -6.8,
          -8.8,
          -4.2,
          1.6,
          -9.2,
          2.9,
          -3.5,
          -8
         ],
         "yaxis": "y"
        },
        {
         "hovertemplate": "<b>%{hovertext}</b><br><br>Income Group=High income<br>School Closure Weeks=%{x}<br>%Change in GDP=%{y}<extra></extra>",
         "hovertext": [
          "Antigua and Barbuda",
          "Australia",
          "Austria",
          "Bahamas",
          "Bahrain",
          "Barbados",
          "Belgium",
          "Brunei",
          "Canada",
          "Chile",
          "Croatia",
          "Cyprus",
          "Czechia",
          "Denmark",
          "Estonia",
          "Finland",
          "France",
          "Germany",
          "Greece",
          "Hungary",
          "Iceland",
          "Ireland",
          "Israel",
          "Italy",
          "Japan",
          "Kuwait",
          "Latvia",
          "Lithuania",
          "Luxembourg",
          "Malta",
          "Netherlands",
          "New Zealand",
          "Norway",
          "Oman",
          "Panama",
          "Poland",
          "Portugal",
          "Qatar",
          "South Korea",
          "Saint Kitts and Nevis",
          "Saudi Arabia",
          "Seychelles",
          "Singapore",
          "Slovakia",
          "Slovenia",
          "Spain",
          "Sweden",
          "Switzerland",
          "Trinidad and Tobago",
          "United Arab Emirates",
          "United Kingdom",
          "United States",
          "Uruguay"
         ],
         "legendgroup": "High income",
         "marker": {
          "color": "blue",
          "line": {
           "color": "black",
           "width": 0.5
          },
          "opacity": 0.8,
          "size": 12,
          "symbol": "circle"
         },
         "mode": "markers",
         "name": "High income",
         "orientation": "v",
         "showlegend": true,
         "type": "scatter",
         "x": [
          41,
          27,
          27,
          41,
          44,
          31,
          15,
          17,
          40,
          44,
          10,
          25,
          38,
          23,
          16,
          23,
          10,
          28,
          32,
          33,
          6,
          26,
          33,
          35,
          11,
          42,
          36,
          29,
          15,
          19,
          22,
          9,
          19,
          26,
          46,
          35,
          21,
          41,
          41,
          11,
          41,
          19,
          11,
          37,
          34,
          15,
          23,
          6,
          40,
          42,
          27,
          47,
          27
         ],
         "xaxis": "x",
         "y": [
          -17.3,
          -2.4,
          -6.6,
          -16.3,
          -5.4,
          -17.6,
          -6.4,
          1.2,
          -5.4,
          -5.8,
          -9,
          -5.1,
          -5.6,
          -3.3,
          -2.9,
          -2.9,
          -8.2,
          -4.9,
          -8.2,
          -5,
          -6.6,
          2.5,
          -2.4,
          -8.9,
          -4.8,
          -8.1,
          -3.6,
          -0.8,
          -1.3,
          -7,
          -3.8,
          -3,
          -0.8,
          -6.4,
          -17.9,
          -2.7,
          -7.6,
          -2.6,
          -1,
          -18.7,
          -4.1,
          -13.4,
          -5.4,
          -7,
          -5.5,
          -11,
          -2.8,
          -3,
          -7.8,
          -5.9,
          -9.9,
          -3.5,
          -5.7
         ],
         "yaxis": "y"
        }
       ],
       "layout": {
        "height": 1000,
        "legend": {
         "title": {
          "text": "Income Group"
         },
         "tracegroupgap": 0
        },
        "template": {
         "data": {
          "bar": [
           {
            "error_x": {
             "color": "#2a3f5f"
            },
            "error_y": {
             "color": "#2a3f5f"
            },
            "marker": {
             "line": {
              "color": "white",
              "width": 0.5
             }
            },
            "type": "bar"
           }
          ],
          "barpolar": [
           {
            "marker": {
             "line": {
              "color": "white",
              "width": 0.5
             }
            },
            "type": "barpolar"
           }
          ],
          "carpet": [
           {
            "aaxis": {
             "endlinecolor": "#2a3f5f",
             "gridcolor": "#C8D4E3",
             "linecolor": "#C8D4E3",
             "minorgridcolor": "#C8D4E3",
             "startlinecolor": "#2a3f5f"
            },
            "baxis": {
             "endlinecolor": "#2a3f5f",
             "gridcolor": "#C8D4E3",
             "linecolor": "#C8D4E3",
             "minorgridcolor": "#C8D4E3",
             "startlinecolor": "#2a3f5f"
            },
            "type": "carpet"
           }
          ],
          "choropleth": [
           {
            "colorbar": {
             "outlinewidth": 0,
             "ticks": ""
            },
            "type": "choropleth"
           }
          ],
          "contour": [
           {
            "colorbar": {
             "outlinewidth": 0,
             "ticks": ""
            },
            "colorscale": [
             [
              0,
              "#0d0887"
             ],
             [
              0.1111111111111111,
              "#46039f"
             ],
             [
              0.2222222222222222,
              "#7201a8"
             ],
             [
              0.3333333333333333,
              "#9c179e"
             ],
             [
              0.4444444444444444,
              "#bd3786"
             ],
             [
              0.5555555555555556,
              "#d8576b"
             ],
             [
              0.6666666666666666,
              "#ed7953"
             ],
             [
              0.7777777777777778,
              "#fb9f3a"
             ],
             [
              0.8888888888888888,
              "#fdca26"
             ],
             [
              1,
              "#f0f921"
             ]
            ],
            "type": "contour"
           }
          ],
          "contourcarpet": [
           {
            "colorbar": {
             "outlinewidth": 0,
             "ticks": ""
            },
            "type": "contourcarpet"
           }
          ],
          "heatmap": [
           {
            "colorbar": {
             "outlinewidth": 0,
             "ticks": ""
            },
            "colorscale": [
             [
              0,
              "#0d0887"
             ],
             [
              0.1111111111111111,
              "#46039f"
             ],
             [
              0.2222222222222222,
              "#7201a8"
             ],
             [
              0.3333333333333333,
              "#9c179e"
             ],
             [
              0.4444444444444444,
              "#bd3786"
             ],
             [
              0.5555555555555556,
              "#d8576b"
             ],
             [
              0.6666666666666666,
              "#ed7953"
             ],
             [
              0.7777777777777778,
              "#fb9f3a"
             ],
             [
              0.8888888888888888,
              "#fdca26"
             ],
             [
              1,
              "#f0f921"
             ]
            ],
            "type": "heatmap"
           }
          ],
          "heatmapgl": [
           {
            "colorbar": {
             "outlinewidth": 0,
             "ticks": ""
            },
            "colorscale": [
             [
              0,
              "#0d0887"
             ],
             [
              0.1111111111111111,
              "#46039f"
             ],
             [
              0.2222222222222222,
              "#7201a8"
             ],
             [
              0.3333333333333333,
              "#9c179e"
             ],
             [
              0.4444444444444444,
              "#bd3786"
             ],
             [
              0.5555555555555556,
              "#d8576b"
             ],
             [
              0.6666666666666666,
              "#ed7953"
             ],
             [
              0.7777777777777778,
              "#fb9f3a"
             ],
             [
              0.8888888888888888,
              "#fdca26"
             ],
             [
              1,
              "#f0f921"
             ]
            ],
            "type": "heatmapgl"
           }
          ],
          "histogram": [
           {
            "marker": {
             "colorbar": {
              "outlinewidth": 0,
              "ticks": ""
             }
            },
            "type": "histogram"
           }
          ],
          "histogram2d": [
           {
            "colorbar": {
             "outlinewidth": 0,
             "ticks": ""
            },
            "colorscale": [
             [
              0,
              "#0d0887"
             ],
             [
              0.1111111111111111,
              "#46039f"
             ],
             [
              0.2222222222222222,
              "#7201a8"
             ],
             [
              0.3333333333333333,
              "#9c179e"
             ],
             [
              0.4444444444444444,
              "#bd3786"
             ],
             [
              0.5555555555555556,
              "#d8576b"
             ],
             [
              0.6666666666666666,
              "#ed7953"
             ],
             [
              0.7777777777777778,
              "#fb9f3a"
             ],
             [
              0.8888888888888888,
              "#fdca26"
             ],
             [
              1,
              "#f0f921"
             ]
            ],
            "type": "histogram2d"
           }
          ],
          "histogram2dcontour": [
           {
            "colorbar": {
             "outlinewidth": 0,
             "ticks": ""
            },
            "colorscale": [
             [
              0,
              "#0d0887"
             ],
             [
              0.1111111111111111,
              "#46039f"
             ],
             [
              0.2222222222222222,
              "#7201a8"
             ],
             [
              0.3333333333333333,
              "#9c179e"
             ],
             [
              0.4444444444444444,
              "#bd3786"
             ],
             [
              0.5555555555555556,
              "#d8576b"
             ],
             [
              0.6666666666666666,
              "#ed7953"
             ],
             [
              0.7777777777777778,
              "#fb9f3a"
             ],
             [
              0.8888888888888888,
              "#fdca26"
             ],
             [
              1,
              "#f0f921"
             ]
            ],
            "type": "histogram2dcontour"
           }
          ],
          "mesh3d": [
           {
            "colorbar": {
             "outlinewidth": 0,
             "ticks": ""
            },
            "type": "mesh3d"
           }
          ],
          "parcoords": [
           {
            "line": {
             "colorbar": {
              "outlinewidth": 0,
              "ticks": ""
             }
            },
            "type": "parcoords"
           }
          ],
          "pie": [
           {
            "automargin": true,
            "type": "pie"
           }
          ],
          "scatter": [
           {
            "marker": {
             "colorbar": {
              "outlinewidth": 0,
              "ticks": ""
             }
            },
            "type": "scatter"
           }
          ],
          "scatter3d": [
           {
            "line": {
             "colorbar": {
              "outlinewidth": 0,
              "ticks": ""
             }
            },
            "marker": {
             "colorbar": {
              "outlinewidth": 0,
              "ticks": ""
             }
            },
            "type": "scatter3d"
           }
          ],
          "scattercarpet": [
           {
            "marker": {
             "colorbar": {
              "outlinewidth": 0,
              "ticks": ""
             }
            },
            "type": "scattercarpet"
           }
          ],
          "scattergeo": [
           {
            "marker": {
             "colorbar": {
              "outlinewidth": 0,
              "ticks": ""
             }
            },
            "type": "scattergeo"
           }
          ],
          "scattergl": [
           {
            "marker": {
             "colorbar": {
              "outlinewidth": 0,
              "ticks": ""
             }
            },
            "type": "scattergl"
           }
          ],
          "scattermapbox": [
           {
            "marker": {
             "colorbar": {
              "outlinewidth": 0,
              "ticks": ""
             }
            },
            "type": "scattermapbox"
           }
          ],
          "scatterpolar": [
           {
            "marker": {
             "colorbar": {
              "outlinewidth": 0,
              "ticks": ""
             }
            },
            "type": "scatterpolar"
           }
          ],
          "scatterpolargl": [
           {
            "marker": {
             "colorbar": {
              "outlinewidth": 0,
              "ticks": ""
             }
            },
            "type": "scatterpolargl"
           }
          ],
          "scatterternary": [
           {
            "marker": {
             "colorbar": {
              "outlinewidth": 0,
              "ticks": ""
             }
            },
            "type": "scatterternary"
           }
          ],
          "surface": [
           {
            "colorbar": {
             "outlinewidth": 0,
             "ticks": ""
            },
            "colorscale": [
             [
              0,
              "#0d0887"
             ],
             [
              0.1111111111111111,
              "#46039f"
             ],
             [
              0.2222222222222222,
              "#7201a8"
             ],
             [
              0.3333333333333333,
              "#9c179e"
             ],
             [
              0.4444444444444444,
              "#bd3786"
             ],
             [
              0.5555555555555556,
              "#d8576b"
             ],
             [
              0.6666666666666666,
              "#ed7953"
             ],
             [
              0.7777777777777778,
              "#fb9f3a"
             ],
             [
              0.8888888888888888,
              "#fdca26"
             ],
             [
              1,
              "#f0f921"
             ]
            ],
            "type": "surface"
           }
          ],
          "table": [
           {
            "cells": {
             "fill": {
              "color": "#EBF0F8"
             },
             "line": {
              "color": "white"
             }
            },
            "header": {
             "fill": {
              "color": "#C8D4E3"
             },
             "line": {
              "color": "white"
             }
            },
            "type": "table"
           }
          ]
         },
         "layout": {
          "annotationdefaults": {
           "arrowcolor": "#2a3f5f",
           "arrowhead": 0,
           "arrowwidth": 1
          },
          "autotypenumbers": "strict",
          "coloraxis": {
           "colorbar": {
            "outlinewidth": 0,
            "ticks": ""
           }
          },
          "colorscale": {
           "diverging": [
            [
             0,
             "#8e0152"
            ],
            [
             0.1,
             "#c51b7d"
            ],
            [
             0.2,
             "#de77ae"
            ],
            [
             0.3,
             "#f1b6da"
            ],
            [
             0.4,
             "#fde0ef"
            ],
            [
             0.5,
             "#f7f7f7"
            ],
            [
             0.6,
             "#e6f5d0"
            ],
            [
             0.7,
             "#b8e186"
            ],
            [
             0.8,
             "#7fbc41"
            ],
            [
             0.9,
             "#4d9221"
            ],
            [
             1,
             "#276419"
            ]
           ],
           "sequential": [
            [
             0,
             "#0d0887"
            ],
            [
             0.1111111111111111,
             "#46039f"
            ],
            [
             0.2222222222222222,
             "#7201a8"
            ],
            [
             0.3333333333333333,
             "#9c179e"
            ],
            [
             0.4444444444444444,
             "#bd3786"
            ],
            [
             0.5555555555555556,
             "#d8576b"
            ],
            [
             0.6666666666666666,
             "#ed7953"
            ],
            [
             0.7777777777777778,
             "#fb9f3a"
            ],
            [
             0.8888888888888888,
             "#fdca26"
            ],
            [
             1,
             "#f0f921"
            ]
           ],
           "sequentialminus": [
            [
             0,
             "#0d0887"
            ],
            [
             0.1111111111111111,
             "#46039f"
            ],
            [
             0.2222222222222222,
             "#7201a8"
            ],
            [
             0.3333333333333333,
             "#9c179e"
            ],
            [
             0.4444444444444444,
             "#bd3786"
            ],
            [
             0.5555555555555556,
             "#d8576b"
            ],
            [
             0.6666666666666666,
             "#ed7953"
            ],
            [
             0.7777777777777778,
             "#fb9f3a"
            ],
            [
             0.8888888888888888,
             "#fdca26"
            ],
            [
             1,
             "#f0f921"
            ]
           ]
          },
          "colorway": [
           "#636efa",
           "#EF553B",
           "#00cc96",
           "#ab63fa",
           "#FFA15A",
           "#19d3f3",
           "#FF6692",
           "#B6E880",
           "#FF97FF",
           "#FECB52"
          ],
          "font": {
           "color": "#2a3f5f"
          },
          "geo": {
           "bgcolor": "white",
           "lakecolor": "white",
           "landcolor": "white",
           "showlakes": true,
           "showland": true,
           "subunitcolor": "#C8D4E3"
          },
          "hoverlabel": {
           "align": "left"
          },
          "hovermode": "closest",
          "mapbox": {
           "style": "light"
          },
          "paper_bgcolor": "white",
          "plot_bgcolor": "white",
          "polar": {
           "angularaxis": {
            "gridcolor": "#EBF0F8",
            "linecolor": "#EBF0F8",
            "ticks": ""
           },
           "bgcolor": "white",
           "radialaxis": {
            "gridcolor": "#EBF0F8",
            "linecolor": "#EBF0F8",
            "ticks": ""
           }
          },
          "scene": {
           "xaxis": {
            "backgroundcolor": "white",
            "gridcolor": "#DFE8F3",
            "gridwidth": 2,
            "linecolor": "#EBF0F8",
            "showbackground": true,
            "ticks": "",
            "zerolinecolor": "#EBF0F8"
           },
           "yaxis": {
            "backgroundcolor": "white",
            "gridcolor": "#DFE8F3",
            "gridwidth": 2,
            "linecolor": "#EBF0F8",
            "showbackground": true,
            "ticks": "",
            "zerolinecolor": "#EBF0F8"
           },
           "zaxis": {
            "backgroundcolor": "white",
            "gridcolor": "#DFE8F3",
            "gridwidth": 2,
            "linecolor": "#EBF0F8",
            "showbackground": true,
            "ticks": "",
            "zerolinecolor": "#EBF0F8"
           }
          },
          "shapedefaults": {
           "line": {
            "color": "#2a3f5f"
           }
          },
          "ternary": {
           "aaxis": {
            "gridcolor": "#DFE8F3",
            "linecolor": "#A2B1C6",
            "ticks": ""
           },
           "baxis": {
            "gridcolor": "#DFE8F3",
            "linecolor": "#A2B1C6",
            "ticks": ""
           },
           "bgcolor": "white",
           "caxis": {
            "gridcolor": "#DFE8F3",
            "linecolor": "#A2B1C6",
            "ticks": ""
           }
          },
          "title": {
           "x": 0.05
          },
          "xaxis": {
           "automargin": true,
           "gridcolor": "#EBF0F8",
           "linecolor": "#EBF0F8",
           "ticks": "",
           "title": {
            "standoff": 15
           },
           "zerolinecolor": "#EBF0F8",
           "zerolinewidth": 2
          },
          "yaxis": {
           "automargin": true,
           "gridcolor": "#EBF0F8",
           "linecolor": "#EBF0F8",
           "ticks": "",
           "title": {
            "standoff": 15
           },
           "zerolinecolor": "#EBF0F8",
           "zerolinewidth": 2
          }
         }
        },
        "title": {
         "text": "%Change in GDP vs. School Closure Weeks, color=Income Group"
        },
        "width": 900,
        "xaxis": {
         "anchor": "y",
         "domain": [
          0,
          1
         ],
         "title": {
          "text": "School Closure Weeks"
         }
        },
        "yaxis": {
         "anchor": "x",
         "domain": [
          0,
          1
         ],
         "title": {
          "text": "%Change in GDP"
         }
        }
       }
      },
      "text/html": [
       "<div>                            <div id=\"72cf3528-5a34-4b40-a866-b51aeeead895\" class=\"plotly-graph-div\" style=\"height:1000px; width:900px;\"></div>            <script type=\"text/javascript\">                require([\"plotly\"], function(Plotly) {                    window.PLOTLYENV=window.PLOTLYENV || {};                                    if (document.getElementById(\"72cf3528-5a34-4b40-a866-b51aeeead895\")) {                    Plotly.newPlot(                        \"72cf3528-5a34-4b40-a866-b51aeeead895\",                        [{\"hovertemplate\": \"<b>%{hovertext}</b><br><br>Income Group=Low income<br>School Closure Weeks=%{x}<br>%Change in GDP=%{y}<extra></extra>\", \"hovertext\": [\"Afghanistan\", \"Benin\", \"Burkina Faso\", \"Burundi\", \"Central African Republic\", \"Chad\", \"Democratic Republic of Congo\", \"Eritrea\", \"Ethiopia\", \"Gambia\", \"Guinea\", \"Guinea-Bissau\", \"Haiti\", \"Liberia\", \"Madagascar\", \"Malawi\", \"Mali\", \"Mozambique\", \"Nepal\", \"Niger\", \"Rwanda\", \"Sierra Leone\", \"Somalia\", \"South Sudan\", \"Tajikistan\", \"Togo\", \"Uganda\", \"Tanzania\", \"Yemen\"], \"legendgroup\": \"Low income\", \"marker\": {\"color\": \"black\", \"line\": {\"color\": \"black\", \"width\": 0.5}, \"opacity\": 0.8, \"size\": 12, \"symbol\": \"circle\"}, \"mode\": \"markers\", \"name\": \"Low income\", \"orientation\": \"v\", \"showlegend\": true, \"type\": \"scatter\", \"x\": [31.0, 15.0, 14.0, 0.0, 23.0, 28.0, 33.0, 49.0, 31.0, 28.0, 22.0, 23.0, 31.0, 37.0, 16.0, 26.0, 17.0, 45.0, 53.0, 16.0, 47.0, 14.0, 15.0, 49.0, 0.0, 14.0, 50.0, 15.0, 19.0], \"xaxis\": \"x\", \"y\": [-5.0, 2.0, 0.8, -1.3, 0.0, -0.9, -0.1, -0.6, 6.1, 0.0, 5.2, -2.4, -3.7, -3.0, -4.2, 0.6, -2.0, -0.5, -1.9, 1.2, -0.2, -2.2, -1.5, -6.6, 4.5, 0.7, -2.1, 1.0, -5.0], \"yaxis\": \"y\"}, {\"hovertemplate\": \"<b>%{hovertext}</b><br><br>Income Group=Upper middle income<br>School Closure Weeks=%{x}<br>%Change in GDP=%{y}<extra></extra>\", \"hovertext\": [\"Albania\", \"Algeria\", \"Argentina\", \"Armenia\", \"Azerbaijan\", \"Belarus\", \"Belize\", \"Bosnia and Herzegovina\", \"Botswana\", \"Brazil\", \"Bulgaria\", \"China\", \"Colombia\", \"Costa Rica\", \"Dominica\", \"Dominican Republic\", \"Ecuador\", \"Equatorial Guinea\", \"Fiji\", \"Gabon\", \"Georgia\", \"Grenada\", \"Guatemala\", \"Guyana\", \"Iran\", \"Iraq\", \"Jamaica\", \"Jordan\", \"Kazakhstan\", \"Lebanon\", \"Libya\", \"Malaysia\", \"Maldives\", \"Marshall Islands\", \"Mauritius\", \"Mexico\", \"Montenegro\", \"Namibia\", \"Paraguay\", \"Peru\", \"Romania\", \"Russia\", \"Saint Lucia\", \"Saint Vincent and the Grenadines\", \"Samoa\", \"Serbia\", \"Sri Lanka\", \"Suriname\", \"Thailand\", \"Turkey\", \"Venezuela\"], \"legendgroup\": \"Upper middle income\", \"marker\": {\"color\": \"grey\", \"line\": {\"color\": \"black\", \"width\": 0.5}, \"opacity\": 0.8, \"size\": 12, \"symbol\": \"circle\"}, \"mode\": \"markers\", \"name\": \"Upper middle income\", \"orientation\": \"v\", \"showlegend\": true, \"type\": \"scatter\", \"x\": [24.0, 21.0, 46.0, 12.0, 37.0, 0.0, 38.0, 38.0, 20.0, 44.0, 32.0, 27.0, 43.0, 46.0, 17.0, 32.0, 44.0, 22.0, 13.0, 21.0, 32.0, 45.0, 45.0, 45.0, 45.0, 50.0, 37.0, 42.0, 36.0, 37.0, 40.0, 35.0, 16.0, 2.0, 8.0, 44.0, 36.0, 25.0, 40.0, 42.0, 32.0, 13.0, 40.0, 28.0, 4.0, 34.0, 43.0, 20.0, 25.0, 38.0, 38.0], \"xaxis\": \"x\", \"y\": [-3.5, -6.0, -10.0, -7.6, -4.3, -0.9, -14.1, -5.5, -8.3, -4.1, -3.8, 2.3, -6.8, -4.8, -10.4, -6.7, -7.5, -5.8, -19.0, -1.8, -6.1, -13.5, -1.5, 43.4, 1.5, -10.9, -10.2, -2.0, -2.6, -25.0, -59.7, -5.6, -32.2, -3.3, -15.8, -8.2, -15.2, -7.2, -0.9, -11.1, -3.9, -3.1, -18.9, -4.2, -3.2, -1.0, -3.6, -13.5, -6.1, 1.8, -30.0], \"yaxis\": \"y\"}, {\"hovertemplate\": \"<b>%{hovertext}</b><br><br>Income Group=Lower middle income<br>School Closure Weeks=%{x}<br>%Change in GDP=%{y}<extra></extra>\", \"hovertext\": [\"Angola\", \"Bangladesh\", \"Bhutan\", \"Bolivia\", \"Cambodia\", \"Cameroon\", \"Comoros\", \"Congo\", \"Djibouti\", \"Egypt\", \"El Salvador\", \"Eswatini\", \"Ghana\", \"Honduras\", \"India\", \"Indonesia\", \"Kenya\", \"Kyrgyzstan\", \"Laos\", \"Lesotho\", \"Mauritania\", \"Mongolia\", \"Morocco\", \"Myanmar\", \"Nicaragua\", \"Nigeria\", \"Pakistan\", \"Papua New Guinea\", \"Philippines\", \"Moldova\", \"Senegal\", \"Solomon Islands\", \"Sudan\", \"Timor\", \"Tunisia\", \"Ukraine\", \"Uzbekistan\", \"Vanuatu\", \"Vietnam\", \"Zambia\", \"Zimbabwe\"], \"legendgroup\": \"Lower middle income\", \"marker\": {\"color\": \"lightblue\", \"line\": {\"color\": \"black\", \"width\": 0.5}, \"opacity\": 0.8, \"size\": 12, \"symbol\": \"circle\"}, \"mode\": \"markers\", \"name\": \"Lower middle income\", \"orientation\": \"v\", \"showlegend\": true, \"type\": \"scatter\", \"x\": [46.0, 47.0, 49.0, 47.0, 29.0, 18.0, 35.0, 26.0, 7.0, 19.0, 45.0, 49.0, 40.0, 46.0, 51.0, 48.0, 37.0, 38.0, 19.0, 41.0, 23.0, 34.0, 21.0, 48.0, 15.0, 24.0, 33.0, 6.0, 34.0, 16.0, 22.0, 7.0, 22.0, 11.0, 28.0, 19.0, 12.0, 4.0, 14.0, 18.0, 34.0], \"xaxis\": \"x\", \"y\": [-4.0, 3.8, -0.8, -7.7, -3.5, -2.8, -0.5, -7.8, -1.0, 3.6, -8.6, -3.3, 0.9, -8.0, -8.0, -2.1, -0.1, -8.0, -0.4, -4.5, -2.2, -5.3, -7.0, 3.2, -3.0, -1.8, -0.4, -3.9, -9.5, -7.5, 0.8, -4.3, -3.6, -6.8, -8.8, -4.2, 1.6, -9.2, 2.9, -3.5, -8.0], \"yaxis\": \"y\"}, {\"hovertemplate\": \"<b>%{hovertext}</b><br><br>Income Group=High income<br>School Closure Weeks=%{x}<br>%Change in GDP=%{y}<extra></extra>\", \"hovertext\": [\"Antigua and Barbuda\", \"Australia\", \"Austria\", \"Bahamas\", \"Bahrain\", \"Barbados\", \"Belgium\", \"Brunei\", \"Canada\", \"Chile\", \"Croatia\", \"Cyprus\", \"Czechia\", \"Denmark\", \"Estonia\", \"Finland\", \"France\", \"Germany\", \"Greece\", \"Hungary\", \"Iceland\", \"Ireland\", \"Israel\", \"Italy\", \"Japan\", \"Kuwait\", \"Latvia\", \"Lithuania\", \"Luxembourg\", \"Malta\", \"Netherlands\", \"New Zealand\", \"Norway\", \"Oman\", \"Panama\", \"Poland\", \"Portugal\", \"Qatar\", \"South Korea\", \"Saint Kitts and Nevis\", \"Saudi Arabia\", \"Seychelles\", \"Singapore\", \"Slovakia\", \"Slovenia\", \"Spain\", \"Sweden\", \"Switzerland\", \"Trinidad and Tobago\", \"United Arab Emirates\", \"United Kingdom\", \"United States\", \"Uruguay\"], \"legendgroup\": \"High income\", \"marker\": {\"color\": \"blue\", \"line\": {\"color\": \"black\", \"width\": 0.5}, \"opacity\": 0.8, \"size\": 12, \"symbol\": \"circle\"}, \"mode\": \"markers\", \"name\": \"High income\", \"orientation\": \"v\", \"showlegend\": true, \"type\": \"scatter\", \"x\": [41.0, 27.0, 27.0, 41.0, 44.0, 31.0, 15.0, 17.0, 40.0, 44.0, 10.0, 25.0, 38.0, 23.0, 16.0, 23.0, 10.0, 28.0, 32.0, 33.0, 6.0, 26.0, 33.0, 35.0, 11.0, 42.0, 36.0, 29.0, 15.0, 19.0, 22.0, 9.0, 19.0, 26.0, 46.0, 35.0, 21.0, 41.0, 41.0, 11.0, 41.0, 19.0, 11.0, 37.0, 34.0, 15.0, 23.0, 6.0, 40.0, 42.0, 27.0, 47.0, 27.0], \"xaxis\": \"x\", \"y\": [-17.3, -2.4, -6.6, -16.3, -5.4, -17.6, -6.4, 1.2, -5.4, -5.8, -9.0, -5.1, -5.6, -3.3, -2.9, -2.9, -8.2, -4.9, -8.2, -5.0, -6.6, 2.5, -2.4, -8.9, -4.8, -8.1, -3.6, -0.8, -1.3, -7.0, -3.8, -3.0, -0.8, -6.4, -17.9, -2.7, -7.6, -2.6, -1.0, -18.7, -4.1, -13.4, -5.4, -7.0, -5.5, -11.0, -2.8, -3.0, -7.8, -5.9, -9.9, -3.5, -5.7], \"yaxis\": \"y\"}],                        {\"height\": 1000, \"legend\": {\"title\": {\"text\": \"Income Group\"}, \"tracegroupgap\": 0}, \"template\": {\"data\": {\"bar\": [{\"error_x\": {\"color\": \"#2a3f5f\"}, \"error_y\": {\"color\": \"#2a3f5f\"}, \"marker\": {\"line\": {\"color\": \"white\", \"width\": 0.5}}, \"type\": \"bar\"}], \"barpolar\": [{\"marker\": {\"line\": {\"color\": \"white\", \"width\": 0.5}}, \"type\": \"barpolar\"}], \"carpet\": [{\"aaxis\": {\"endlinecolor\": \"#2a3f5f\", \"gridcolor\": \"#C8D4E3\", \"linecolor\": \"#C8D4E3\", \"minorgridcolor\": \"#C8D4E3\", \"startlinecolor\": \"#2a3f5f\"}, \"baxis\": {\"endlinecolor\": \"#2a3f5f\", \"gridcolor\": \"#C8D4E3\", \"linecolor\": \"#C8D4E3\", \"minorgridcolor\": \"#C8D4E3\", \"startlinecolor\": \"#2a3f5f\"}, \"type\": \"carpet\"}], \"choropleth\": [{\"colorbar\": {\"outlinewidth\": 0, \"ticks\": \"\"}, \"type\": \"choropleth\"}], \"contour\": [{\"colorbar\": {\"outlinewidth\": 0, \"ticks\": \"\"}, \"colorscale\": [[0.0, \"#0d0887\"], [0.1111111111111111, \"#46039f\"], [0.2222222222222222, \"#7201a8\"], [0.3333333333333333, \"#9c179e\"], [0.4444444444444444, \"#bd3786\"], [0.5555555555555556, \"#d8576b\"], [0.6666666666666666, \"#ed7953\"], [0.7777777777777778, \"#fb9f3a\"], [0.8888888888888888, \"#fdca26\"], [1.0, \"#f0f921\"]], \"type\": \"contour\"}], \"contourcarpet\": [{\"colorbar\": {\"outlinewidth\": 0, \"ticks\": \"\"}, \"type\": \"contourcarpet\"}], \"heatmap\": [{\"colorbar\": {\"outlinewidth\": 0, \"ticks\": \"\"}, \"colorscale\": [[0.0, \"#0d0887\"], [0.1111111111111111, \"#46039f\"], [0.2222222222222222, \"#7201a8\"], [0.3333333333333333, \"#9c179e\"], [0.4444444444444444, \"#bd3786\"], [0.5555555555555556, \"#d8576b\"], [0.6666666666666666, \"#ed7953\"], [0.7777777777777778, \"#fb9f3a\"], [0.8888888888888888, \"#fdca26\"], [1.0, \"#f0f921\"]], \"type\": \"heatmap\"}], \"heatmapgl\": [{\"colorbar\": {\"outlinewidth\": 0, \"ticks\": \"\"}, \"colorscale\": [[0.0, \"#0d0887\"], [0.1111111111111111, \"#46039f\"], [0.2222222222222222, \"#7201a8\"], [0.3333333333333333, \"#9c179e\"], [0.4444444444444444, \"#bd3786\"], [0.5555555555555556, \"#d8576b\"], [0.6666666666666666, \"#ed7953\"], [0.7777777777777778, \"#fb9f3a\"], [0.8888888888888888, \"#fdca26\"], [1.0, \"#f0f921\"]], \"type\": \"heatmapgl\"}], \"histogram\": [{\"marker\": {\"colorbar\": {\"outlinewidth\": 0, \"ticks\": \"\"}}, \"type\": \"histogram\"}], \"histogram2d\": [{\"colorbar\": {\"outlinewidth\": 0, \"ticks\": \"\"}, \"colorscale\": [[0.0, \"#0d0887\"], [0.1111111111111111, \"#46039f\"], [0.2222222222222222, \"#7201a8\"], [0.3333333333333333, \"#9c179e\"], [0.4444444444444444, \"#bd3786\"], [0.5555555555555556, \"#d8576b\"], [0.6666666666666666, \"#ed7953\"], [0.7777777777777778, \"#fb9f3a\"], [0.8888888888888888, \"#fdca26\"], [1.0, \"#f0f921\"]], \"type\": \"histogram2d\"}], \"histogram2dcontour\": [{\"colorbar\": {\"outlinewidth\": 0, \"ticks\": \"\"}, \"colorscale\": [[0.0, \"#0d0887\"], [0.1111111111111111, \"#46039f\"], [0.2222222222222222, \"#7201a8\"], [0.3333333333333333, \"#9c179e\"], [0.4444444444444444, \"#bd3786\"], [0.5555555555555556, \"#d8576b\"], [0.6666666666666666, \"#ed7953\"], [0.7777777777777778, \"#fb9f3a\"], [0.8888888888888888, \"#fdca26\"], [1.0, \"#f0f921\"]], \"type\": \"histogram2dcontour\"}], \"mesh3d\": [{\"colorbar\": {\"outlinewidth\": 0, \"ticks\": \"\"}, \"type\": \"mesh3d\"}], \"parcoords\": [{\"line\": {\"colorbar\": {\"outlinewidth\": 0, \"ticks\": \"\"}}, \"type\": \"parcoords\"}], \"pie\": [{\"automargin\": true, \"type\": \"pie\"}], \"scatter\": [{\"marker\": {\"colorbar\": {\"outlinewidth\": 0, \"ticks\": \"\"}}, \"type\": \"scatter\"}], \"scatter3d\": [{\"line\": {\"colorbar\": {\"outlinewidth\": 0, \"ticks\": \"\"}}, \"marker\": {\"colorbar\": {\"outlinewidth\": 0, \"ticks\": \"\"}}, \"type\": \"scatter3d\"}], \"scattercarpet\": [{\"marker\": {\"colorbar\": {\"outlinewidth\": 0, \"ticks\": \"\"}}, \"type\": \"scattercarpet\"}], \"scattergeo\": [{\"marker\": {\"colorbar\": {\"outlinewidth\": 0, \"ticks\": \"\"}}, \"type\": \"scattergeo\"}], \"scattergl\": [{\"marker\": {\"colorbar\": {\"outlinewidth\": 0, \"ticks\": \"\"}}, \"type\": \"scattergl\"}], \"scattermapbox\": [{\"marker\": {\"colorbar\": {\"outlinewidth\": 0, \"ticks\": \"\"}}, \"type\": \"scattermapbox\"}], \"scatterpolar\": [{\"marker\": {\"colorbar\": {\"outlinewidth\": 0, \"ticks\": \"\"}}, \"type\": \"scatterpolar\"}], \"scatterpolargl\": [{\"marker\": {\"colorbar\": {\"outlinewidth\": 0, \"ticks\": \"\"}}, \"type\": \"scatterpolargl\"}], \"scatterternary\": [{\"marker\": {\"colorbar\": {\"outlinewidth\": 0, \"ticks\": \"\"}}, \"type\": \"scatterternary\"}], \"surface\": [{\"colorbar\": {\"outlinewidth\": 0, \"ticks\": \"\"}, \"colorscale\": [[0.0, \"#0d0887\"], [0.1111111111111111, \"#46039f\"], [0.2222222222222222, \"#7201a8\"], [0.3333333333333333, \"#9c179e\"], [0.4444444444444444, \"#bd3786\"], [0.5555555555555556, \"#d8576b\"], [0.6666666666666666, \"#ed7953\"], [0.7777777777777778, \"#fb9f3a\"], [0.8888888888888888, \"#fdca26\"], [1.0, \"#f0f921\"]], \"type\": \"surface\"}], \"table\": [{\"cells\": {\"fill\": {\"color\": \"#EBF0F8\"}, \"line\": {\"color\": \"white\"}}, \"header\": {\"fill\": {\"color\": \"#C8D4E3\"}, \"line\": {\"color\": \"white\"}}, \"type\": \"table\"}]}, \"layout\": {\"annotationdefaults\": {\"arrowcolor\": \"#2a3f5f\", \"arrowhead\": 0, \"arrowwidth\": 1}, \"autotypenumbers\": \"strict\", \"coloraxis\": {\"colorbar\": {\"outlinewidth\": 0, \"ticks\": \"\"}}, \"colorscale\": {\"diverging\": [[0, \"#8e0152\"], [0.1, \"#c51b7d\"], [0.2, \"#de77ae\"], [0.3, \"#f1b6da\"], [0.4, \"#fde0ef\"], [0.5, \"#f7f7f7\"], [0.6, \"#e6f5d0\"], [0.7, \"#b8e186\"], [0.8, \"#7fbc41\"], [0.9, \"#4d9221\"], [1, \"#276419\"]], \"sequential\": [[0.0, \"#0d0887\"], [0.1111111111111111, \"#46039f\"], [0.2222222222222222, \"#7201a8\"], [0.3333333333333333, \"#9c179e\"], [0.4444444444444444, \"#bd3786\"], [0.5555555555555556, \"#d8576b\"], [0.6666666666666666, \"#ed7953\"], [0.7777777777777778, \"#fb9f3a\"], [0.8888888888888888, \"#fdca26\"], [1.0, \"#f0f921\"]], \"sequentialminus\": [[0.0, \"#0d0887\"], [0.1111111111111111, \"#46039f\"], [0.2222222222222222, \"#7201a8\"], [0.3333333333333333, \"#9c179e\"], [0.4444444444444444, \"#bd3786\"], [0.5555555555555556, \"#d8576b\"], [0.6666666666666666, \"#ed7953\"], [0.7777777777777778, \"#fb9f3a\"], [0.8888888888888888, \"#fdca26\"], [1.0, \"#f0f921\"]]}, \"colorway\": [\"#636efa\", \"#EF553B\", \"#00cc96\", \"#ab63fa\", \"#FFA15A\", \"#19d3f3\", \"#FF6692\", \"#B6E880\", \"#FF97FF\", \"#FECB52\"], \"font\": {\"color\": \"#2a3f5f\"}, \"geo\": {\"bgcolor\": \"white\", \"lakecolor\": \"white\", \"landcolor\": \"white\", \"showlakes\": true, \"showland\": true, \"subunitcolor\": \"#C8D4E3\"}, \"hoverlabel\": {\"align\": \"left\"}, \"hovermode\": \"closest\", \"mapbox\": {\"style\": \"light\"}, \"paper_bgcolor\": \"white\", \"plot_bgcolor\": \"white\", \"polar\": {\"angularaxis\": {\"gridcolor\": \"#EBF0F8\", \"linecolor\": \"#EBF0F8\", \"ticks\": \"\"}, \"bgcolor\": \"white\", \"radialaxis\": {\"gridcolor\": \"#EBF0F8\", \"linecolor\": \"#EBF0F8\", \"ticks\": \"\"}}, \"scene\": {\"xaxis\": {\"backgroundcolor\": \"white\", \"gridcolor\": \"#DFE8F3\", \"gridwidth\": 2, \"linecolor\": \"#EBF0F8\", \"showbackground\": true, \"ticks\": \"\", \"zerolinecolor\": \"#EBF0F8\"}, \"yaxis\": {\"backgroundcolor\": \"white\", \"gridcolor\": \"#DFE8F3\", \"gridwidth\": 2, \"linecolor\": \"#EBF0F8\", \"showbackground\": true, \"ticks\": \"\", \"zerolinecolor\": \"#EBF0F8\"}, \"zaxis\": {\"backgroundcolor\": \"white\", \"gridcolor\": \"#DFE8F3\", \"gridwidth\": 2, \"linecolor\": \"#EBF0F8\", \"showbackground\": true, \"ticks\": \"\", \"zerolinecolor\": \"#EBF0F8\"}}, \"shapedefaults\": {\"line\": {\"color\": \"#2a3f5f\"}}, \"ternary\": {\"aaxis\": {\"gridcolor\": \"#DFE8F3\", \"linecolor\": \"#A2B1C6\", \"ticks\": \"\"}, \"baxis\": {\"gridcolor\": \"#DFE8F3\", \"linecolor\": \"#A2B1C6\", \"ticks\": \"\"}, \"bgcolor\": \"white\", \"caxis\": {\"gridcolor\": \"#DFE8F3\", \"linecolor\": \"#A2B1C6\", \"ticks\": \"\"}}, \"title\": {\"x\": 0.05}, \"xaxis\": {\"automargin\": true, \"gridcolor\": \"#EBF0F8\", \"linecolor\": \"#EBF0F8\", \"ticks\": \"\", \"title\": {\"standoff\": 15}, \"zerolinecolor\": \"#EBF0F8\", \"zerolinewidth\": 2}, \"yaxis\": {\"automargin\": true, \"gridcolor\": \"#EBF0F8\", \"linecolor\": \"#EBF0F8\", \"ticks\": \"\", \"title\": {\"standoff\": 15}, \"zerolinecolor\": \"#EBF0F8\", \"zerolinewidth\": 2}}}, \"title\": {\"text\": \"%Change in GDP vs. School Closure Weeks, color=Income Group\"}, \"width\": 900, \"xaxis\": {\"anchor\": \"y\", \"domain\": [0.0, 1.0], \"title\": {\"text\": \"School Closure Weeks\"}}, \"yaxis\": {\"anchor\": \"x\", \"domain\": [0.0, 1.0], \"title\": {\"text\": \"%Change in GDP\"}}},                        {\"responsive\": true}                    ).then(function(){\n",
       "                            \n",
       "var gd = document.getElementById('72cf3528-5a34-4b40-a866-b51aeeead895');\n",
       "var x = new MutationObserver(function (mutations, observer) {{\n",
       "        var display = window.getComputedStyle(gd).display;\n",
       "        if (!display || display === 'none') {{\n",
       "            console.log([gd, 'removed!']);\n",
       "            Plotly.purge(gd);\n",
       "            observer.disconnect();\n",
       "        }}\n",
       "}});\n",
       "\n",
       "// Listen for the removal of the full notebook cells\n",
       "var notebookContainer = gd.closest('#notebook-container');\n",
       "if (notebookContainer) {{\n",
       "    x.observe(notebookContainer, {childList: true});\n",
       "}}\n",
       "\n",
       "// Listen for the clearing of the current output cell\n",
       "var outputEl = gd.closest('.output');\n",
       "if (outputEl) {{\n",
       "    x.observe(outputEl, {childList: true});\n",
       "}}\n",
       "\n",
       "                        })                };                });            </script>        </div>"
      ]
     },
     "metadata": {},
     "output_type": "display_data"
    }
   ],
   "source": [
    "fig1 = px.scatter(df3, x=\"closure\", y=\"change\",\n",
    "                 color='Income Group',\n",
    "                 color_discrete_sequence=['black','grey','lightblue','blue'],\n",
    "                 opacity=0.8,\n",
    "                 hover_name=\"Country\",\n",
    "                 labels={\"closure\": \"School Closure Weeks\",\n",
    "                        \"change\":\"%Change in GDP\"},\n",
    "                 title=\"%Change in GDP vs. School Closure Weeks, color=Income Group\",\n",
    "                 size_max=12,\n",
    "                 width=900, height=1000,\n",
    "                 template='plotly_white'\n",
    "                )\n",
    "\n",
    "fig1.update_traces(marker=dict(size=12,\n",
    "                              line=dict(width=0.5,\n",
    "                                        color='black')),\n",
    "                  selector=dict(mode='markers'))\n",
    "\n",
    "\n",
    "fig1.show()"
   ]
  },
  {
   "cell_type": "code",
   "execution_count": 64,
   "id": "designed-beads",
   "metadata": {},
   "outputs": [
    {
     "data": {
      "application/vnd.plotly.v1+json": {
       "config": {
        "plotlyServerURL": "https://plotly.com"
       },
       "data": [
        {
         "hovertemplate": "<b>%{hovertext}</b><br><br>School Closure Weeks=%{x}<br>%Change in GDP=%{y}<br>internet=%{marker.color}<extra></extra>",
         "hovertext": [
          "Afghanistan",
          "Albania",
          "Algeria",
          "Angola",
          "Antigua and Barbuda",
          "Argentina",
          "Armenia",
          "Australia",
          "Austria",
          "Azerbaijan",
          "Bahamas",
          "Bahrain",
          "Bangladesh",
          "Barbados",
          "Belarus",
          "Belgium",
          "Belize",
          "Benin",
          "Bhutan",
          "Bolivia",
          "Bosnia and Herzegovina",
          "Botswana",
          "Brazil",
          "Brunei",
          "Bulgaria",
          "Burkina Faso",
          "Burundi",
          "Cambodia",
          "Cameroon",
          "Canada",
          "Central African Republic",
          "Chad",
          "Chile",
          "China",
          "Colombia",
          "Comoros",
          "Congo",
          "Costa Rica",
          "Croatia",
          "Cyprus",
          "Czechia",
          "Democratic Republic of Congo",
          "Denmark",
          "Djibouti",
          "Dominica",
          "Dominican Republic",
          "Ecuador",
          "Egypt",
          "El Salvador",
          "Equatorial Guinea",
          "Eritrea",
          "Estonia",
          "Eswatini",
          "Ethiopia",
          "Fiji",
          "Finland",
          "France",
          "Gabon",
          "Gambia",
          "Georgia",
          "Germany",
          "Ghana",
          "Greece",
          "Grenada",
          "Guatemala",
          "Guinea",
          "Guinea-Bissau",
          "Guyana",
          "Haiti",
          "Honduras",
          "Hungary",
          "Iceland",
          "India",
          "Indonesia",
          "Iran",
          "Iraq",
          "Ireland",
          "Israel",
          "Italy",
          "Jamaica",
          "Japan",
          "Jordan",
          "Kazakhstan",
          "Kenya",
          "Kuwait",
          "Kyrgyzstan",
          "Laos",
          "Latvia",
          "Lebanon",
          "Lesotho",
          "Liberia",
          "Libya",
          "Lithuania",
          "Luxembourg",
          "Madagascar",
          "Malawi",
          "Malaysia",
          "Maldives",
          "Mali",
          "Malta",
          "Marshall Islands",
          "Mauritania",
          "Mauritius",
          "Mexico",
          "Mongolia",
          "Montenegro",
          "Morocco",
          "Mozambique",
          "Myanmar",
          "Namibia",
          "Nepal",
          "Netherlands",
          "New Zealand",
          "Nicaragua",
          "Niger",
          "Nigeria",
          "Norway",
          "Oman",
          "Pakistan",
          "Panama",
          "Papua New Guinea",
          "Paraguay",
          "Peru",
          "Philippines",
          "Poland",
          "Portugal",
          "Qatar",
          "South Korea",
          "Moldova",
          "Romania",
          "Russia",
          "Rwanda",
          "Saint Kitts and Nevis",
          "Saint Lucia",
          "Saint Vincent and the Grenadines",
          "Samoa",
          "Saudi Arabia",
          "Senegal",
          "Serbia",
          "Seychelles",
          "Sierra Leone",
          "Singapore",
          "Slovakia",
          "Slovenia",
          "Solomon Islands",
          "Somalia",
          "South Sudan",
          "Spain",
          "Sri Lanka",
          "Sudan",
          "Suriname",
          "Sweden",
          "Switzerland",
          "Tajikistan",
          "Thailand",
          "Timor",
          "Togo",
          "Trinidad and Tobago",
          "Tunisia",
          "Turkey",
          "Uganda",
          "Ukraine",
          "United Arab Emirates",
          "United Kingdom",
          "Tanzania",
          "United States",
          "Uruguay",
          "Uzbekistan",
          "Vanuatu",
          "Venezuela",
          "Vietnam",
          "Yemen",
          "Zambia",
          "Zimbabwe"
         ],
         "legendgroup": "",
         "marker": {
          "color": [
           10.5957264186601,
           66.363444701023,
           42.9455268800332,
           13,
           73,
           70.9689808206024,
           64.3460297653742,
           88.2386580521762,
           84.3233312921004,
           78.2,
           80,
           97.9999807024146,
           18.2469380029449,
           79.5493978888735,
           71.1130457603832,
           86.5165,
           44.57574032,
           11.994047908223,
           41.7726445321672,
           39.6975146032685,
           60.26,
           39.36299738,
           60.8725400681261,
           90,
           59.825547661014,
           13.96,
           5.17362677652886,
           32.3984517141849,
           25,
           91.16,
           4,
           5,
           83.56,
           53.2,
           58.1364935728703,
           7.938322770803,
           8.121949323466,
           66.028712851114,
           72.6973060458944,
           75.9003601905124,
           76.4812013779572,
           6.20997406030119,
           96.9677852516645,
           13.1349151074,
           67.03,
           63.87,
           54.0629247288864,
           41.2480670885772,
           28.997073045597,
           23.779999971074,
           1.177118720157,
           87.2373320920335,
           28.5735227827685,
           15.3669238595896,
           46.5069783122217,
           87.7036499599455,
           79.27,
           48.0522737506185,
           18.5,
           59.26,
           89.6471005903368,
           34.66600065,
           69.0879154723892,
           55.8564078225865,
           34.5093260915602,
           9.8,
           3.761413832337,
           35.66,
           12.2326016070408,
           30,
           79.2594013161699,
           98.2400162999185,
           29.5471628858754,
           25.45,
           53.2267726333568,
           21.23,
           85.0111321151019,
           79.6531241815281,
           61.3242527666303,
           44.3668563671334,
           93.1827212821617,
           62.3021925670712,
           74.5877264735738,
           16.6,
           78.36738376,
           34.5,
           21.87,
           79.8420977843089,
           76.11,
           27.36,
           7.31910641139578,
           20.27215956269,
           74.3766455618662,
           98.1366986657616,
           4.713662899498,
           11.47,
           78.7883099275229,
           59.0925899654109,
           11.1121864890589,
           77.2893948185413,
           29.7877793626081,
           18,
           52.1913259356523,
           59.5404459967255,
           22.2657705007562,
           69.8816468416779,
           58.271236420398,
           17.5212390868424,
           25.07330424,
           31.0333459383454,
           19.688763836629,
           90.4109589041096,
           88.470186347099,
           24.5718339595365,
           4.32275803028068,
           25.67,
           97.2982036675068,
           76.85,
           15.5145577897414,
           54,
           9.60153846153846,
           53.4,
           45.4617406869459,
           55.5,
           73.3007,
           70.423567088723,
           94.2911181549896,
           92.8430256796075,
           70.9999991066624,
           59.5039512852713,
           73.091434617897,
           20,
           76.8176749076294,
           46.7290780591803,
           55.5746194230166,
           29.4117301129981,
           74.88,
           25.6647680413953,
           67.0568413716938,
           56.5147081470678,
           11.77318438,
           84.45,
           80.4759,
           75.4985042610791,
           11.000902271205,
           1.88,
           6.6797280510287,
           80.5613329432179,
           32.0510027436177,
           28,
           45.4,
           89.6509476102355,
           89.1346877351392,
           20.470000000055,
           47.5049656215909,
           25.24624959,
           11.31,
           73.296941218486,
           49.6,
           58.3477340145685,
           21.87617046,
           53,
           90.6000073180483,
           94.7758006318882,
           13,
           76.176736982841,
           66.4,
           46.7912869407806,
           24,
           60,
           46.5,
           24.5792083636211,
           25.5065788475702,
           23.11998904
          ],
          "coloraxis": "coloraxis",
          "line": {
           "color": "black",
           "width": 0.5
          },
          "opacity": 0.8,
          "size": 12,
          "symbol": "circle"
         },
         "mode": "markers",
         "name": "",
         "orientation": "v",
         "showlegend": false,
         "type": "scatter",
         "x": [
          31,
          24,
          21,
          46,
          41,
          46,
          12,
          27,
          27,
          37,
          41,
          44,
          47,
          31,
          0,
          15,
          38,
          15,
          49,
          47,
          38,
          20,
          44,
          17,
          32,
          14,
          0,
          29,
          18,
          40,
          23,
          28,
          44,
          27,
          43,
          35,
          26,
          46,
          10,
          25,
          38,
          33,
          23,
          7,
          17,
          32,
          44,
          19,
          45,
          22,
          49,
          16,
          49,
          31,
          13,
          23,
          10,
          21,
          28,
          32,
          28,
          40,
          32,
          45,
          45,
          22,
          23,
          45,
          31,
          46,
          33,
          6,
          51,
          48,
          45,
          50,
          26,
          33,
          35,
          37,
          11,
          42,
          36,
          37,
          42,
          38,
          19,
          36,
          37,
          41,
          37,
          40,
          29,
          15,
          16,
          26,
          35,
          16,
          17,
          19,
          2,
          23,
          8,
          44,
          34,
          36,
          21,
          45,
          48,
          25,
          53,
          22,
          9,
          15,
          16,
          24,
          19,
          26,
          33,
          46,
          6,
          40,
          42,
          34,
          35,
          21,
          41,
          41,
          16,
          32,
          13,
          47,
          11,
          40,
          28,
          4,
          41,
          22,
          34,
          19,
          14,
          11,
          37,
          34,
          7,
          15,
          49,
          15,
          43,
          22,
          20,
          23,
          6,
          0,
          25,
          11,
          14,
          40,
          28,
          38,
          50,
          19,
          42,
          27,
          15,
          47,
          27,
          12,
          4,
          38,
          14,
          19,
          18,
          34
         ],
         "xaxis": "x",
         "y": [
          -5,
          -3.5,
          -6,
          -4,
          -17.3,
          -10,
          -7.6,
          -2.4,
          -6.6,
          -4.3,
          -16.3,
          -5.4,
          3.8,
          -17.6,
          -0.9,
          -6.4,
          -14.1,
          2,
          -0.8,
          -7.7,
          -5.5,
          -8.3,
          -4.1,
          1.2,
          -3.8,
          0.8,
          -1.3,
          -3.5,
          -2.8,
          -5.4,
          0,
          -0.9,
          -5.8,
          2.3,
          -6.8,
          -0.5,
          -7.8,
          -4.8,
          -9,
          -5.1,
          -5.6,
          -0.1,
          -3.3,
          -1,
          -10.4,
          -6.7,
          -7.5,
          3.6,
          -8.6,
          -5.8,
          -0.6,
          -2.9,
          -3.3,
          6.1,
          -19,
          -2.9,
          -8.2,
          -1.8,
          0,
          -6.1,
          -4.9,
          0.9,
          -8.2,
          -13.5,
          -1.5,
          5.2,
          -2.4,
          43.4,
          -3.7,
          -8,
          -5,
          -6.6,
          -8,
          -2.1,
          1.5,
          -10.9,
          2.5,
          -2.4,
          -8.9,
          -10.2,
          -4.8,
          -2,
          -2.6,
          -0.1,
          -8.1,
          -8,
          -0.4,
          -3.6,
          -25,
          -4.5,
          -3,
          -59.7,
          -0.8,
          -1.3,
          -4.2,
          0.6,
          -5.6,
          -32.2,
          -2,
          -7,
          -3.3,
          -2.2,
          -15.8,
          -8.2,
          -5.3,
          -15.2,
          -7,
          -0.5,
          3.2,
          -7.2,
          -1.9,
          -3.8,
          -3,
          -3,
          1.2,
          -1.8,
          -0.8,
          -6.4,
          -0.4,
          -17.9,
          -3.9,
          -0.9,
          -11.1,
          -9.5,
          -2.7,
          -7.6,
          -2.6,
          -1,
          -7.5,
          -3.9,
          -3.1,
          -0.2,
          -18.7,
          -18.9,
          -4.2,
          -3.2,
          -4.1,
          0.8,
          -1,
          -13.4,
          -2.2,
          -5.4,
          -7,
          -5.5,
          -4.3,
          -1.5,
          -6.6,
          -11,
          -3.6,
          -3.6,
          -13.5,
          -2.8,
          -3,
          4.5,
          -6.1,
          -6.8,
          0.7,
          -7.8,
          -8.8,
          1.8,
          -2.1,
          -4.2,
          -5.9,
          -9.9,
          1,
          -3.5,
          -5.7,
          1.6,
          -9.2,
          -30,
          2.9,
          -5,
          -3.5,
          -8
         ],
         "yaxis": "y"
        }
       ],
       "layout": {
        "coloraxis": {
         "colorbar": {
          "title": {
           "text": "internet"
          }
         },
         "colorscale": [
          [
           0,
           "#0d0887"
          ],
          [
           0.1111111111111111,
           "#46039f"
          ],
          [
           0.2222222222222222,
           "#7201a8"
          ],
          [
           0.3333333333333333,
           "#9c179e"
          ],
          [
           0.4444444444444444,
           "#bd3786"
          ],
          [
           0.5555555555555556,
           "#d8576b"
          ],
          [
           0.6666666666666666,
           "#ed7953"
          ],
          [
           0.7777777777777778,
           "#fb9f3a"
          ],
          [
           0.8888888888888888,
           "#fdca26"
          ],
          [
           1,
           "#f0f921"
          ]
         ]
        },
        "height": 1000,
        "legend": {
         "tracegroupgap": 0
        },
        "template": {
         "data": {
          "bar": [
           {
            "error_x": {
             "color": "#2a3f5f"
            },
            "error_y": {
             "color": "#2a3f5f"
            },
            "marker": {
             "line": {
              "color": "white",
              "width": 0.5
             }
            },
            "type": "bar"
           }
          ],
          "barpolar": [
           {
            "marker": {
             "line": {
              "color": "white",
              "width": 0.5
             }
            },
            "type": "barpolar"
           }
          ],
          "carpet": [
           {
            "aaxis": {
             "endlinecolor": "#2a3f5f",
             "gridcolor": "#C8D4E3",
             "linecolor": "#C8D4E3",
             "minorgridcolor": "#C8D4E3",
             "startlinecolor": "#2a3f5f"
            },
            "baxis": {
             "endlinecolor": "#2a3f5f",
             "gridcolor": "#C8D4E3",
             "linecolor": "#C8D4E3",
             "minorgridcolor": "#C8D4E3",
             "startlinecolor": "#2a3f5f"
            },
            "type": "carpet"
           }
          ],
          "choropleth": [
           {
            "colorbar": {
             "outlinewidth": 0,
             "ticks": ""
            },
            "type": "choropleth"
           }
          ],
          "contour": [
           {
            "colorbar": {
             "outlinewidth": 0,
             "ticks": ""
            },
            "colorscale": [
             [
              0,
              "#0d0887"
             ],
             [
              0.1111111111111111,
              "#46039f"
             ],
             [
              0.2222222222222222,
              "#7201a8"
             ],
             [
              0.3333333333333333,
              "#9c179e"
             ],
             [
              0.4444444444444444,
              "#bd3786"
             ],
             [
              0.5555555555555556,
              "#d8576b"
             ],
             [
              0.6666666666666666,
              "#ed7953"
             ],
             [
              0.7777777777777778,
              "#fb9f3a"
             ],
             [
              0.8888888888888888,
              "#fdca26"
             ],
             [
              1,
              "#f0f921"
             ]
            ],
            "type": "contour"
           }
          ],
          "contourcarpet": [
           {
            "colorbar": {
             "outlinewidth": 0,
             "ticks": ""
            },
            "type": "contourcarpet"
           }
          ],
          "heatmap": [
           {
            "colorbar": {
             "outlinewidth": 0,
             "ticks": ""
            },
            "colorscale": [
             [
              0,
              "#0d0887"
             ],
             [
              0.1111111111111111,
              "#46039f"
             ],
             [
              0.2222222222222222,
              "#7201a8"
             ],
             [
              0.3333333333333333,
              "#9c179e"
             ],
             [
              0.4444444444444444,
              "#bd3786"
             ],
             [
              0.5555555555555556,
              "#d8576b"
             ],
             [
              0.6666666666666666,
              "#ed7953"
             ],
             [
              0.7777777777777778,
              "#fb9f3a"
             ],
             [
              0.8888888888888888,
              "#fdca26"
             ],
             [
              1,
              "#f0f921"
             ]
            ],
            "type": "heatmap"
           }
          ],
          "heatmapgl": [
           {
            "colorbar": {
             "outlinewidth": 0,
             "ticks": ""
            },
            "colorscale": [
             [
              0,
              "#0d0887"
             ],
             [
              0.1111111111111111,
              "#46039f"
             ],
             [
              0.2222222222222222,
              "#7201a8"
             ],
             [
              0.3333333333333333,
              "#9c179e"
             ],
             [
              0.4444444444444444,
              "#bd3786"
             ],
             [
              0.5555555555555556,
              "#d8576b"
             ],
             [
              0.6666666666666666,
              "#ed7953"
             ],
             [
              0.7777777777777778,
              "#fb9f3a"
             ],
             [
              0.8888888888888888,
              "#fdca26"
             ],
             [
              1,
              "#f0f921"
             ]
            ],
            "type": "heatmapgl"
           }
          ],
          "histogram": [
           {
            "marker": {
             "colorbar": {
              "outlinewidth": 0,
              "ticks": ""
             }
            },
            "type": "histogram"
           }
          ],
          "histogram2d": [
           {
            "colorbar": {
             "outlinewidth": 0,
             "ticks": ""
            },
            "colorscale": [
             [
              0,
              "#0d0887"
             ],
             [
              0.1111111111111111,
              "#46039f"
             ],
             [
              0.2222222222222222,
              "#7201a8"
             ],
             [
              0.3333333333333333,
              "#9c179e"
             ],
             [
              0.4444444444444444,
              "#bd3786"
             ],
             [
              0.5555555555555556,
              "#d8576b"
             ],
             [
              0.6666666666666666,
              "#ed7953"
             ],
             [
              0.7777777777777778,
              "#fb9f3a"
             ],
             [
              0.8888888888888888,
              "#fdca26"
             ],
             [
              1,
              "#f0f921"
             ]
            ],
            "type": "histogram2d"
           }
          ],
          "histogram2dcontour": [
           {
            "colorbar": {
             "outlinewidth": 0,
             "ticks": ""
            },
            "colorscale": [
             [
              0,
              "#0d0887"
             ],
             [
              0.1111111111111111,
              "#46039f"
             ],
             [
              0.2222222222222222,
              "#7201a8"
             ],
             [
              0.3333333333333333,
              "#9c179e"
             ],
             [
              0.4444444444444444,
              "#bd3786"
             ],
             [
              0.5555555555555556,
              "#d8576b"
             ],
             [
              0.6666666666666666,
              "#ed7953"
             ],
             [
              0.7777777777777778,
              "#fb9f3a"
             ],
             [
              0.8888888888888888,
              "#fdca26"
             ],
             [
              1,
              "#f0f921"
             ]
            ],
            "type": "histogram2dcontour"
           }
          ],
          "mesh3d": [
           {
            "colorbar": {
             "outlinewidth": 0,
             "ticks": ""
            },
            "type": "mesh3d"
           }
          ],
          "parcoords": [
           {
            "line": {
             "colorbar": {
              "outlinewidth": 0,
              "ticks": ""
             }
            },
            "type": "parcoords"
           }
          ],
          "pie": [
           {
            "automargin": true,
            "type": "pie"
           }
          ],
          "scatter": [
           {
            "marker": {
             "colorbar": {
              "outlinewidth": 0,
              "ticks": ""
             }
            },
            "type": "scatter"
           }
          ],
          "scatter3d": [
           {
            "line": {
             "colorbar": {
              "outlinewidth": 0,
              "ticks": ""
             }
            },
            "marker": {
             "colorbar": {
              "outlinewidth": 0,
              "ticks": ""
             }
            },
            "type": "scatter3d"
           }
          ],
          "scattercarpet": [
           {
            "marker": {
             "colorbar": {
              "outlinewidth": 0,
              "ticks": ""
             }
            },
            "type": "scattercarpet"
           }
          ],
          "scattergeo": [
           {
            "marker": {
             "colorbar": {
              "outlinewidth": 0,
              "ticks": ""
             }
            },
            "type": "scattergeo"
           }
          ],
          "scattergl": [
           {
            "marker": {
             "colorbar": {
              "outlinewidth": 0,
              "ticks": ""
             }
            },
            "type": "scattergl"
           }
          ],
          "scattermapbox": [
           {
            "marker": {
             "colorbar": {
              "outlinewidth": 0,
              "ticks": ""
             }
            },
            "type": "scattermapbox"
           }
          ],
          "scatterpolar": [
           {
            "marker": {
             "colorbar": {
              "outlinewidth": 0,
              "ticks": ""
             }
            },
            "type": "scatterpolar"
           }
          ],
          "scatterpolargl": [
           {
            "marker": {
             "colorbar": {
              "outlinewidth": 0,
              "ticks": ""
             }
            },
            "type": "scatterpolargl"
           }
          ],
          "scatterternary": [
           {
            "marker": {
             "colorbar": {
              "outlinewidth": 0,
              "ticks": ""
             }
            },
            "type": "scatterternary"
           }
          ],
          "surface": [
           {
            "colorbar": {
             "outlinewidth": 0,
             "ticks": ""
            },
            "colorscale": [
             [
              0,
              "#0d0887"
             ],
             [
              0.1111111111111111,
              "#46039f"
             ],
             [
              0.2222222222222222,
              "#7201a8"
             ],
             [
              0.3333333333333333,
              "#9c179e"
             ],
             [
              0.4444444444444444,
              "#bd3786"
             ],
             [
              0.5555555555555556,
              "#d8576b"
             ],
             [
              0.6666666666666666,
              "#ed7953"
             ],
             [
              0.7777777777777778,
              "#fb9f3a"
             ],
             [
              0.8888888888888888,
              "#fdca26"
             ],
             [
              1,
              "#f0f921"
             ]
            ],
            "type": "surface"
           }
          ],
          "table": [
           {
            "cells": {
             "fill": {
              "color": "#EBF0F8"
             },
             "line": {
              "color": "white"
             }
            },
            "header": {
             "fill": {
              "color": "#C8D4E3"
             },
             "line": {
              "color": "white"
             }
            },
            "type": "table"
           }
          ]
         },
         "layout": {
          "annotationdefaults": {
           "arrowcolor": "#2a3f5f",
           "arrowhead": 0,
           "arrowwidth": 1
          },
          "autotypenumbers": "strict",
          "coloraxis": {
           "colorbar": {
            "outlinewidth": 0,
            "ticks": ""
           }
          },
          "colorscale": {
           "diverging": [
            [
             0,
             "#8e0152"
            ],
            [
             0.1,
             "#c51b7d"
            ],
            [
             0.2,
             "#de77ae"
            ],
            [
             0.3,
             "#f1b6da"
            ],
            [
             0.4,
             "#fde0ef"
            ],
            [
             0.5,
             "#f7f7f7"
            ],
            [
             0.6,
             "#e6f5d0"
            ],
            [
             0.7,
             "#b8e186"
            ],
            [
             0.8,
             "#7fbc41"
            ],
            [
             0.9,
             "#4d9221"
            ],
            [
             1,
             "#276419"
            ]
           ],
           "sequential": [
            [
             0,
             "#0d0887"
            ],
            [
             0.1111111111111111,
             "#46039f"
            ],
            [
             0.2222222222222222,
             "#7201a8"
            ],
            [
             0.3333333333333333,
             "#9c179e"
            ],
            [
             0.4444444444444444,
             "#bd3786"
            ],
            [
             0.5555555555555556,
             "#d8576b"
            ],
            [
             0.6666666666666666,
             "#ed7953"
            ],
            [
             0.7777777777777778,
             "#fb9f3a"
            ],
            [
             0.8888888888888888,
             "#fdca26"
            ],
            [
             1,
             "#f0f921"
            ]
           ],
           "sequentialminus": [
            [
             0,
             "#0d0887"
            ],
            [
             0.1111111111111111,
             "#46039f"
            ],
            [
             0.2222222222222222,
             "#7201a8"
            ],
            [
             0.3333333333333333,
             "#9c179e"
            ],
            [
             0.4444444444444444,
             "#bd3786"
            ],
            [
             0.5555555555555556,
             "#d8576b"
            ],
            [
             0.6666666666666666,
             "#ed7953"
            ],
            [
             0.7777777777777778,
             "#fb9f3a"
            ],
            [
             0.8888888888888888,
             "#fdca26"
            ],
            [
             1,
             "#f0f921"
            ]
           ]
          },
          "colorway": [
           "#636efa",
           "#EF553B",
           "#00cc96",
           "#ab63fa",
           "#FFA15A",
           "#19d3f3",
           "#FF6692",
           "#B6E880",
           "#FF97FF",
           "#FECB52"
          ],
          "font": {
           "color": "#2a3f5f"
          },
          "geo": {
           "bgcolor": "white",
           "lakecolor": "white",
           "landcolor": "white",
           "showlakes": true,
           "showland": true,
           "subunitcolor": "#C8D4E3"
          },
          "hoverlabel": {
           "align": "left"
          },
          "hovermode": "closest",
          "mapbox": {
           "style": "light"
          },
          "paper_bgcolor": "white",
          "plot_bgcolor": "white",
          "polar": {
           "angularaxis": {
            "gridcolor": "#EBF0F8",
            "linecolor": "#EBF0F8",
            "ticks": ""
           },
           "bgcolor": "white",
           "radialaxis": {
            "gridcolor": "#EBF0F8",
            "linecolor": "#EBF0F8",
            "ticks": ""
           }
          },
          "scene": {
           "xaxis": {
            "backgroundcolor": "white",
            "gridcolor": "#DFE8F3",
            "gridwidth": 2,
            "linecolor": "#EBF0F8",
            "showbackground": true,
            "ticks": "",
            "zerolinecolor": "#EBF0F8"
           },
           "yaxis": {
            "backgroundcolor": "white",
            "gridcolor": "#DFE8F3",
            "gridwidth": 2,
            "linecolor": "#EBF0F8",
            "showbackground": true,
            "ticks": "",
            "zerolinecolor": "#EBF0F8"
           },
           "zaxis": {
            "backgroundcolor": "white",
            "gridcolor": "#DFE8F3",
            "gridwidth": 2,
            "linecolor": "#EBF0F8",
            "showbackground": true,
            "ticks": "",
            "zerolinecolor": "#EBF0F8"
           }
          },
          "shapedefaults": {
           "line": {
            "color": "#2a3f5f"
           }
          },
          "ternary": {
           "aaxis": {
            "gridcolor": "#DFE8F3",
            "linecolor": "#A2B1C6",
            "ticks": ""
           },
           "baxis": {
            "gridcolor": "#DFE8F3",
            "linecolor": "#A2B1C6",
            "ticks": ""
           },
           "bgcolor": "white",
           "caxis": {
            "gridcolor": "#DFE8F3",
            "linecolor": "#A2B1C6",
            "ticks": ""
           }
          },
          "title": {
           "x": 0.05
          },
          "xaxis": {
           "automargin": true,
           "gridcolor": "#EBF0F8",
           "linecolor": "#EBF0F8",
           "ticks": "",
           "title": {
            "standoff": 15
           },
           "zerolinecolor": "#EBF0F8",
           "zerolinewidth": 2
          },
          "yaxis": {
           "automargin": true,
           "gridcolor": "#EBF0F8",
           "linecolor": "#EBF0F8",
           "ticks": "",
           "title": {
            "standoff": 15
           },
           "zerolinecolor": "#EBF0F8",
           "zerolinewidth": 2
          }
         }
        },
        "title": {
         "text": "%Change in GDP vs. School Closure Weeks, color=Internet Accessibility"
        },
        "width": 900,
        "xaxis": {
         "anchor": "y",
         "domain": [
          0,
          1
         ],
         "title": {
          "text": "School Closure Weeks"
         }
        },
        "yaxis": {
         "anchor": "x",
         "domain": [
          0,
          1
         ],
         "title": {
          "text": "%Change in GDP"
         }
        }
       }
      },
      "text/html": [
       "<div>                            <div id=\"d9bd2a91-d664-44e9-a6d2-863ecfa81870\" class=\"plotly-graph-div\" style=\"height:1000px; width:900px;\"></div>            <script type=\"text/javascript\">                require([\"plotly\"], function(Plotly) {                    window.PLOTLYENV=window.PLOTLYENV || {};                                    if (document.getElementById(\"d9bd2a91-d664-44e9-a6d2-863ecfa81870\")) {                    Plotly.newPlot(                        \"d9bd2a91-d664-44e9-a6d2-863ecfa81870\",                        [{\"hovertemplate\": \"<b>%{hovertext}</b><br><br>School Closure Weeks=%{x}<br>%Change in GDP=%{y}<br>internet=%{marker.color}<extra></extra>\", \"hovertext\": [\"Afghanistan\", \"Albania\", \"Algeria\", \"Angola\", \"Antigua and Barbuda\", \"Argentina\", \"Armenia\", \"Australia\", \"Austria\", \"Azerbaijan\", \"Bahamas\", \"Bahrain\", \"Bangladesh\", \"Barbados\", \"Belarus\", \"Belgium\", \"Belize\", \"Benin\", \"Bhutan\", \"Bolivia\", \"Bosnia and Herzegovina\", \"Botswana\", \"Brazil\", \"Brunei\", \"Bulgaria\", \"Burkina Faso\", \"Burundi\", \"Cambodia\", \"Cameroon\", \"Canada\", \"Central African Republic\", \"Chad\", \"Chile\", \"China\", \"Colombia\", \"Comoros\", \"Congo\", \"Costa Rica\", \"Croatia\", \"Cyprus\", \"Czechia\", \"Democratic Republic of Congo\", \"Denmark\", \"Djibouti\", \"Dominica\", \"Dominican Republic\", \"Ecuador\", \"Egypt\", \"El Salvador\", \"Equatorial Guinea\", \"Eritrea\", \"Estonia\", \"Eswatini\", \"Ethiopia\", \"Fiji\", \"Finland\", \"France\", \"Gabon\", \"Gambia\", \"Georgia\", \"Germany\", \"Ghana\", \"Greece\", \"Grenada\", \"Guatemala\", \"Guinea\", \"Guinea-Bissau\", \"Guyana\", \"Haiti\", \"Honduras\", \"Hungary\", \"Iceland\", \"India\", \"Indonesia\", \"Iran\", \"Iraq\", \"Ireland\", \"Israel\", \"Italy\", \"Jamaica\", \"Japan\", \"Jordan\", \"Kazakhstan\", \"Kenya\", \"Kuwait\", \"Kyrgyzstan\", \"Laos\", \"Latvia\", \"Lebanon\", \"Lesotho\", \"Liberia\", \"Libya\", \"Lithuania\", \"Luxembourg\", \"Madagascar\", \"Malawi\", \"Malaysia\", \"Maldives\", \"Mali\", \"Malta\", \"Marshall Islands\", \"Mauritania\", \"Mauritius\", \"Mexico\", \"Mongolia\", \"Montenegro\", \"Morocco\", \"Mozambique\", \"Myanmar\", \"Namibia\", \"Nepal\", \"Netherlands\", \"New Zealand\", \"Nicaragua\", \"Niger\", \"Nigeria\", \"Norway\", \"Oman\", \"Pakistan\", \"Panama\", \"Papua New Guinea\", \"Paraguay\", \"Peru\", \"Philippines\", \"Poland\", \"Portugal\", \"Qatar\", \"South Korea\", \"Moldova\", \"Romania\", \"Russia\", \"Rwanda\", \"Saint Kitts and Nevis\", \"Saint Lucia\", \"Saint Vincent and the Grenadines\", \"Samoa\", \"Saudi Arabia\", \"Senegal\", \"Serbia\", \"Seychelles\", \"Sierra Leone\", \"Singapore\", \"Slovakia\", \"Slovenia\", \"Solomon Islands\", \"Somalia\", \"South Sudan\", \"Spain\", \"Sri Lanka\", \"Sudan\", \"Suriname\", \"Sweden\", \"Switzerland\", \"Tajikistan\", \"Thailand\", \"Timor\", \"Togo\", \"Trinidad and Tobago\", \"Tunisia\", \"Turkey\", \"Uganda\", \"Ukraine\", \"United Arab Emirates\", \"United Kingdom\", \"Tanzania\", \"United States\", \"Uruguay\", \"Uzbekistan\", \"Vanuatu\", \"Venezuela\", \"Vietnam\", \"Yemen\", \"Zambia\", \"Zimbabwe\"], \"legendgroup\": \"\", \"marker\": {\"color\": [10.5957264186601, 66.363444701023, 42.9455268800332, 13.0, 73.0, 70.9689808206024, 64.3460297653742, 88.2386580521762, 84.3233312921004, 78.2, 80.0, 97.9999807024146, 18.2469380029449, 79.5493978888735, 71.1130457603832, 86.5165, 44.57574032, 11.994047908223, 41.7726445321672, 39.6975146032685, 60.26, 39.36299738, 60.8725400681261, 90.0, 59.825547661014, 13.96, 5.17362677652886, 32.3984517141849, 25.0, 91.16, 4.0, 5.0, 83.56, 53.2, 58.1364935728703, 7.938322770803, 8.121949323466, 66.028712851114, 72.6973060458944, 75.9003601905124, 76.4812013779572, 6.20997406030119, 96.9677852516645, 13.1349151074, 67.03, 63.87, 54.0629247288864, 41.2480670885772, 28.997073045597, 23.779999971074, 1.177118720157, 87.2373320920335, 28.5735227827685, 15.3669238595896, 46.5069783122217, 87.7036499599455, 79.27, 48.0522737506185, 18.5, 59.26, 89.6471005903368, 34.66600065, 69.0879154723892, 55.8564078225865, 34.5093260915602, 9.8, 3.761413832337, 35.66, 12.2326016070408, 30.0, 79.2594013161699, 98.2400162999185, 29.5471628858754, 25.45, 53.2267726333568, 21.23, 85.0111321151019, 79.6531241815281, 61.3242527666303, 44.3668563671334, 93.1827212821617, 62.3021925670712, 74.5877264735738, 16.6, 78.36738376, 34.5, 21.87, 79.8420977843089, 76.11, 27.36, 7.31910641139578, 20.27215956269, 74.3766455618662, 98.1366986657616, 4.713662899498, 11.47, 78.7883099275229, 59.0925899654109, 11.1121864890589, 77.2893948185413, 29.7877793626081, 18.0, 52.1913259356523, 59.5404459967255, 22.2657705007562, 69.8816468416779, 58.271236420398, 17.5212390868424, 25.07330424, 31.0333459383454, 19.688763836629, 90.4109589041096, 88.470186347099, 24.5718339595365, 4.32275803028068, 25.67, 97.2982036675068, 76.85, 15.5145577897414, 54.0, 9.60153846153846, 53.4, 45.4617406869459, 55.5, 73.3007, 70.423567088723, 94.2911181549896, 92.8430256796075, 70.9999991066624, 59.5039512852713, 73.091434617897, 20.0, 76.8176749076294, 46.7290780591803, 55.5746194230166, 29.4117301129981, 74.88, 25.6647680413953, 67.0568413716938, 56.5147081470678, 11.77318438, 84.45, 80.4759, 75.4985042610791, 11.000902271205, 1.88, 6.6797280510287, 80.5613329432179, 32.0510027436177, 28.0, 45.4, 89.6509476102355, 89.1346877351392, 20.470000000055, 47.5049656215909, 25.24624959, 11.31, 73.296941218486, 49.6, 58.3477340145685, 21.87617046, 53.0, 90.6000073180483, 94.7758006318882, 13.0, 76.176736982841, 66.4, 46.7912869407806, 24.0, 60.0, 46.5, 24.5792083636211, 25.5065788475702, 23.11998904], \"coloraxis\": \"coloraxis\", \"line\": {\"color\": \"black\", \"width\": 0.5}, \"opacity\": 0.8, \"size\": 12, \"symbol\": \"circle\"}, \"mode\": \"markers\", \"name\": \"\", \"orientation\": \"v\", \"showlegend\": false, \"type\": \"scatter\", \"x\": [31.0, 24.0, 21.0, 46.0, 41.0, 46.0, 12.0, 27.0, 27.0, 37.0, 41.0, 44.0, 47.0, 31.0, 0.0, 15.0, 38.0, 15.0, 49.0, 47.0, 38.0, 20.0, 44.0, 17.0, 32.0, 14.0, 0.0, 29.0, 18.0, 40.0, 23.0, 28.0, 44.0, 27.0, 43.0, 35.0, 26.0, 46.0, 10.0, 25.0, 38.0, 33.0, 23.0, 7.0, 17.0, 32.0, 44.0, 19.0, 45.0, 22.0, 49.0, 16.0, 49.0, 31.0, 13.0, 23.0, 10.0, 21.0, 28.0, 32.0, 28.0, 40.0, 32.0, 45.0, 45.0, 22.0, 23.0, 45.0, 31.0, 46.0, 33.0, 6.0, 51.0, 48.0, 45.0, 50.0, 26.0, 33.0, 35.0, 37.0, 11.0, 42.0, 36.0, 37.0, 42.0, 38.0, 19.0, 36.0, 37.0, 41.0, 37.0, 40.0, 29.0, 15.0, 16.0, 26.0, 35.0, 16.0, 17.0, 19.0, 2.0, 23.0, 8.0, 44.0, 34.0, 36.0, 21.0, 45.0, 48.0, 25.0, 53.0, 22.0, 9.0, 15.0, 16.0, 24.0, 19.0, 26.0, 33.0, 46.0, 6.0, 40.0, 42.0, 34.0, 35.0, 21.0, 41.0, 41.0, 16.0, 32.0, 13.0, 47.0, 11.0, 40.0, 28.0, 4.0, 41.0, 22.0, 34.0, 19.0, 14.0, 11.0, 37.0, 34.0, 7.0, 15.0, 49.0, 15.0, 43.0, 22.0, 20.0, 23.0, 6.0, 0.0, 25.0, 11.0, 14.0, 40.0, 28.0, 38.0, 50.0, 19.0, 42.0, 27.0, 15.0, 47.0, 27.0, 12.0, 4.0, 38.0, 14.0, 19.0, 18.0, 34.0], \"xaxis\": \"x\", \"y\": [-5.0, -3.5, -6.0, -4.0, -17.3, -10.0, -7.6, -2.4, -6.6, -4.3, -16.3, -5.4, 3.8, -17.6, -0.9, -6.4, -14.1, 2.0, -0.8, -7.7, -5.5, -8.3, -4.1, 1.2, -3.8, 0.8, -1.3, -3.5, -2.8, -5.4, 0.0, -0.9, -5.8, 2.3, -6.8, -0.5, -7.8, -4.8, -9.0, -5.1, -5.6, -0.1, -3.3, -1.0, -10.4, -6.7, -7.5, 3.6, -8.6, -5.8, -0.6, -2.9, -3.3, 6.1, -19.0, -2.9, -8.2, -1.8, 0.0, -6.1, -4.9, 0.9, -8.2, -13.5, -1.5, 5.2, -2.4, 43.4, -3.7, -8.0, -5.0, -6.6, -8.0, -2.1, 1.5, -10.9, 2.5, -2.4, -8.9, -10.2, -4.8, -2.0, -2.6, -0.1, -8.1, -8.0, -0.4, -3.6, -25.0, -4.5, -3.0, -59.7, -0.8, -1.3, -4.2, 0.6, -5.6, -32.2, -2.0, -7.0, -3.3, -2.2, -15.8, -8.2, -5.3, -15.2, -7.0, -0.5, 3.2, -7.2, -1.9, -3.8, -3.0, -3.0, 1.2, -1.8, -0.8, -6.4, -0.4, -17.9, -3.9, -0.9, -11.1, -9.5, -2.7, -7.6, -2.6, -1.0, -7.5, -3.9, -3.1, -0.2, -18.7, -18.9, -4.2, -3.2, -4.1, 0.8, -1.0, -13.4, -2.2, -5.4, -7.0, -5.5, -4.3, -1.5, -6.6, -11.0, -3.6, -3.6, -13.5, -2.8, -3.0, 4.5, -6.1, -6.8, 0.7, -7.8, -8.8, 1.8, -2.1, -4.2, -5.9, -9.9, 1.0, -3.5, -5.7, 1.6, -9.2, -30.0, 2.9, -5.0, -3.5, -8.0], \"yaxis\": \"y\"}],                        {\"coloraxis\": {\"colorbar\": {\"title\": {\"text\": \"internet\"}}, \"colorscale\": [[0.0, \"#0d0887\"], [0.1111111111111111, \"#46039f\"], [0.2222222222222222, \"#7201a8\"], [0.3333333333333333, \"#9c179e\"], [0.4444444444444444, \"#bd3786\"], [0.5555555555555556, \"#d8576b\"], [0.6666666666666666, \"#ed7953\"], [0.7777777777777778, \"#fb9f3a\"], [0.8888888888888888, \"#fdca26\"], [1.0, \"#f0f921\"]]}, \"height\": 1000, \"legend\": {\"tracegroupgap\": 0}, \"template\": {\"data\": {\"bar\": [{\"error_x\": {\"color\": \"#2a3f5f\"}, \"error_y\": {\"color\": \"#2a3f5f\"}, \"marker\": {\"line\": {\"color\": \"white\", \"width\": 0.5}}, \"type\": \"bar\"}], \"barpolar\": [{\"marker\": {\"line\": {\"color\": \"white\", \"width\": 0.5}}, \"type\": \"barpolar\"}], \"carpet\": [{\"aaxis\": {\"endlinecolor\": \"#2a3f5f\", \"gridcolor\": \"#C8D4E3\", \"linecolor\": \"#C8D4E3\", \"minorgridcolor\": \"#C8D4E3\", \"startlinecolor\": \"#2a3f5f\"}, \"baxis\": {\"endlinecolor\": \"#2a3f5f\", \"gridcolor\": \"#C8D4E3\", \"linecolor\": \"#C8D4E3\", \"minorgridcolor\": \"#C8D4E3\", \"startlinecolor\": \"#2a3f5f\"}, \"type\": \"carpet\"}], \"choropleth\": [{\"colorbar\": {\"outlinewidth\": 0, \"ticks\": \"\"}, \"type\": \"choropleth\"}], \"contour\": [{\"colorbar\": {\"outlinewidth\": 0, \"ticks\": \"\"}, \"colorscale\": [[0.0, \"#0d0887\"], [0.1111111111111111, \"#46039f\"], [0.2222222222222222, \"#7201a8\"], [0.3333333333333333, \"#9c179e\"], [0.4444444444444444, \"#bd3786\"], [0.5555555555555556, \"#d8576b\"], [0.6666666666666666, \"#ed7953\"], [0.7777777777777778, \"#fb9f3a\"], [0.8888888888888888, \"#fdca26\"], [1.0, \"#f0f921\"]], \"type\": \"contour\"}], \"contourcarpet\": [{\"colorbar\": {\"outlinewidth\": 0, \"ticks\": \"\"}, \"type\": \"contourcarpet\"}], \"heatmap\": [{\"colorbar\": {\"outlinewidth\": 0, \"ticks\": \"\"}, \"colorscale\": [[0.0, \"#0d0887\"], [0.1111111111111111, \"#46039f\"], [0.2222222222222222, \"#7201a8\"], [0.3333333333333333, \"#9c179e\"], [0.4444444444444444, \"#bd3786\"], [0.5555555555555556, \"#d8576b\"], [0.6666666666666666, \"#ed7953\"], [0.7777777777777778, \"#fb9f3a\"], [0.8888888888888888, \"#fdca26\"], [1.0, \"#f0f921\"]], \"type\": \"heatmap\"}], \"heatmapgl\": [{\"colorbar\": {\"outlinewidth\": 0, \"ticks\": \"\"}, \"colorscale\": [[0.0, \"#0d0887\"], [0.1111111111111111, \"#46039f\"], [0.2222222222222222, \"#7201a8\"], [0.3333333333333333, \"#9c179e\"], [0.4444444444444444, \"#bd3786\"], [0.5555555555555556, \"#d8576b\"], [0.6666666666666666, \"#ed7953\"], [0.7777777777777778, \"#fb9f3a\"], [0.8888888888888888, \"#fdca26\"], [1.0, \"#f0f921\"]], \"type\": \"heatmapgl\"}], \"histogram\": [{\"marker\": {\"colorbar\": {\"outlinewidth\": 0, \"ticks\": \"\"}}, \"type\": \"histogram\"}], \"histogram2d\": [{\"colorbar\": {\"outlinewidth\": 0, \"ticks\": \"\"}, \"colorscale\": [[0.0, \"#0d0887\"], [0.1111111111111111, \"#46039f\"], [0.2222222222222222, \"#7201a8\"], [0.3333333333333333, \"#9c179e\"], [0.4444444444444444, \"#bd3786\"], [0.5555555555555556, \"#d8576b\"], [0.6666666666666666, \"#ed7953\"], [0.7777777777777778, \"#fb9f3a\"], [0.8888888888888888, \"#fdca26\"], [1.0, \"#f0f921\"]], \"type\": \"histogram2d\"}], \"histogram2dcontour\": [{\"colorbar\": {\"outlinewidth\": 0, \"ticks\": \"\"}, \"colorscale\": [[0.0, \"#0d0887\"], [0.1111111111111111, \"#46039f\"], [0.2222222222222222, \"#7201a8\"], [0.3333333333333333, \"#9c179e\"], [0.4444444444444444, \"#bd3786\"], [0.5555555555555556, \"#d8576b\"], [0.6666666666666666, \"#ed7953\"], [0.7777777777777778, \"#fb9f3a\"], [0.8888888888888888, \"#fdca26\"], [1.0, \"#f0f921\"]], \"type\": \"histogram2dcontour\"}], \"mesh3d\": [{\"colorbar\": {\"outlinewidth\": 0, \"ticks\": \"\"}, \"type\": \"mesh3d\"}], \"parcoords\": [{\"line\": {\"colorbar\": {\"outlinewidth\": 0, \"ticks\": \"\"}}, \"type\": \"parcoords\"}], \"pie\": [{\"automargin\": true, \"type\": \"pie\"}], \"scatter\": [{\"marker\": {\"colorbar\": {\"outlinewidth\": 0, \"ticks\": \"\"}}, \"type\": \"scatter\"}], \"scatter3d\": [{\"line\": {\"colorbar\": {\"outlinewidth\": 0, \"ticks\": \"\"}}, \"marker\": {\"colorbar\": {\"outlinewidth\": 0, \"ticks\": \"\"}}, \"type\": \"scatter3d\"}], \"scattercarpet\": [{\"marker\": {\"colorbar\": {\"outlinewidth\": 0, \"ticks\": \"\"}}, \"type\": \"scattercarpet\"}], \"scattergeo\": [{\"marker\": {\"colorbar\": {\"outlinewidth\": 0, \"ticks\": \"\"}}, \"type\": \"scattergeo\"}], \"scattergl\": [{\"marker\": {\"colorbar\": {\"outlinewidth\": 0, \"ticks\": \"\"}}, \"type\": \"scattergl\"}], \"scattermapbox\": [{\"marker\": {\"colorbar\": {\"outlinewidth\": 0, \"ticks\": \"\"}}, \"type\": \"scattermapbox\"}], \"scatterpolar\": [{\"marker\": {\"colorbar\": {\"outlinewidth\": 0, \"ticks\": \"\"}}, \"type\": \"scatterpolar\"}], \"scatterpolargl\": [{\"marker\": {\"colorbar\": {\"outlinewidth\": 0, \"ticks\": \"\"}}, \"type\": \"scatterpolargl\"}], \"scatterternary\": [{\"marker\": {\"colorbar\": {\"outlinewidth\": 0, \"ticks\": \"\"}}, \"type\": \"scatterternary\"}], \"surface\": [{\"colorbar\": {\"outlinewidth\": 0, \"ticks\": \"\"}, \"colorscale\": [[0.0, \"#0d0887\"], [0.1111111111111111, \"#46039f\"], [0.2222222222222222, \"#7201a8\"], [0.3333333333333333, \"#9c179e\"], [0.4444444444444444, \"#bd3786\"], [0.5555555555555556, \"#d8576b\"], [0.6666666666666666, \"#ed7953\"], [0.7777777777777778, \"#fb9f3a\"], [0.8888888888888888, \"#fdca26\"], [1.0, \"#f0f921\"]], \"type\": \"surface\"}], \"table\": [{\"cells\": {\"fill\": {\"color\": \"#EBF0F8\"}, \"line\": {\"color\": \"white\"}}, \"header\": {\"fill\": {\"color\": \"#C8D4E3\"}, \"line\": {\"color\": \"white\"}}, \"type\": \"table\"}]}, \"layout\": {\"annotationdefaults\": {\"arrowcolor\": \"#2a3f5f\", \"arrowhead\": 0, \"arrowwidth\": 1}, \"autotypenumbers\": \"strict\", \"coloraxis\": {\"colorbar\": {\"outlinewidth\": 0, \"ticks\": \"\"}}, \"colorscale\": {\"diverging\": [[0, \"#8e0152\"], [0.1, \"#c51b7d\"], [0.2, \"#de77ae\"], [0.3, \"#f1b6da\"], [0.4, \"#fde0ef\"], [0.5, \"#f7f7f7\"], [0.6, \"#e6f5d0\"], [0.7, \"#b8e186\"], [0.8, \"#7fbc41\"], [0.9, \"#4d9221\"], [1, \"#276419\"]], \"sequential\": [[0.0, \"#0d0887\"], [0.1111111111111111, \"#46039f\"], [0.2222222222222222, \"#7201a8\"], [0.3333333333333333, \"#9c179e\"], [0.4444444444444444, \"#bd3786\"], [0.5555555555555556, \"#d8576b\"], [0.6666666666666666, \"#ed7953\"], [0.7777777777777778, \"#fb9f3a\"], [0.8888888888888888, \"#fdca26\"], [1.0, \"#f0f921\"]], \"sequentialminus\": [[0.0, \"#0d0887\"], [0.1111111111111111, \"#46039f\"], [0.2222222222222222, \"#7201a8\"], [0.3333333333333333, \"#9c179e\"], [0.4444444444444444, \"#bd3786\"], [0.5555555555555556, \"#d8576b\"], [0.6666666666666666, \"#ed7953\"], [0.7777777777777778, \"#fb9f3a\"], [0.8888888888888888, \"#fdca26\"], [1.0, \"#f0f921\"]]}, \"colorway\": [\"#636efa\", \"#EF553B\", \"#00cc96\", \"#ab63fa\", \"#FFA15A\", \"#19d3f3\", \"#FF6692\", \"#B6E880\", \"#FF97FF\", \"#FECB52\"], \"font\": {\"color\": \"#2a3f5f\"}, \"geo\": {\"bgcolor\": \"white\", \"lakecolor\": \"white\", \"landcolor\": \"white\", \"showlakes\": true, \"showland\": true, \"subunitcolor\": \"#C8D4E3\"}, \"hoverlabel\": {\"align\": \"left\"}, \"hovermode\": \"closest\", \"mapbox\": {\"style\": \"light\"}, \"paper_bgcolor\": \"white\", \"plot_bgcolor\": \"white\", \"polar\": {\"angularaxis\": {\"gridcolor\": \"#EBF0F8\", \"linecolor\": \"#EBF0F8\", \"ticks\": \"\"}, \"bgcolor\": \"white\", \"radialaxis\": {\"gridcolor\": \"#EBF0F8\", \"linecolor\": \"#EBF0F8\", \"ticks\": \"\"}}, \"scene\": {\"xaxis\": {\"backgroundcolor\": \"white\", \"gridcolor\": \"#DFE8F3\", \"gridwidth\": 2, \"linecolor\": \"#EBF0F8\", \"showbackground\": true, \"ticks\": \"\", \"zerolinecolor\": \"#EBF0F8\"}, \"yaxis\": {\"backgroundcolor\": \"white\", \"gridcolor\": \"#DFE8F3\", \"gridwidth\": 2, \"linecolor\": \"#EBF0F8\", \"showbackground\": true, \"ticks\": \"\", \"zerolinecolor\": \"#EBF0F8\"}, \"zaxis\": {\"backgroundcolor\": \"white\", \"gridcolor\": \"#DFE8F3\", \"gridwidth\": 2, \"linecolor\": \"#EBF0F8\", \"showbackground\": true, \"ticks\": \"\", \"zerolinecolor\": \"#EBF0F8\"}}, \"shapedefaults\": {\"line\": {\"color\": \"#2a3f5f\"}}, \"ternary\": {\"aaxis\": {\"gridcolor\": \"#DFE8F3\", \"linecolor\": \"#A2B1C6\", \"ticks\": \"\"}, \"baxis\": {\"gridcolor\": \"#DFE8F3\", \"linecolor\": \"#A2B1C6\", \"ticks\": \"\"}, \"bgcolor\": \"white\", \"caxis\": {\"gridcolor\": \"#DFE8F3\", \"linecolor\": \"#A2B1C6\", \"ticks\": \"\"}}, \"title\": {\"x\": 0.05}, \"xaxis\": {\"automargin\": true, \"gridcolor\": \"#EBF0F8\", \"linecolor\": \"#EBF0F8\", \"ticks\": \"\", \"title\": {\"standoff\": 15}, \"zerolinecolor\": \"#EBF0F8\", \"zerolinewidth\": 2}, \"yaxis\": {\"automargin\": true, \"gridcolor\": \"#EBF0F8\", \"linecolor\": \"#EBF0F8\", \"ticks\": \"\", \"title\": {\"standoff\": 15}, \"zerolinecolor\": \"#EBF0F8\", \"zerolinewidth\": 2}}}, \"title\": {\"text\": \"%Change in GDP vs. School Closure Weeks, color=Internet Accessibility\"}, \"width\": 900, \"xaxis\": {\"anchor\": \"y\", \"domain\": [0.0, 1.0], \"title\": {\"text\": \"School Closure Weeks\"}}, \"yaxis\": {\"anchor\": \"x\", \"domain\": [0.0, 1.0], \"title\": {\"text\": \"%Change in GDP\"}}},                        {\"responsive\": true}                    ).then(function(){\n",
       "                            \n",
       "var gd = document.getElementById('d9bd2a91-d664-44e9-a6d2-863ecfa81870');\n",
       "var x = new MutationObserver(function (mutations, observer) {{\n",
       "        var display = window.getComputedStyle(gd).display;\n",
       "        if (!display || display === 'none') {{\n",
       "            console.log([gd, 'removed!']);\n",
       "            Plotly.purge(gd);\n",
       "            observer.disconnect();\n",
       "        }}\n",
       "}});\n",
       "\n",
       "// Listen for the removal of the full notebook cells\n",
       "var notebookContainer = gd.closest('#notebook-container');\n",
       "if (notebookContainer) {{\n",
       "    x.observe(notebookContainer, {childList: true});\n",
       "}}\n",
       "\n",
       "// Listen for the clearing of the current output cell\n",
       "var outputEl = gd.closest('.output');\n",
       "if (outputEl) {{\n",
       "    x.observe(outputEl, {childList: true});\n",
       "}}\n",
       "\n",
       "                        })                };                });            </script>        </div>"
      ]
     },
     "metadata": {},
     "output_type": "display_data"
    }
   ],
   "source": [
    "fig2 = px.scatter(df3, x=\"closure\", y=\"change\",\n",
    "                 color='internet',\n",
    "                 #color_discrete_sequence=px.colors.sequential.RdBu_r,\n",
    "                 opacity=0.8,\n",
    "                 hover_name=\"Country\",\n",
    "                 labels={\"closure\": \"School Closure Weeks\",\n",
    "                        \"change\":\"%Change in GDP\"},\n",
    "                 title=\"%Change in GDP vs. School Closure Weeks, color=Internet Accessibility\",\n",
    "                 size_max=12,\n",
    "                 width=900, height=1000,\n",
    "                 template='plotly_white'\n",
    "                )\n",
    "\n",
    "fig2.update_traces(marker=dict(size=12,\n",
    "                              line=dict(width=0.5,\n",
    "                                        color='black')),\n",
    "                  selector=dict(mode='markers'))\n",
    "\n",
    "\n",
    "fig2.show()"
   ]
  },
  {
   "cell_type": "code",
   "execution_count": 77,
   "id": "ancient-furniture",
   "metadata": {},
   "outputs": [
    {
     "data": {
      "application/vnd.plotly.v1+json": {
       "config": {
        "plotlyServerURL": "https://plotly.com"
       },
       "data": [
        {
         "hovertemplate": "<b>%{hovertext}</b><br><br>Income Group=Low income<br>School Closure Weeks=%{x}<br>%Change in GDP=%{y}<br>internet=%{marker.size}<extra></extra>",
         "hovertext": [
          "Afghanistan",
          "Benin",
          "Burkina Faso",
          "Burundi",
          "Central African Republic",
          "Chad",
          "Democratic Republic of Congo",
          "Eritrea",
          "Ethiopia",
          "Gambia",
          "Guinea",
          "Guinea-Bissau",
          "Haiti",
          "Liberia",
          "Madagascar",
          "Malawi",
          "Mali",
          "Mozambique",
          "Nepal",
          "Niger",
          "Rwanda",
          "Sierra Leone",
          "Somalia",
          "South Sudan",
          "Tajikistan",
          "Togo",
          "Uganda",
          "Tanzania",
          "Yemen"
         ],
         "legendgroup": "Low income",
         "marker": {
          "color": "black",
          "opacity": 0.8,
          "size": [
           10.5957264186601,
           11.994047908223,
           13.96,
           5.17362677652886,
           4,
           5,
           6.20997406030119,
           1.177118720157,
           15.3669238595896,
           18.5,
           9.8,
           3.761413832337,
           12.2326016070408,
           7.31910641139578,
           4.713662899498,
           11.47,
           11.1121864890589,
           17.5212390868424,
           19.688763836629,
           4.32275803028068,
           20,
           11.77318438,
           1.88,
           6.6797280510287,
           20.470000000055,
           11.31,
           21.87617046,
           13,
           24.5792083636211
          ],
          "sizemode": "area",
          "sizeref": 0.6822223354161007,
          "symbol": "circle"
         },
         "mode": "markers",
         "name": "Low income",
         "orientation": "v",
         "showlegend": true,
         "type": "scatter",
         "x": [
          31,
          15,
          14,
          0,
          23,
          28,
          33,
          49,
          31,
          28,
          22,
          23,
          31,
          37,
          16,
          26,
          17,
          45,
          53,
          16,
          47,
          14,
          15,
          49,
          0,
          14,
          50,
          15,
          19
         ],
         "xaxis": "x",
         "y": [
          -5,
          2,
          0.8,
          -1.3,
          0,
          -0.9,
          -0.1,
          -0.6,
          6.1,
          0,
          5.2,
          -2.4,
          -3.7,
          -3,
          -4.2,
          0.6,
          -2,
          -0.5,
          -1.9,
          1.2,
          -0.2,
          -2.2,
          -1.5,
          -6.6,
          4.5,
          0.7,
          -2.1,
          1,
          -5
         ],
         "yaxis": "y"
        },
        {
         "hovertemplate": "<b>%{hovertext}</b><br><br>Income Group=Upper middle income<br>School Closure Weeks=%{x}<br>%Change in GDP=%{y}<br>internet=%{marker.size}<extra></extra>",
         "hovertext": [
          "Albania",
          "Algeria",
          "Argentina",
          "Armenia",
          "Azerbaijan",
          "Belarus",
          "Belize",
          "Bosnia and Herzegovina",
          "Botswana",
          "Brazil",
          "Bulgaria",
          "China",
          "Colombia",
          "Costa Rica",
          "Dominica",
          "Dominican Republic",
          "Ecuador",
          "Equatorial Guinea",
          "Fiji",
          "Gabon",
          "Georgia",
          "Grenada",
          "Guatemala",
          "Guyana",
          "Iran",
          "Iraq",
          "Jamaica",
          "Jordan",
          "Kazakhstan",
          "Lebanon",
          "Libya",
          "Malaysia",
          "Maldives",
          "Marshall Islands",
          "Mauritius",
          "Mexico",
          "Montenegro",
          "Namibia",
          "Paraguay",
          "Peru",
          "Romania",
          "Russia",
          "Saint Lucia",
          "Saint Vincent and the Grenadines",
          "Samoa",
          "Serbia",
          "Sri Lanka",
          "Suriname",
          "Thailand",
          "Turkey",
          "Venezuela"
         ],
         "legendgroup": "Upper middle income",
         "marker": {
          "color": "grey",
          "opacity": 0.8,
          "size": [
           66.363444701023,
           42.9455268800332,
           70.9689808206024,
           64.3460297653742,
           78.2,
           71.1130457603832,
           44.57574032,
           60.26,
           39.36299738,
           60.8725400681261,
           59.825547661014,
           53.2,
           58.1364935728703,
           66.028712851114,
           67.03,
           63.87,
           54.0629247288864,
           23.779999971074,
           46.5069783122217,
           48.0522737506185,
           59.26,
           55.8564078225865,
           34.5093260915602,
           35.66,
           53.2267726333568,
           21.23,
           44.3668563671334,
           62.3021925670712,
           74.5877264735738,
           76.11,
           20.27215956269,
           78.7883099275229,
           59.0925899654109,
           29.7877793626081,
           52.1913259356523,
           59.5404459967255,
           69.8816468416779,
           31.0333459383454,
           53.4,
           45.4617406869459,
           59.5039512852713,
           73.091434617897,
           46.7290780591803,
           55.5746194230166,
           29.4117301129981,
           67.0568413716938,
           32.0510027436177,
           45.4,
           47.5049656215909,
           58.3477340145685,
           60
          ],
          "sizemode": "area",
          "sizeref": 0.6822223354161007,
          "symbol": "circle"
         },
         "mode": "markers",
         "name": "Upper middle income",
         "orientation": "v",
         "showlegend": true,
         "type": "scatter",
         "x": [
          24,
          21,
          46,
          12,
          37,
          0,
          38,
          38,
          20,
          44,
          32,
          27,
          43,
          46,
          17,
          32,
          44,
          22,
          13,
          21,
          32,
          45,
          45,
          45,
          45,
          50,
          37,
          42,
          36,
          37,
          40,
          35,
          16,
          2,
          8,
          44,
          36,
          25,
          40,
          42,
          32,
          13,
          40,
          28,
          4,
          34,
          43,
          20,
          25,
          38,
          38
         ],
         "xaxis": "x",
         "y": [
          -3.5,
          -6,
          -10,
          -7.6,
          -4.3,
          -0.9,
          -14.1,
          -5.5,
          -8.3,
          -4.1,
          -3.8,
          2.3,
          -6.8,
          -4.8,
          -10.4,
          -6.7,
          -7.5,
          -5.8,
          -19,
          -1.8,
          -6.1,
          -13.5,
          -1.5,
          43.4,
          1.5,
          -10.9,
          -10.2,
          -2,
          -2.6,
          -25,
          -59.7,
          -5.6,
          -32.2,
          -3.3,
          -15.8,
          -8.2,
          -15.2,
          -7.2,
          -0.9,
          -11.1,
          -3.9,
          -3.1,
          -18.9,
          -4.2,
          -3.2,
          -1,
          -3.6,
          -13.5,
          -6.1,
          1.8,
          -30
         ],
         "yaxis": "y"
        },
        {
         "hovertemplate": "<b>%{hovertext}</b><br><br>Income Group=Lower middle income<br>School Closure Weeks=%{x}<br>%Change in GDP=%{y}<br>internet=%{marker.size}<extra></extra>",
         "hovertext": [
          "Angola",
          "Bangladesh",
          "Bhutan",
          "Bolivia",
          "Cambodia",
          "Cameroon",
          "Comoros",
          "Congo",
          "Djibouti",
          "Egypt",
          "El Salvador",
          "Eswatini",
          "Ghana",
          "Honduras",
          "India",
          "Indonesia",
          "Kenya",
          "Kyrgyzstan",
          "Laos",
          "Lesotho",
          "Mauritania",
          "Mongolia",
          "Morocco",
          "Myanmar",
          "Nicaragua",
          "Nigeria",
          "Pakistan",
          "Papua New Guinea",
          "Philippines",
          "Moldova",
          "Senegal",
          "Solomon Islands",
          "Sudan",
          "Timor",
          "Tunisia",
          "Ukraine",
          "Uzbekistan",
          "Vanuatu",
          "Vietnam",
          "Zambia",
          "Zimbabwe"
         ],
         "legendgroup": "Lower middle income",
         "marker": {
          "color": "lightblue",
          "opacity": 0.8,
          "size": [
           13,
           18.2469380029449,
           41.7726445321672,
           39.6975146032685,
           32.3984517141849,
           25,
           7.938322770803,
           8.121949323466,
           13.1349151074,
           41.2480670885772,
           28.997073045597,
           28.5735227827685,
           34.66600065,
           30,
           29.5471628858754,
           25.45,
           16.6,
           34.5,
           21.87,
           27.36,
           18,
           22.2657705007562,
           58.271236420398,
           25.07330424,
           24.5718339595365,
           25.67,
           15.5145577897414,
           9.60153846153846,
           55.5,
           70.9999991066624,
           25.6647680413953,
           11.000902271205,
           28,
           25.24624959,
           49.6,
           53,
           46.7912869407806,
           24,
           46.5,
           25.5065788475702,
           23.11998904
          ],
          "sizemode": "area",
          "sizeref": 0.6822223354161007,
          "symbol": "circle"
         },
         "mode": "markers",
         "name": "Lower middle income",
         "orientation": "v",
         "showlegend": true,
         "type": "scatter",
         "x": [
          46,
          47,
          49,
          47,
          29,
          18,
          35,
          26,
          7,
          19,
          45,
          49,
          40,
          46,
          51,
          48,
          37,
          38,
          19,
          41,
          23,
          34,
          21,
          48,
          15,
          24,
          33,
          6,
          34,
          16,
          22,
          7,
          22,
          11,
          28,
          19,
          12,
          4,
          14,
          18,
          34
         ],
         "xaxis": "x",
         "y": [
          -4,
          3.8,
          -0.8,
          -7.7,
          -3.5,
          -2.8,
          -0.5,
          -7.8,
          -1,
          3.6,
          -8.6,
          -3.3,
          0.9,
          -8,
          -8,
          -2.1,
          -0.1,
          -8,
          -0.4,
          -4.5,
          -2.2,
          -5.3,
          -7,
          3.2,
          -3,
          -1.8,
          -0.4,
          -3.9,
          -9.5,
          -7.5,
          0.8,
          -4.3,
          -3.6,
          -6.8,
          -8.8,
          -4.2,
          1.6,
          -9.2,
          2.9,
          -3.5,
          -8
         ],
         "yaxis": "y"
        },
        {
         "hovertemplate": "<b>%{hovertext}</b><br><br>Income Group=High income<br>School Closure Weeks=%{x}<br>%Change in GDP=%{y}<br>internet=%{marker.size}<extra></extra>",
         "hovertext": [
          "Antigua and Barbuda",
          "Australia",
          "Austria",
          "Bahamas",
          "Bahrain",
          "Barbados",
          "Belgium",
          "Brunei",
          "Canada",
          "Chile",
          "Croatia",
          "Cyprus",
          "Czechia",
          "Denmark",
          "Estonia",
          "Finland",
          "France",
          "Germany",
          "Greece",
          "Hungary",
          "Iceland",
          "Ireland",
          "Israel",
          "Italy",
          "Japan",
          "Kuwait",
          "Latvia",
          "Lithuania",
          "Luxembourg",
          "Malta",
          "Netherlands",
          "New Zealand",
          "Norway",
          "Oman",
          "Panama",
          "Poland",
          "Portugal",
          "Qatar",
          "South Korea",
          "Saint Kitts and Nevis",
          "Saudi Arabia",
          "Seychelles",
          "Singapore",
          "Slovakia",
          "Slovenia",
          "Spain",
          "Sweden",
          "Switzerland",
          "Trinidad and Tobago",
          "United Arab Emirates",
          "United Kingdom",
          "United States",
          "Uruguay"
         ],
         "legendgroup": "High income",
         "marker": {
          "color": "blue",
          "opacity": 0.8,
          "size": [
           73,
           88.2386580521762,
           84.3233312921004,
           80,
           97.9999807024146,
           79.5493978888735,
           86.5165,
           90,
           91.16,
           83.56,
           72.6973060458944,
           75.9003601905124,
           76.4812013779572,
           96.9677852516645,
           87.2373320920335,
           87.7036499599455,
           79.27,
           89.6471005903368,
           69.0879154723892,
           79.2594013161699,
           98.2400162999185,
           85.0111321151019,
           79.6531241815281,
           61.3242527666303,
           93.1827212821617,
           78.36738376,
           79.8420977843089,
           74.3766455618662,
           98.1366986657616,
           77.2893948185413,
           90.4109589041096,
           88.470186347099,
           97.2982036675068,
           76.85,
           54,
           73.3007,
           70.423567088723,
           94.2911181549896,
           92.8430256796075,
           76.8176749076294,
           74.88,
           56.5147081470678,
           84.45,
           80.4759,
           75.4985042610791,
           80.5613329432179,
           89.6509476102355,
           89.1346877351392,
           73.296941218486,
           90.6000073180483,
           94.7758006318882,
           76.176736982841,
           66.4
          ],
          "sizemode": "area",
          "sizeref": 0.6822223354161007,
          "symbol": "circle"
         },
         "mode": "markers",
         "name": "High income",
         "orientation": "v",
         "showlegend": true,
         "type": "scatter",
         "x": [
          41,
          27,
          27,
          41,
          44,
          31,
          15,
          17,
          40,
          44,
          10,
          25,
          38,
          23,
          16,
          23,
          10,
          28,
          32,
          33,
          6,
          26,
          33,
          35,
          11,
          42,
          36,
          29,
          15,
          19,
          22,
          9,
          19,
          26,
          46,
          35,
          21,
          41,
          41,
          11,
          41,
          19,
          11,
          37,
          34,
          15,
          23,
          6,
          40,
          42,
          27,
          47,
          27
         ],
         "xaxis": "x",
         "y": [
          -17.3,
          -2.4,
          -6.6,
          -16.3,
          -5.4,
          -17.6,
          -6.4,
          1.2,
          -5.4,
          -5.8,
          -9,
          -5.1,
          -5.6,
          -3.3,
          -2.9,
          -2.9,
          -8.2,
          -4.9,
          -8.2,
          -5,
          -6.6,
          2.5,
          -2.4,
          -8.9,
          -4.8,
          -8.1,
          -3.6,
          -0.8,
          -1.3,
          -7,
          -3.8,
          -3,
          -0.8,
          -6.4,
          -17.9,
          -2.7,
          -7.6,
          -2.6,
          -1,
          -18.7,
          -4.1,
          -13.4,
          -5.4,
          -7,
          -5.5,
          -11,
          -2.8,
          -3,
          -7.8,
          -5.9,
          -9.9,
          -3.5,
          -5.7
         ],
         "yaxis": "y"
        }
       ],
       "layout": {
        "height": 1000,
        "legend": {
         "itemsizing": "constant",
         "title": {
          "text": "Income Group"
         },
         "tracegroupgap": 0
        },
        "template": {
         "data": {
          "bar": [
           {
            "error_x": {
             "color": "#2a3f5f"
            },
            "error_y": {
             "color": "#2a3f5f"
            },
            "marker": {
             "line": {
              "color": "white",
              "width": 0.5
             }
            },
            "type": "bar"
           }
          ],
          "barpolar": [
           {
            "marker": {
             "line": {
              "color": "white",
              "width": 0.5
             }
            },
            "type": "barpolar"
           }
          ],
          "carpet": [
           {
            "aaxis": {
             "endlinecolor": "#2a3f5f",
             "gridcolor": "#C8D4E3",
             "linecolor": "#C8D4E3",
             "minorgridcolor": "#C8D4E3",
             "startlinecolor": "#2a3f5f"
            },
            "baxis": {
             "endlinecolor": "#2a3f5f",
             "gridcolor": "#C8D4E3",
             "linecolor": "#C8D4E3",
             "minorgridcolor": "#C8D4E3",
             "startlinecolor": "#2a3f5f"
            },
            "type": "carpet"
           }
          ],
          "choropleth": [
           {
            "colorbar": {
             "outlinewidth": 0,
             "ticks": ""
            },
            "type": "choropleth"
           }
          ],
          "contour": [
           {
            "colorbar": {
             "outlinewidth": 0,
             "ticks": ""
            },
            "colorscale": [
             [
              0,
              "#0d0887"
             ],
             [
              0.1111111111111111,
              "#46039f"
             ],
             [
              0.2222222222222222,
              "#7201a8"
             ],
             [
              0.3333333333333333,
              "#9c179e"
             ],
             [
              0.4444444444444444,
              "#bd3786"
             ],
             [
              0.5555555555555556,
              "#d8576b"
             ],
             [
              0.6666666666666666,
              "#ed7953"
             ],
             [
              0.7777777777777778,
              "#fb9f3a"
             ],
             [
              0.8888888888888888,
              "#fdca26"
             ],
             [
              1,
              "#f0f921"
             ]
            ],
            "type": "contour"
           }
          ],
          "contourcarpet": [
           {
            "colorbar": {
             "outlinewidth": 0,
             "ticks": ""
            },
            "type": "contourcarpet"
           }
          ],
          "heatmap": [
           {
            "colorbar": {
             "outlinewidth": 0,
             "ticks": ""
            },
            "colorscale": [
             [
              0,
              "#0d0887"
             ],
             [
              0.1111111111111111,
              "#46039f"
             ],
             [
              0.2222222222222222,
              "#7201a8"
             ],
             [
              0.3333333333333333,
              "#9c179e"
             ],
             [
              0.4444444444444444,
              "#bd3786"
             ],
             [
              0.5555555555555556,
              "#d8576b"
             ],
             [
              0.6666666666666666,
              "#ed7953"
             ],
             [
              0.7777777777777778,
              "#fb9f3a"
             ],
             [
              0.8888888888888888,
              "#fdca26"
             ],
             [
              1,
              "#f0f921"
             ]
            ],
            "type": "heatmap"
           }
          ],
          "heatmapgl": [
           {
            "colorbar": {
             "outlinewidth": 0,
             "ticks": ""
            },
            "colorscale": [
             [
              0,
              "#0d0887"
             ],
             [
              0.1111111111111111,
              "#46039f"
             ],
             [
              0.2222222222222222,
              "#7201a8"
             ],
             [
              0.3333333333333333,
              "#9c179e"
             ],
             [
              0.4444444444444444,
              "#bd3786"
             ],
             [
              0.5555555555555556,
              "#d8576b"
             ],
             [
              0.6666666666666666,
              "#ed7953"
             ],
             [
              0.7777777777777778,
              "#fb9f3a"
             ],
             [
              0.8888888888888888,
              "#fdca26"
             ],
             [
              1,
              "#f0f921"
             ]
            ],
            "type": "heatmapgl"
           }
          ],
          "histogram": [
           {
            "marker": {
             "colorbar": {
              "outlinewidth": 0,
              "ticks": ""
             }
            },
            "type": "histogram"
           }
          ],
          "histogram2d": [
           {
            "colorbar": {
             "outlinewidth": 0,
             "ticks": ""
            },
            "colorscale": [
             [
              0,
              "#0d0887"
             ],
             [
              0.1111111111111111,
              "#46039f"
             ],
             [
              0.2222222222222222,
              "#7201a8"
             ],
             [
              0.3333333333333333,
              "#9c179e"
             ],
             [
              0.4444444444444444,
              "#bd3786"
             ],
             [
              0.5555555555555556,
              "#d8576b"
             ],
             [
              0.6666666666666666,
              "#ed7953"
             ],
             [
              0.7777777777777778,
              "#fb9f3a"
             ],
             [
              0.8888888888888888,
              "#fdca26"
             ],
             [
              1,
              "#f0f921"
             ]
            ],
            "type": "histogram2d"
           }
          ],
          "histogram2dcontour": [
           {
            "colorbar": {
             "outlinewidth": 0,
             "ticks": ""
            },
            "colorscale": [
             [
              0,
              "#0d0887"
             ],
             [
              0.1111111111111111,
              "#46039f"
             ],
             [
              0.2222222222222222,
              "#7201a8"
             ],
             [
              0.3333333333333333,
              "#9c179e"
             ],
             [
              0.4444444444444444,
              "#bd3786"
             ],
             [
              0.5555555555555556,
              "#d8576b"
             ],
             [
              0.6666666666666666,
              "#ed7953"
             ],
             [
              0.7777777777777778,
              "#fb9f3a"
             ],
             [
              0.8888888888888888,
              "#fdca26"
             ],
             [
              1,
              "#f0f921"
             ]
            ],
            "type": "histogram2dcontour"
           }
          ],
          "mesh3d": [
           {
            "colorbar": {
             "outlinewidth": 0,
             "ticks": ""
            },
            "type": "mesh3d"
           }
          ],
          "parcoords": [
           {
            "line": {
             "colorbar": {
              "outlinewidth": 0,
              "ticks": ""
             }
            },
            "type": "parcoords"
           }
          ],
          "pie": [
           {
            "automargin": true,
            "type": "pie"
           }
          ],
          "scatter": [
           {
            "marker": {
             "colorbar": {
              "outlinewidth": 0,
              "ticks": ""
             }
            },
            "type": "scatter"
           }
          ],
          "scatter3d": [
           {
            "line": {
             "colorbar": {
              "outlinewidth": 0,
              "ticks": ""
             }
            },
            "marker": {
             "colorbar": {
              "outlinewidth": 0,
              "ticks": ""
             }
            },
            "type": "scatter3d"
           }
          ],
          "scattercarpet": [
           {
            "marker": {
             "colorbar": {
              "outlinewidth": 0,
              "ticks": ""
             }
            },
            "type": "scattercarpet"
           }
          ],
          "scattergeo": [
           {
            "marker": {
             "colorbar": {
              "outlinewidth": 0,
              "ticks": ""
             }
            },
            "type": "scattergeo"
           }
          ],
          "scattergl": [
           {
            "marker": {
             "colorbar": {
              "outlinewidth": 0,
              "ticks": ""
             }
            },
            "type": "scattergl"
           }
          ],
          "scattermapbox": [
           {
            "marker": {
             "colorbar": {
              "outlinewidth": 0,
              "ticks": ""
             }
            },
            "type": "scattermapbox"
           }
          ],
          "scatterpolar": [
           {
            "marker": {
             "colorbar": {
              "outlinewidth": 0,
              "ticks": ""
             }
            },
            "type": "scatterpolar"
           }
          ],
          "scatterpolargl": [
           {
            "marker": {
             "colorbar": {
              "outlinewidth": 0,
              "ticks": ""
             }
            },
            "type": "scatterpolargl"
           }
          ],
          "scatterternary": [
           {
            "marker": {
             "colorbar": {
              "outlinewidth": 0,
              "ticks": ""
             }
            },
            "type": "scatterternary"
           }
          ],
          "surface": [
           {
            "colorbar": {
             "outlinewidth": 0,
             "ticks": ""
            },
            "colorscale": [
             [
              0,
              "#0d0887"
             ],
             [
              0.1111111111111111,
              "#46039f"
             ],
             [
              0.2222222222222222,
              "#7201a8"
             ],
             [
              0.3333333333333333,
              "#9c179e"
             ],
             [
              0.4444444444444444,
              "#bd3786"
             ],
             [
              0.5555555555555556,
              "#d8576b"
             ],
             [
              0.6666666666666666,
              "#ed7953"
             ],
             [
              0.7777777777777778,
              "#fb9f3a"
             ],
             [
              0.8888888888888888,
              "#fdca26"
             ],
             [
              1,
              "#f0f921"
             ]
            ],
            "type": "surface"
           }
          ],
          "table": [
           {
            "cells": {
             "fill": {
              "color": "#EBF0F8"
             },
             "line": {
              "color": "white"
             }
            },
            "header": {
             "fill": {
              "color": "#C8D4E3"
             },
             "line": {
              "color": "white"
             }
            },
            "type": "table"
           }
          ]
         },
         "layout": {
          "annotationdefaults": {
           "arrowcolor": "#2a3f5f",
           "arrowhead": 0,
           "arrowwidth": 1
          },
          "autotypenumbers": "strict",
          "coloraxis": {
           "colorbar": {
            "outlinewidth": 0,
            "ticks": ""
           }
          },
          "colorscale": {
           "diverging": [
            [
             0,
             "#8e0152"
            ],
            [
             0.1,
             "#c51b7d"
            ],
            [
             0.2,
             "#de77ae"
            ],
            [
             0.3,
             "#f1b6da"
            ],
            [
             0.4,
             "#fde0ef"
            ],
            [
             0.5,
             "#f7f7f7"
            ],
            [
             0.6,
             "#e6f5d0"
            ],
            [
             0.7,
             "#b8e186"
            ],
            [
             0.8,
             "#7fbc41"
            ],
            [
             0.9,
             "#4d9221"
            ],
            [
             1,
             "#276419"
            ]
           ],
           "sequential": [
            [
             0,
             "#0d0887"
            ],
            [
             0.1111111111111111,
             "#46039f"
            ],
            [
             0.2222222222222222,
             "#7201a8"
            ],
            [
             0.3333333333333333,
             "#9c179e"
            ],
            [
             0.4444444444444444,
             "#bd3786"
            ],
            [
             0.5555555555555556,
             "#d8576b"
            ],
            [
             0.6666666666666666,
             "#ed7953"
            ],
            [
             0.7777777777777778,
             "#fb9f3a"
            ],
            [
             0.8888888888888888,
             "#fdca26"
            ],
            [
             1,
             "#f0f921"
            ]
           ],
           "sequentialminus": [
            [
             0,
             "#0d0887"
            ],
            [
             0.1111111111111111,
             "#46039f"
            ],
            [
             0.2222222222222222,
             "#7201a8"
            ],
            [
             0.3333333333333333,
             "#9c179e"
            ],
            [
             0.4444444444444444,
             "#bd3786"
            ],
            [
             0.5555555555555556,
             "#d8576b"
            ],
            [
             0.6666666666666666,
             "#ed7953"
            ],
            [
             0.7777777777777778,
             "#fb9f3a"
            ],
            [
             0.8888888888888888,
             "#fdca26"
            ],
            [
             1,
             "#f0f921"
            ]
           ]
          },
          "colorway": [
           "#636efa",
           "#EF553B",
           "#00cc96",
           "#ab63fa",
           "#FFA15A",
           "#19d3f3",
           "#FF6692",
           "#B6E880",
           "#FF97FF",
           "#FECB52"
          ],
          "font": {
           "color": "#2a3f5f"
          },
          "geo": {
           "bgcolor": "white",
           "lakecolor": "white",
           "landcolor": "white",
           "showlakes": true,
           "showland": true,
           "subunitcolor": "#C8D4E3"
          },
          "hoverlabel": {
           "align": "left"
          },
          "hovermode": "closest",
          "mapbox": {
           "style": "light"
          },
          "paper_bgcolor": "white",
          "plot_bgcolor": "white",
          "polar": {
           "angularaxis": {
            "gridcolor": "#EBF0F8",
            "linecolor": "#EBF0F8",
            "ticks": ""
           },
           "bgcolor": "white",
           "radialaxis": {
            "gridcolor": "#EBF0F8",
            "linecolor": "#EBF0F8",
            "ticks": ""
           }
          },
          "scene": {
           "xaxis": {
            "backgroundcolor": "white",
            "gridcolor": "#DFE8F3",
            "gridwidth": 2,
            "linecolor": "#EBF0F8",
            "showbackground": true,
            "ticks": "",
            "zerolinecolor": "#EBF0F8"
           },
           "yaxis": {
            "backgroundcolor": "white",
            "gridcolor": "#DFE8F3",
            "gridwidth": 2,
            "linecolor": "#EBF0F8",
            "showbackground": true,
            "ticks": "",
            "zerolinecolor": "#EBF0F8"
           },
           "zaxis": {
            "backgroundcolor": "white",
            "gridcolor": "#DFE8F3",
            "gridwidth": 2,
            "linecolor": "#EBF0F8",
            "showbackground": true,
            "ticks": "",
            "zerolinecolor": "#EBF0F8"
           }
          },
          "shapedefaults": {
           "line": {
            "color": "#2a3f5f"
           }
          },
          "ternary": {
           "aaxis": {
            "gridcolor": "#DFE8F3",
            "linecolor": "#A2B1C6",
            "ticks": ""
           },
           "baxis": {
            "gridcolor": "#DFE8F3",
            "linecolor": "#A2B1C6",
            "ticks": ""
           },
           "bgcolor": "white",
           "caxis": {
            "gridcolor": "#DFE8F3",
            "linecolor": "#A2B1C6",
            "ticks": ""
           }
          },
          "title": {
           "x": 0.05
          },
          "xaxis": {
           "automargin": true,
           "gridcolor": "#EBF0F8",
           "linecolor": "#EBF0F8",
           "ticks": "",
           "title": {
            "standoff": 15
           },
           "zerolinecolor": "#EBF0F8",
           "zerolinewidth": 2
          },
          "yaxis": {
           "automargin": true,
           "gridcolor": "#EBF0F8",
           "linecolor": "#EBF0F8",
           "ticks": "",
           "title": {
            "standoff": 15
           },
           "zerolinecolor": "#EBF0F8",
           "zerolinewidth": 2
          }
         }
        },
        "title": {
         "text": "%Change in GDP vs. School Closure Weeks, color=Income,size=Internet"
        },
        "width": 900,
        "xaxis": {
         "anchor": "y",
         "domain": [
          0,
          1
         ],
         "title": {
          "text": "School Closure Weeks"
         }
        },
        "yaxis": {
         "anchor": "x",
         "domain": [
          0,
          1
         ],
         "title": {
          "text": "%Change in GDP"
         }
        }
       }
      },
      "text/html": [
       "<div>                            <div id=\"e15bfc17-b0f4-4141-8fb6-7e8517a8b1ce\" class=\"plotly-graph-div\" style=\"height:1000px; width:900px;\"></div>            <script type=\"text/javascript\">                require([\"plotly\"], function(Plotly) {                    window.PLOTLYENV=window.PLOTLYENV || {};                                    if (document.getElementById(\"e15bfc17-b0f4-4141-8fb6-7e8517a8b1ce\")) {                    Plotly.newPlot(                        \"e15bfc17-b0f4-4141-8fb6-7e8517a8b1ce\",                        [{\"hovertemplate\": \"<b>%{hovertext}</b><br><br>Income Group=Low income<br>School Closure Weeks=%{x}<br>%Change in GDP=%{y}<br>internet=%{marker.size}<extra></extra>\", \"hovertext\": [\"Afghanistan\", \"Benin\", \"Burkina Faso\", \"Burundi\", \"Central African Republic\", \"Chad\", \"Democratic Republic of Congo\", \"Eritrea\", \"Ethiopia\", \"Gambia\", \"Guinea\", \"Guinea-Bissau\", \"Haiti\", \"Liberia\", \"Madagascar\", \"Malawi\", \"Mali\", \"Mozambique\", \"Nepal\", \"Niger\", \"Rwanda\", \"Sierra Leone\", \"Somalia\", \"South Sudan\", \"Tajikistan\", \"Togo\", \"Uganda\", \"Tanzania\", \"Yemen\"], \"legendgroup\": \"Low income\", \"marker\": {\"color\": \"black\", \"opacity\": 0.8, \"size\": [10.5957264186601, 11.994047908223, 13.96, 5.17362677652886, 4.0, 5.0, 6.20997406030119, 1.177118720157, 15.3669238595896, 18.5, 9.8, 3.761413832337, 12.2326016070408, 7.31910641139578, 4.713662899498, 11.47, 11.1121864890589, 17.5212390868424, 19.688763836629, 4.32275803028068, 20.0, 11.77318438, 1.88, 6.6797280510287, 20.470000000055, 11.31, 21.87617046, 13.0, 24.5792083636211], \"sizemode\": \"area\", \"sizeref\": 0.6822223354161007, \"symbol\": \"circle\"}, \"mode\": \"markers\", \"name\": \"Low income\", \"orientation\": \"v\", \"showlegend\": true, \"type\": \"scatter\", \"x\": [31.0, 15.0, 14.0, 0.0, 23.0, 28.0, 33.0, 49.0, 31.0, 28.0, 22.0, 23.0, 31.0, 37.0, 16.0, 26.0, 17.0, 45.0, 53.0, 16.0, 47.0, 14.0, 15.0, 49.0, 0.0, 14.0, 50.0, 15.0, 19.0], \"xaxis\": \"x\", \"y\": [-5.0, 2.0, 0.8, -1.3, 0.0, -0.9, -0.1, -0.6, 6.1, 0.0, 5.2, -2.4, -3.7, -3.0, -4.2, 0.6, -2.0, -0.5, -1.9, 1.2, -0.2, -2.2, -1.5, -6.6, 4.5, 0.7, -2.1, 1.0, -5.0], \"yaxis\": \"y\"}, {\"hovertemplate\": \"<b>%{hovertext}</b><br><br>Income Group=Upper middle income<br>School Closure Weeks=%{x}<br>%Change in GDP=%{y}<br>internet=%{marker.size}<extra></extra>\", \"hovertext\": [\"Albania\", \"Algeria\", \"Argentina\", \"Armenia\", \"Azerbaijan\", \"Belarus\", \"Belize\", \"Bosnia and Herzegovina\", \"Botswana\", \"Brazil\", \"Bulgaria\", \"China\", \"Colombia\", \"Costa Rica\", \"Dominica\", \"Dominican Republic\", \"Ecuador\", \"Equatorial Guinea\", \"Fiji\", \"Gabon\", \"Georgia\", \"Grenada\", \"Guatemala\", \"Guyana\", \"Iran\", \"Iraq\", \"Jamaica\", \"Jordan\", \"Kazakhstan\", \"Lebanon\", \"Libya\", \"Malaysia\", \"Maldives\", \"Marshall Islands\", \"Mauritius\", \"Mexico\", \"Montenegro\", \"Namibia\", \"Paraguay\", \"Peru\", \"Romania\", \"Russia\", \"Saint Lucia\", \"Saint Vincent and the Grenadines\", \"Samoa\", \"Serbia\", \"Sri Lanka\", \"Suriname\", \"Thailand\", \"Turkey\", \"Venezuela\"], \"legendgroup\": \"Upper middle income\", \"marker\": {\"color\": \"grey\", \"opacity\": 0.8, \"size\": [66.363444701023, 42.9455268800332, 70.9689808206024, 64.3460297653742, 78.2, 71.1130457603832, 44.57574032, 60.26, 39.36299738, 60.8725400681261, 59.825547661014, 53.2, 58.1364935728703, 66.028712851114, 67.03, 63.87, 54.0629247288864, 23.779999971074, 46.5069783122217, 48.0522737506185, 59.26, 55.8564078225865, 34.5093260915602, 35.66, 53.2267726333568, 21.23, 44.3668563671334, 62.3021925670712, 74.5877264735738, 76.11, 20.27215956269, 78.7883099275229, 59.0925899654109, 29.7877793626081, 52.1913259356523, 59.5404459967255, 69.8816468416779, 31.0333459383454, 53.4, 45.4617406869459, 59.5039512852713, 73.091434617897, 46.7290780591803, 55.5746194230166, 29.4117301129981, 67.0568413716938, 32.0510027436177, 45.4, 47.5049656215909, 58.3477340145685, 60.0], \"sizemode\": \"area\", \"sizeref\": 0.6822223354161007, \"symbol\": \"circle\"}, \"mode\": \"markers\", \"name\": \"Upper middle income\", \"orientation\": \"v\", \"showlegend\": true, \"type\": \"scatter\", \"x\": [24.0, 21.0, 46.0, 12.0, 37.0, 0.0, 38.0, 38.0, 20.0, 44.0, 32.0, 27.0, 43.0, 46.0, 17.0, 32.0, 44.0, 22.0, 13.0, 21.0, 32.0, 45.0, 45.0, 45.0, 45.0, 50.0, 37.0, 42.0, 36.0, 37.0, 40.0, 35.0, 16.0, 2.0, 8.0, 44.0, 36.0, 25.0, 40.0, 42.0, 32.0, 13.0, 40.0, 28.0, 4.0, 34.0, 43.0, 20.0, 25.0, 38.0, 38.0], \"xaxis\": \"x\", \"y\": [-3.5, -6.0, -10.0, -7.6, -4.3, -0.9, -14.1, -5.5, -8.3, -4.1, -3.8, 2.3, -6.8, -4.8, -10.4, -6.7, -7.5, -5.8, -19.0, -1.8, -6.1, -13.5, -1.5, 43.4, 1.5, -10.9, -10.2, -2.0, -2.6, -25.0, -59.7, -5.6, -32.2, -3.3, -15.8, -8.2, -15.2, -7.2, -0.9, -11.1, -3.9, -3.1, -18.9, -4.2, -3.2, -1.0, -3.6, -13.5, -6.1, 1.8, -30.0], \"yaxis\": \"y\"}, {\"hovertemplate\": \"<b>%{hovertext}</b><br><br>Income Group=Lower middle income<br>School Closure Weeks=%{x}<br>%Change in GDP=%{y}<br>internet=%{marker.size}<extra></extra>\", \"hovertext\": [\"Angola\", \"Bangladesh\", \"Bhutan\", \"Bolivia\", \"Cambodia\", \"Cameroon\", \"Comoros\", \"Congo\", \"Djibouti\", \"Egypt\", \"El Salvador\", \"Eswatini\", \"Ghana\", \"Honduras\", \"India\", \"Indonesia\", \"Kenya\", \"Kyrgyzstan\", \"Laos\", \"Lesotho\", \"Mauritania\", \"Mongolia\", \"Morocco\", \"Myanmar\", \"Nicaragua\", \"Nigeria\", \"Pakistan\", \"Papua New Guinea\", \"Philippines\", \"Moldova\", \"Senegal\", \"Solomon Islands\", \"Sudan\", \"Timor\", \"Tunisia\", \"Ukraine\", \"Uzbekistan\", \"Vanuatu\", \"Vietnam\", \"Zambia\", \"Zimbabwe\"], \"legendgroup\": \"Lower middle income\", \"marker\": {\"color\": \"lightblue\", \"opacity\": 0.8, \"size\": [13.0, 18.2469380029449, 41.7726445321672, 39.6975146032685, 32.3984517141849, 25.0, 7.938322770803, 8.121949323466, 13.1349151074, 41.2480670885772, 28.997073045597, 28.5735227827685, 34.66600065, 30.0, 29.5471628858754, 25.45, 16.6, 34.5, 21.87, 27.36, 18.0, 22.2657705007562, 58.271236420398, 25.07330424, 24.5718339595365, 25.67, 15.5145577897414, 9.60153846153846, 55.5, 70.9999991066624, 25.6647680413953, 11.000902271205, 28.0, 25.24624959, 49.6, 53.0, 46.7912869407806, 24.0, 46.5, 25.5065788475702, 23.11998904], \"sizemode\": \"area\", \"sizeref\": 0.6822223354161007, \"symbol\": \"circle\"}, \"mode\": \"markers\", \"name\": \"Lower middle income\", \"orientation\": \"v\", \"showlegend\": true, \"type\": \"scatter\", \"x\": [46.0, 47.0, 49.0, 47.0, 29.0, 18.0, 35.0, 26.0, 7.0, 19.0, 45.0, 49.0, 40.0, 46.0, 51.0, 48.0, 37.0, 38.0, 19.0, 41.0, 23.0, 34.0, 21.0, 48.0, 15.0, 24.0, 33.0, 6.0, 34.0, 16.0, 22.0, 7.0, 22.0, 11.0, 28.0, 19.0, 12.0, 4.0, 14.0, 18.0, 34.0], \"xaxis\": \"x\", \"y\": [-4.0, 3.8, -0.8, -7.7, -3.5, -2.8, -0.5, -7.8, -1.0, 3.6, -8.6, -3.3, 0.9, -8.0, -8.0, -2.1, -0.1, -8.0, -0.4, -4.5, -2.2, -5.3, -7.0, 3.2, -3.0, -1.8, -0.4, -3.9, -9.5, -7.5, 0.8, -4.3, -3.6, -6.8, -8.8, -4.2, 1.6, -9.2, 2.9, -3.5, -8.0], \"yaxis\": \"y\"}, {\"hovertemplate\": \"<b>%{hovertext}</b><br><br>Income Group=High income<br>School Closure Weeks=%{x}<br>%Change in GDP=%{y}<br>internet=%{marker.size}<extra></extra>\", \"hovertext\": [\"Antigua and Barbuda\", \"Australia\", \"Austria\", \"Bahamas\", \"Bahrain\", \"Barbados\", \"Belgium\", \"Brunei\", \"Canada\", \"Chile\", \"Croatia\", \"Cyprus\", \"Czechia\", \"Denmark\", \"Estonia\", \"Finland\", \"France\", \"Germany\", \"Greece\", \"Hungary\", \"Iceland\", \"Ireland\", \"Israel\", \"Italy\", \"Japan\", \"Kuwait\", \"Latvia\", \"Lithuania\", \"Luxembourg\", \"Malta\", \"Netherlands\", \"New Zealand\", \"Norway\", \"Oman\", \"Panama\", \"Poland\", \"Portugal\", \"Qatar\", \"South Korea\", \"Saint Kitts and Nevis\", \"Saudi Arabia\", \"Seychelles\", \"Singapore\", \"Slovakia\", \"Slovenia\", \"Spain\", \"Sweden\", \"Switzerland\", \"Trinidad and Tobago\", \"United Arab Emirates\", \"United Kingdom\", \"United States\", \"Uruguay\"], \"legendgroup\": \"High income\", \"marker\": {\"color\": \"blue\", \"opacity\": 0.8, \"size\": [73.0, 88.2386580521762, 84.3233312921004, 80.0, 97.9999807024146, 79.5493978888735, 86.5165, 90.0, 91.16, 83.56, 72.6973060458944, 75.9003601905124, 76.4812013779572, 96.9677852516645, 87.2373320920335, 87.7036499599455, 79.27, 89.6471005903368, 69.0879154723892, 79.2594013161699, 98.2400162999185, 85.0111321151019, 79.6531241815281, 61.3242527666303, 93.1827212821617, 78.36738376, 79.8420977843089, 74.3766455618662, 98.1366986657616, 77.2893948185413, 90.4109589041096, 88.470186347099, 97.2982036675068, 76.85, 54.0, 73.3007, 70.423567088723, 94.2911181549896, 92.8430256796075, 76.8176749076294, 74.88, 56.5147081470678, 84.45, 80.4759, 75.4985042610791, 80.5613329432179, 89.6509476102355, 89.1346877351392, 73.296941218486, 90.6000073180483, 94.7758006318882, 76.176736982841, 66.4], \"sizemode\": \"area\", \"sizeref\": 0.6822223354161007, \"symbol\": \"circle\"}, \"mode\": \"markers\", \"name\": \"High income\", \"orientation\": \"v\", \"showlegend\": true, \"type\": \"scatter\", \"x\": [41.0, 27.0, 27.0, 41.0, 44.0, 31.0, 15.0, 17.0, 40.0, 44.0, 10.0, 25.0, 38.0, 23.0, 16.0, 23.0, 10.0, 28.0, 32.0, 33.0, 6.0, 26.0, 33.0, 35.0, 11.0, 42.0, 36.0, 29.0, 15.0, 19.0, 22.0, 9.0, 19.0, 26.0, 46.0, 35.0, 21.0, 41.0, 41.0, 11.0, 41.0, 19.0, 11.0, 37.0, 34.0, 15.0, 23.0, 6.0, 40.0, 42.0, 27.0, 47.0, 27.0], \"xaxis\": \"x\", \"y\": [-17.3, -2.4, -6.6, -16.3, -5.4, -17.6, -6.4, 1.2, -5.4, -5.8, -9.0, -5.1, -5.6, -3.3, -2.9, -2.9, -8.2, -4.9, -8.2, -5.0, -6.6, 2.5, -2.4, -8.9, -4.8, -8.1, -3.6, -0.8, -1.3, -7.0, -3.8, -3.0, -0.8, -6.4, -17.9, -2.7, -7.6, -2.6, -1.0, -18.7, -4.1, -13.4, -5.4, -7.0, -5.5, -11.0, -2.8, -3.0, -7.8, -5.9, -9.9, -3.5, -5.7], \"yaxis\": \"y\"}],                        {\"height\": 1000, \"legend\": {\"itemsizing\": \"constant\", \"title\": {\"text\": \"Income Group\"}, \"tracegroupgap\": 0}, \"template\": {\"data\": {\"bar\": [{\"error_x\": {\"color\": \"#2a3f5f\"}, \"error_y\": {\"color\": \"#2a3f5f\"}, \"marker\": {\"line\": {\"color\": \"white\", \"width\": 0.5}}, \"type\": \"bar\"}], \"barpolar\": [{\"marker\": {\"line\": {\"color\": \"white\", \"width\": 0.5}}, \"type\": \"barpolar\"}], \"carpet\": [{\"aaxis\": {\"endlinecolor\": \"#2a3f5f\", \"gridcolor\": \"#C8D4E3\", \"linecolor\": \"#C8D4E3\", \"minorgridcolor\": \"#C8D4E3\", \"startlinecolor\": \"#2a3f5f\"}, \"baxis\": {\"endlinecolor\": \"#2a3f5f\", \"gridcolor\": \"#C8D4E3\", \"linecolor\": \"#C8D4E3\", \"minorgridcolor\": \"#C8D4E3\", \"startlinecolor\": \"#2a3f5f\"}, \"type\": \"carpet\"}], \"choropleth\": [{\"colorbar\": {\"outlinewidth\": 0, \"ticks\": \"\"}, \"type\": \"choropleth\"}], \"contour\": [{\"colorbar\": {\"outlinewidth\": 0, \"ticks\": \"\"}, \"colorscale\": [[0.0, \"#0d0887\"], [0.1111111111111111, \"#46039f\"], [0.2222222222222222, \"#7201a8\"], [0.3333333333333333, \"#9c179e\"], [0.4444444444444444, \"#bd3786\"], [0.5555555555555556, \"#d8576b\"], [0.6666666666666666, \"#ed7953\"], [0.7777777777777778, \"#fb9f3a\"], [0.8888888888888888, \"#fdca26\"], [1.0, \"#f0f921\"]], \"type\": \"contour\"}], \"contourcarpet\": [{\"colorbar\": {\"outlinewidth\": 0, \"ticks\": \"\"}, \"type\": \"contourcarpet\"}], \"heatmap\": [{\"colorbar\": {\"outlinewidth\": 0, \"ticks\": \"\"}, \"colorscale\": [[0.0, \"#0d0887\"], [0.1111111111111111, \"#46039f\"], [0.2222222222222222, \"#7201a8\"], [0.3333333333333333, \"#9c179e\"], [0.4444444444444444, \"#bd3786\"], [0.5555555555555556, \"#d8576b\"], [0.6666666666666666, \"#ed7953\"], [0.7777777777777778, \"#fb9f3a\"], [0.8888888888888888, \"#fdca26\"], [1.0, \"#f0f921\"]], \"type\": \"heatmap\"}], \"heatmapgl\": [{\"colorbar\": {\"outlinewidth\": 0, \"ticks\": \"\"}, \"colorscale\": [[0.0, \"#0d0887\"], [0.1111111111111111, \"#46039f\"], [0.2222222222222222, \"#7201a8\"], [0.3333333333333333, \"#9c179e\"], [0.4444444444444444, \"#bd3786\"], [0.5555555555555556, \"#d8576b\"], [0.6666666666666666, \"#ed7953\"], [0.7777777777777778, \"#fb9f3a\"], [0.8888888888888888, \"#fdca26\"], [1.0, \"#f0f921\"]], \"type\": \"heatmapgl\"}], \"histogram\": [{\"marker\": {\"colorbar\": {\"outlinewidth\": 0, \"ticks\": \"\"}}, \"type\": \"histogram\"}], \"histogram2d\": [{\"colorbar\": {\"outlinewidth\": 0, \"ticks\": \"\"}, \"colorscale\": [[0.0, \"#0d0887\"], [0.1111111111111111, \"#46039f\"], [0.2222222222222222, \"#7201a8\"], [0.3333333333333333, \"#9c179e\"], [0.4444444444444444, \"#bd3786\"], [0.5555555555555556, \"#d8576b\"], [0.6666666666666666, \"#ed7953\"], [0.7777777777777778, \"#fb9f3a\"], [0.8888888888888888, \"#fdca26\"], [1.0, \"#f0f921\"]], \"type\": \"histogram2d\"}], \"histogram2dcontour\": [{\"colorbar\": {\"outlinewidth\": 0, \"ticks\": \"\"}, \"colorscale\": [[0.0, \"#0d0887\"], [0.1111111111111111, \"#46039f\"], [0.2222222222222222, \"#7201a8\"], [0.3333333333333333, \"#9c179e\"], [0.4444444444444444, \"#bd3786\"], [0.5555555555555556, \"#d8576b\"], [0.6666666666666666, \"#ed7953\"], [0.7777777777777778, \"#fb9f3a\"], [0.8888888888888888, \"#fdca26\"], [1.0, \"#f0f921\"]], \"type\": \"histogram2dcontour\"}], \"mesh3d\": [{\"colorbar\": {\"outlinewidth\": 0, \"ticks\": \"\"}, \"type\": \"mesh3d\"}], \"parcoords\": [{\"line\": {\"colorbar\": {\"outlinewidth\": 0, \"ticks\": \"\"}}, \"type\": \"parcoords\"}], \"pie\": [{\"automargin\": true, \"type\": \"pie\"}], \"scatter\": [{\"marker\": {\"colorbar\": {\"outlinewidth\": 0, \"ticks\": \"\"}}, \"type\": \"scatter\"}], \"scatter3d\": [{\"line\": {\"colorbar\": {\"outlinewidth\": 0, \"ticks\": \"\"}}, \"marker\": {\"colorbar\": {\"outlinewidth\": 0, \"ticks\": \"\"}}, \"type\": \"scatter3d\"}], \"scattercarpet\": [{\"marker\": {\"colorbar\": {\"outlinewidth\": 0, \"ticks\": \"\"}}, \"type\": \"scattercarpet\"}], \"scattergeo\": [{\"marker\": {\"colorbar\": {\"outlinewidth\": 0, \"ticks\": \"\"}}, \"type\": \"scattergeo\"}], \"scattergl\": [{\"marker\": {\"colorbar\": {\"outlinewidth\": 0, \"ticks\": \"\"}}, \"type\": \"scattergl\"}], \"scattermapbox\": [{\"marker\": {\"colorbar\": {\"outlinewidth\": 0, \"ticks\": \"\"}}, \"type\": \"scattermapbox\"}], \"scatterpolar\": [{\"marker\": {\"colorbar\": {\"outlinewidth\": 0, \"ticks\": \"\"}}, \"type\": \"scatterpolar\"}], \"scatterpolargl\": [{\"marker\": {\"colorbar\": {\"outlinewidth\": 0, \"ticks\": \"\"}}, \"type\": \"scatterpolargl\"}], \"scatterternary\": [{\"marker\": {\"colorbar\": {\"outlinewidth\": 0, \"ticks\": \"\"}}, \"type\": \"scatterternary\"}], \"surface\": [{\"colorbar\": {\"outlinewidth\": 0, \"ticks\": \"\"}, \"colorscale\": [[0.0, \"#0d0887\"], [0.1111111111111111, \"#46039f\"], [0.2222222222222222, \"#7201a8\"], [0.3333333333333333, \"#9c179e\"], [0.4444444444444444, \"#bd3786\"], [0.5555555555555556, \"#d8576b\"], [0.6666666666666666, \"#ed7953\"], [0.7777777777777778, \"#fb9f3a\"], [0.8888888888888888, \"#fdca26\"], [1.0, \"#f0f921\"]], \"type\": \"surface\"}], \"table\": [{\"cells\": {\"fill\": {\"color\": \"#EBF0F8\"}, \"line\": {\"color\": \"white\"}}, \"header\": {\"fill\": {\"color\": \"#C8D4E3\"}, \"line\": {\"color\": \"white\"}}, \"type\": \"table\"}]}, \"layout\": {\"annotationdefaults\": {\"arrowcolor\": \"#2a3f5f\", \"arrowhead\": 0, \"arrowwidth\": 1}, \"autotypenumbers\": \"strict\", \"coloraxis\": {\"colorbar\": {\"outlinewidth\": 0, \"ticks\": \"\"}}, \"colorscale\": {\"diverging\": [[0, \"#8e0152\"], [0.1, \"#c51b7d\"], [0.2, \"#de77ae\"], [0.3, \"#f1b6da\"], [0.4, \"#fde0ef\"], [0.5, \"#f7f7f7\"], [0.6, \"#e6f5d0\"], [0.7, \"#b8e186\"], [0.8, \"#7fbc41\"], [0.9, \"#4d9221\"], [1, \"#276419\"]], \"sequential\": [[0.0, \"#0d0887\"], [0.1111111111111111, \"#46039f\"], [0.2222222222222222, \"#7201a8\"], [0.3333333333333333, \"#9c179e\"], [0.4444444444444444, \"#bd3786\"], [0.5555555555555556, \"#d8576b\"], [0.6666666666666666, \"#ed7953\"], [0.7777777777777778, \"#fb9f3a\"], [0.8888888888888888, \"#fdca26\"], [1.0, \"#f0f921\"]], \"sequentialminus\": [[0.0, \"#0d0887\"], [0.1111111111111111, \"#46039f\"], [0.2222222222222222, \"#7201a8\"], [0.3333333333333333, \"#9c179e\"], [0.4444444444444444, \"#bd3786\"], [0.5555555555555556, \"#d8576b\"], [0.6666666666666666, \"#ed7953\"], [0.7777777777777778, \"#fb9f3a\"], [0.8888888888888888, \"#fdca26\"], [1.0, \"#f0f921\"]]}, \"colorway\": [\"#636efa\", \"#EF553B\", \"#00cc96\", \"#ab63fa\", \"#FFA15A\", \"#19d3f3\", \"#FF6692\", \"#B6E880\", \"#FF97FF\", \"#FECB52\"], \"font\": {\"color\": \"#2a3f5f\"}, \"geo\": {\"bgcolor\": \"white\", \"lakecolor\": \"white\", \"landcolor\": \"white\", \"showlakes\": true, \"showland\": true, \"subunitcolor\": \"#C8D4E3\"}, \"hoverlabel\": {\"align\": \"left\"}, \"hovermode\": \"closest\", \"mapbox\": {\"style\": \"light\"}, \"paper_bgcolor\": \"white\", \"plot_bgcolor\": \"white\", \"polar\": {\"angularaxis\": {\"gridcolor\": \"#EBF0F8\", \"linecolor\": \"#EBF0F8\", \"ticks\": \"\"}, \"bgcolor\": \"white\", \"radialaxis\": {\"gridcolor\": \"#EBF0F8\", \"linecolor\": \"#EBF0F8\", \"ticks\": \"\"}}, \"scene\": {\"xaxis\": {\"backgroundcolor\": \"white\", \"gridcolor\": \"#DFE8F3\", \"gridwidth\": 2, \"linecolor\": \"#EBF0F8\", \"showbackground\": true, \"ticks\": \"\", \"zerolinecolor\": \"#EBF0F8\"}, \"yaxis\": {\"backgroundcolor\": \"white\", \"gridcolor\": \"#DFE8F3\", \"gridwidth\": 2, \"linecolor\": \"#EBF0F8\", \"showbackground\": true, \"ticks\": \"\", \"zerolinecolor\": \"#EBF0F8\"}, \"zaxis\": {\"backgroundcolor\": \"white\", \"gridcolor\": \"#DFE8F3\", \"gridwidth\": 2, \"linecolor\": \"#EBF0F8\", \"showbackground\": true, \"ticks\": \"\", \"zerolinecolor\": \"#EBF0F8\"}}, \"shapedefaults\": {\"line\": {\"color\": \"#2a3f5f\"}}, \"ternary\": {\"aaxis\": {\"gridcolor\": \"#DFE8F3\", \"linecolor\": \"#A2B1C6\", \"ticks\": \"\"}, \"baxis\": {\"gridcolor\": \"#DFE8F3\", \"linecolor\": \"#A2B1C6\", \"ticks\": \"\"}, \"bgcolor\": \"white\", \"caxis\": {\"gridcolor\": \"#DFE8F3\", \"linecolor\": \"#A2B1C6\", \"ticks\": \"\"}}, \"title\": {\"x\": 0.05}, \"xaxis\": {\"automargin\": true, \"gridcolor\": \"#EBF0F8\", \"linecolor\": \"#EBF0F8\", \"ticks\": \"\", \"title\": {\"standoff\": 15}, \"zerolinecolor\": \"#EBF0F8\", \"zerolinewidth\": 2}, \"yaxis\": {\"automargin\": true, \"gridcolor\": \"#EBF0F8\", \"linecolor\": \"#EBF0F8\", \"ticks\": \"\", \"title\": {\"standoff\": 15}, \"zerolinecolor\": \"#EBF0F8\", \"zerolinewidth\": 2}}}, \"title\": {\"text\": \"%Change in GDP vs. School Closure Weeks, color=Income,size=Internet\"}, \"width\": 900, \"xaxis\": {\"anchor\": \"y\", \"domain\": [0.0, 1.0], \"title\": {\"text\": \"School Closure Weeks\"}}, \"yaxis\": {\"anchor\": \"x\", \"domain\": [0.0, 1.0], \"title\": {\"text\": \"%Change in GDP\"}}},                        {\"responsive\": true}                    ).then(function(){\n",
       "                            \n",
       "var gd = document.getElementById('e15bfc17-b0f4-4141-8fb6-7e8517a8b1ce');\n",
       "var x = new MutationObserver(function (mutations, observer) {{\n",
       "        var display = window.getComputedStyle(gd).display;\n",
       "        if (!display || display === 'none') {{\n",
       "            console.log([gd, 'removed!']);\n",
       "            Plotly.purge(gd);\n",
       "            observer.disconnect();\n",
       "        }}\n",
       "}});\n",
       "\n",
       "// Listen for the removal of the full notebook cells\n",
       "var notebookContainer = gd.closest('#notebook-container');\n",
       "if (notebookContainer) {{\n",
       "    x.observe(notebookContainer, {childList: true});\n",
       "}}\n",
       "\n",
       "// Listen for the clearing of the current output cell\n",
       "var outputEl = gd.closest('.output');\n",
       "if (outputEl) {{\n",
       "    x.observe(outputEl, {childList: true});\n",
       "}}\n",
       "\n",
       "                        })                };                });            </script>        </div>"
      ]
     },
     "metadata": {},
     "output_type": "display_data"
    }
   ],
   "source": [
    "fig2 = px.scatter(df3, x=\"closure\", y=\"change\",\n",
    "                 size='internet',\n",
    "                 color='Income Group',\n",
    "                 color_discrete_sequence=['black','grey','lightblue','blue'],\n",
    "                 opacity=0.8,\n",
    "                 hover_name=\"Country\",\n",
    "                 labels={\"closure\": \"School Closure Weeks\",\n",
    "                        \"change\":\"%Change in GDP\"},\n",
    "                 title=\"%Change in GDP vs. School Closure Weeks, color=Income,size=Internet\",\n",
    "                 size_max=12,\n",
    "                 width=900, height=1000,\n",
    "                 template='plotly_white'\n",
    "                )\n",
    "\n",
    "# fig2.update_traces(marker=dict(size=12,\n",
    "#                               line=dict(width=0.5,\n",
    "#                                         color='black')),\n",
    "#                   selector=dict(mode='markers'))\n",
    "\n",
    "\n",
    "fig2.show()"
   ]
  },
  {
   "cell_type": "code",
   "execution_count": null,
   "id": "visible-mitchell",
   "metadata": {},
   "outputs": [],
   "source": [
    "import plotly.graph_objects as go\n",
    "import numpy as np\n",
    "\n",
    "fig = go.Figure(data=go.Scatter(\n",
    "    y = np.random.randn(500),\n",
    "    mode='markers',\n",
    "    marker=dict(\n",
    "        size=16,\n",
    "        color=np.random.randn(500), #set color equal to a variable\n",
    "        colorscale='Viridis', # one of plotly colorscales\n",
    "        showscale=True\n",
    "    )\n",
    "))\n",
    "\n",
    "fig.show()"
   ]
  },
  {
   "cell_type": "code",
   "execution_count": 46,
   "id": "bibliographic-vegetable",
   "metadata": {},
   "outputs": [
    {
     "data": {
      "application/vnd.plotly.v1+json": {
       "config": {
        "plotlyServerURL": "https://plotly.com"
       },
       "data": [
        {
         "hovertemplate": "<b>%{hovertext}</b><br><br>School Closure Weeks=%{x}<br>%Change in GDP=%{y}<br>case=%{marker.color}<extra></extra>",
         "hovertext": [
          "Afghanistan",
          "Albania",
          "Algeria",
          "Angola",
          "Antigua and Barbuda",
          "Argentina",
          "Armenia",
          "Australia",
          "Austria",
          "Azerbaijan",
          "Bahamas",
          "Bahrain",
          "Bangladesh",
          "Barbados",
          "Belarus",
          "Belgium",
          "Belize",
          "Benin",
          "Bhutan",
          "Bolivia",
          "Bosnia and Herzegovina",
          "Botswana",
          "Brazil",
          "Brunei",
          "Bulgaria",
          "Burkina Faso",
          "Burundi",
          "Cambodia",
          "Cameroon",
          "Canada",
          "Central African Republic",
          "Chad",
          "Chile",
          "China",
          "Colombia",
          "Comoros",
          "Congo",
          "Costa Rica",
          "Croatia",
          "Cyprus",
          "Czechia",
          "Democratic Republic of Congo",
          "Denmark",
          "Djibouti",
          "Dominica",
          "Dominican Republic",
          "Ecuador",
          "Egypt",
          "El Salvador",
          "Equatorial Guinea",
          "Eritrea",
          "Estonia",
          "Eswatini",
          "Ethiopia",
          "Fiji",
          "Finland",
          "France",
          "Gabon",
          "Gambia",
          "Georgia",
          "Germany",
          "Ghana",
          "Greece",
          "Grenada",
          "Guatemala",
          "Guinea",
          "Guinea-Bissau",
          "Guyana",
          "Haiti",
          "Honduras",
          "Hungary",
          "Iceland",
          "India",
          "Indonesia",
          "Iran",
          "Iraq",
          "Ireland",
          "Israel",
          "Italy",
          "Jamaica",
          "Japan",
          "Jordan",
          "Kazakhstan",
          "Kenya",
          "Kuwait",
          "Kyrgyzstan",
          "Laos",
          "Latvia",
          "Lebanon",
          "Lesotho",
          "Liberia",
          "Libya",
          "Lithuania",
          "Luxembourg",
          "Madagascar",
          "Malawi",
          "Malaysia",
          "Maldives",
          "Mali",
          "Malta",
          "Marshall Islands",
          "Mauritania",
          "Mauritius",
          "Mexico",
          "Mongolia",
          "Montenegro",
          "Morocco",
          "Mozambique",
          "Myanmar",
          "Namibia",
          "Nepal",
          "Netherlands",
          "New Zealand",
          "Nicaragua",
          "Niger",
          "Nigeria",
          "Norway",
          "Oman",
          "Pakistan",
          "Panama",
          "Papua New Guinea",
          "Paraguay",
          "Peru",
          "Philippines",
          "Poland",
          "Portugal",
          "Qatar",
          "South Korea",
          "Moldova",
          "Romania",
          "Russia",
          "Rwanda",
          "Saint Kitts and Nevis",
          "Saint Lucia",
          "Saint Vincent and the Grenadines",
          "Samoa",
          "Saudi Arabia",
          "Senegal",
          "Serbia",
          "Seychelles",
          "Sierra Leone",
          "Singapore",
          "Slovakia",
          "Slovenia",
          "Solomon Islands",
          "Somalia",
          "South Sudan",
          "Spain",
          "Sri Lanka",
          "Sudan",
          "Suriname",
          "Sweden",
          "Switzerland",
          "Tajikistan",
          "Thailand",
          "Timor",
          "Togo",
          "Trinidad and Tobago",
          "Tunisia",
          "Turkey",
          "Uganda",
          "Ukraine",
          "United Arab Emirates",
          "United Kingdom",
          "Tanzania",
          "United States",
          "Uruguay",
          "Uzbekistan",
          "Vanuatu",
          "Venezuela",
          "Vietnam",
          "Yemen",
          "Zambia",
          "Zimbabwe"
         ],
         "legendgroup": "",
         "marker": {
          "color": [
           1549,
           45616.79,
           2798.5,
           825.56,
           12580.67,
           66846.49,
           73233.5,
           1170.59,
           69195.35,
           31738.08,
           26893.97,
           106055.36,
           4637.1,
           13505.19,
           38298.73,
           86016.31,
           31874.57,
           650.32,
           1450.21,
           26469.91,
           60491.37,
           20348.06,
           69531.29,
           518.88,
           58405.15,
           637.41,
           340.26,
           918.78,
           2721.7,
           33167.45,
           1327.39,
           293.93,
           63601.26,
           71.25,
           57096.88,
           4421.6,
           1996.34,
           50386.78,
           81729.62,
           76391.23,
           152640,
           335.01,
           43915.59,
           11337.02,
           2416.97,
           24675.83,
           21994.26,
           2254.5,
           10750.05,
           5484.02,
           1035.69,
           92679.52,
           15911.54,
           2251.26,
           134.98,
           15764.2,
           83893.68,
           10424,
           2441.8,
           78450.81,
           41036.33,
           2982.76,
           33442.01,
           1421.98,
           12774.98,
           1700.55,
           1898.38,
           17244.73,
           1148.34,
           21654.06,
           81167.97,
           18997.8,
           14697.66,
           6149.39,
           30426.21,
           26850.59,
           50688.61,
           96888.34,
           66996.12,
           15547.62,
           4820.07,
           69995.41,
           20406.35,
           2985.96,
           65057.46,
           14766.12,
           132.77,
           63594.99,
           77424.58,
           5010.15,
           417.19,
           25953.65,
           91958.21,
           107823.62,
           1363.29,
           1782.49,
           12899.71,
           57960.34,
           688.22,
           68745.91,
           67.57,
           3973.62,
           952.22,
           18225.78,
           12322.27,
           155586.55,
           13868.99,
           2239.61,
           2625.3,
           19148.21,
           11786.4,
           90079.1,
           543.94,
           1041.28,
           217.34,
           801.39,
           21019.54,
           38557.78,
           3791.54,
           84662.49,
           1258.74,
           39881.08,
           55020.49,
           9693.51,
           74134.95,
           82130.14,
           72054.04,
           2423.85,
           62315.4,
           55013.75,
           32732.8,
           1954.18,
           845.99,
           24832.68,
           16963.05,
           15.12,
           12072.8,
           2416.64,
           101867.77,
           64805.78,
           509.21,
           10466.91,
           70192.87,
           116349.65,
           29.12,
           875.53,
           947.14,
           75723.38,
           5308.68,
           774.11,
           17972.02,
           96403.4,
           76716.5,
           1395.31,
           1017.55,
           1914.38,
           1571.5,
           8196.55,
           26462.23,
           58100.25,
           917.62,
           48951.61,
           53139.11,
           65367.01,
           8.52,
           98100.61,
           58761.09,
           2748.97,
           13.02,
           7066.09,
           30.67,
           213.34,
           4989.24,
           2576.41
          ],
          "coloraxis": "coloraxis",
          "symbol": "circle"
         },
         "mode": "markers",
         "name": "",
         "orientation": "v",
         "showlegend": false,
         "type": "scatter",
         "x": [
          31,
          24,
          21,
          46,
          41,
          46,
          12,
          27,
          27,
          37,
          41,
          44,
          47,
          31,
          0,
          15,
          38,
          15,
          49,
          47,
          38,
          20,
          44,
          17,
          32,
          14,
          0,
          29,
          18,
          40,
          23,
          28,
          44,
          27,
          43,
          35,
          26,
          46,
          10,
          25,
          38,
          33,
          23,
          7,
          17,
          32,
          44,
          19,
          45,
          22,
          49,
          16,
          49,
          31,
          13,
          23,
          10,
          21,
          28,
          32,
          28,
          40,
          32,
          45,
          45,
          22,
          23,
          45,
          31,
          46,
          33,
          6,
          51,
          48,
          45,
          50,
          26,
          33,
          35,
          37,
          11,
          42,
          36,
          37,
          42,
          38,
          19,
          36,
          37,
          41,
          37,
          40,
          29,
          15,
          16,
          26,
          35,
          16,
          17,
          19,
          2,
          23,
          8,
          44,
          34,
          36,
          21,
          45,
          48,
          25,
          53,
          22,
          9,
          15,
          16,
          24,
          19,
          26,
          33,
          46,
          6,
          40,
          42,
          34,
          35,
          21,
          41,
          41,
          16,
          32,
          13,
          47,
          11,
          40,
          28,
          4,
          41,
          22,
          34,
          19,
          14,
          11,
          37,
          34,
          7,
          15,
          49,
          15,
          43,
          22,
          20,
          23,
          6,
          0,
          25,
          11,
          14,
          40,
          28,
          38,
          50,
          19,
          42,
          27,
          15,
          47,
          27,
          12,
          4,
          38,
          14,
          19,
          18,
          34
         ],
         "xaxis": "x",
         "y": [
          -5,
          -3.5,
          -6,
          -4,
          -17.3,
          -10,
          -7.6,
          -2.4,
          -6.6,
          -4.3,
          -16.3,
          -5.4,
          3.8,
          -17.6,
          -0.9,
          -6.4,
          -14.1,
          2,
          -0.8,
          -7.7,
          -5.5,
          -8.3,
          -4.1,
          1.2,
          -3.8,
          0.8,
          -1.3,
          -3.5,
          -2.8,
          -5.4,
          0,
          -0.9,
          -5.8,
          2.3,
          -6.8,
          -0.5,
          -7.8,
          -4.8,
          -9,
          -5.1,
          -5.6,
          -0.1,
          -3.3,
          -1,
          -10.4,
          -6.7,
          -7.5,
          3.6,
          -8.6,
          -5.8,
          -0.6,
          -2.9,
          -3.3,
          6.1,
          -19,
          -2.9,
          -8.2,
          -1.8,
          0,
          -6.1,
          -4.9,
          0.9,
          -8.2,
          -13.5,
          -1.5,
          5.2,
          -2.4,
          43.4,
          -3.7,
          -8,
          -5,
          -6.6,
          -8,
          -2.1,
          1.5,
          -10.9,
          2.5,
          -2.4,
          -8.9,
          -10.2,
          -4.8,
          -2,
          -2.6,
          -0.1,
          -8.1,
          -8,
          -0.4,
          -3.6,
          -25,
          -4.5,
          -3,
          -59.7,
          -0.8,
          -1.3,
          -4.2,
          0.6,
          -5.6,
          -32.2,
          -2,
          -7,
          -3.3,
          -2.2,
          -15.8,
          -8.2,
          -5.3,
          -15.2,
          -7,
          -0.5,
          3.2,
          -7.2,
          -1.9,
          -3.8,
          -3,
          -3,
          1.2,
          -1.8,
          -0.8,
          -6.4,
          -0.4,
          -17.9,
          -3.9,
          -0.9,
          -11.1,
          -9.5,
          -2.7,
          -7.6,
          -2.6,
          -1,
          -7.5,
          -3.9,
          -3.1,
          -0.2,
          -18.7,
          -18.9,
          -4.2,
          -3.2,
          -4.1,
          0.8,
          -1,
          -13.4,
          -2.2,
          -5.4,
          -7,
          -5.5,
          -4.3,
          -1.5,
          -6.6,
          -11,
          -3.6,
          -3.6,
          -13.5,
          -2.8,
          -3,
          4.5,
          -6.1,
          -6.8,
          0.7,
          -7.8,
          -8.8,
          1.8,
          -2.1,
          -4.2,
          -5.9,
          -9.9,
          1,
          -3.5,
          -5.7,
          1.6,
          -9.2,
          -30,
          2.9,
          -5,
          -3.5,
          -8
         ],
         "yaxis": "y"
        }
       ],
       "layout": {
        "coloraxis": {
         "colorbar": {
          "title": {
           "text": "case"
          }
         },
         "colorscale": [
          [
           0,
           "#0d0887"
          ],
          [
           0.1111111111111111,
           "#46039f"
          ],
          [
           0.2222222222222222,
           "#7201a8"
          ],
          [
           0.3333333333333333,
           "#9c179e"
          ],
          [
           0.4444444444444444,
           "#bd3786"
          ],
          [
           0.5555555555555556,
           "#d8576b"
          ],
          [
           0.6666666666666666,
           "#ed7953"
          ],
          [
           0.7777777777777778,
           "#fb9f3a"
          ],
          [
           0.8888888888888888,
           "#fdca26"
          ],
          [
           1,
           "#f0f921"
          ]
         ]
        },
        "legend": {
         "tracegroupgap": 0
        },
        "template": {
         "data": {
          "bar": [
           {
            "error_x": {
             "color": "#2a3f5f"
            },
            "error_y": {
             "color": "#2a3f5f"
            },
            "marker": {
             "line": {
              "color": "#E5ECF6",
              "width": 0.5
             }
            },
            "type": "bar"
           }
          ],
          "barpolar": [
           {
            "marker": {
             "line": {
              "color": "#E5ECF6",
              "width": 0.5
             }
            },
            "type": "barpolar"
           }
          ],
          "carpet": [
           {
            "aaxis": {
             "endlinecolor": "#2a3f5f",
             "gridcolor": "white",
             "linecolor": "white",
             "minorgridcolor": "white",
             "startlinecolor": "#2a3f5f"
            },
            "baxis": {
             "endlinecolor": "#2a3f5f",
             "gridcolor": "white",
             "linecolor": "white",
             "minorgridcolor": "white",
             "startlinecolor": "#2a3f5f"
            },
            "type": "carpet"
           }
          ],
          "choropleth": [
           {
            "colorbar": {
             "outlinewidth": 0,
             "ticks": ""
            },
            "type": "choropleth"
           }
          ],
          "contour": [
           {
            "colorbar": {
             "outlinewidth": 0,
             "ticks": ""
            },
            "colorscale": [
             [
              0,
              "#0d0887"
             ],
             [
              0.1111111111111111,
              "#46039f"
             ],
             [
              0.2222222222222222,
              "#7201a8"
             ],
             [
              0.3333333333333333,
              "#9c179e"
             ],
             [
              0.4444444444444444,
              "#bd3786"
             ],
             [
              0.5555555555555556,
              "#d8576b"
             ],
             [
              0.6666666666666666,
              "#ed7953"
             ],
             [
              0.7777777777777778,
              "#fb9f3a"
             ],
             [
              0.8888888888888888,
              "#fdca26"
             ],
             [
              1,
              "#f0f921"
             ]
            ],
            "type": "contour"
           }
          ],
          "contourcarpet": [
           {
            "colorbar": {
             "outlinewidth": 0,
             "ticks": ""
            },
            "type": "contourcarpet"
           }
          ],
          "heatmap": [
           {
            "colorbar": {
             "outlinewidth": 0,
             "ticks": ""
            },
            "colorscale": [
             [
              0,
              "#0d0887"
             ],
             [
              0.1111111111111111,
              "#46039f"
             ],
             [
              0.2222222222222222,
              "#7201a8"
             ],
             [
              0.3333333333333333,
              "#9c179e"
             ],
             [
              0.4444444444444444,
              "#bd3786"
             ],
             [
              0.5555555555555556,
              "#d8576b"
             ],
             [
              0.6666666666666666,
              "#ed7953"
             ],
             [
              0.7777777777777778,
              "#fb9f3a"
             ],
             [
              0.8888888888888888,
              "#fdca26"
             ],
             [
              1,
              "#f0f921"
             ]
            ],
            "type": "heatmap"
           }
          ],
          "heatmapgl": [
           {
            "colorbar": {
             "outlinewidth": 0,
             "ticks": ""
            },
            "colorscale": [
             [
              0,
              "#0d0887"
             ],
             [
              0.1111111111111111,
              "#46039f"
             ],
             [
              0.2222222222222222,
              "#7201a8"
             ],
             [
              0.3333333333333333,
              "#9c179e"
             ],
             [
              0.4444444444444444,
              "#bd3786"
             ],
             [
              0.5555555555555556,
              "#d8576b"
             ],
             [
              0.6666666666666666,
              "#ed7953"
             ],
             [
              0.7777777777777778,
              "#fb9f3a"
             ],
             [
              0.8888888888888888,
              "#fdca26"
             ],
             [
              1,
              "#f0f921"
             ]
            ],
            "type": "heatmapgl"
           }
          ],
          "histogram": [
           {
            "marker": {
             "colorbar": {
              "outlinewidth": 0,
              "ticks": ""
             }
            },
            "type": "histogram"
           }
          ],
          "histogram2d": [
           {
            "colorbar": {
             "outlinewidth": 0,
             "ticks": ""
            },
            "colorscale": [
             [
              0,
              "#0d0887"
             ],
             [
              0.1111111111111111,
              "#46039f"
             ],
             [
              0.2222222222222222,
              "#7201a8"
             ],
             [
              0.3333333333333333,
              "#9c179e"
             ],
             [
              0.4444444444444444,
              "#bd3786"
             ],
             [
              0.5555555555555556,
              "#d8576b"
             ],
             [
              0.6666666666666666,
              "#ed7953"
             ],
             [
              0.7777777777777778,
              "#fb9f3a"
             ],
             [
              0.8888888888888888,
              "#fdca26"
             ],
             [
              1,
              "#f0f921"
             ]
            ],
            "type": "histogram2d"
           }
          ],
          "histogram2dcontour": [
           {
            "colorbar": {
             "outlinewidth": 0,
             "ticks": ""
            },
            "colorscale": [
             [
              0,
              "#0d0887"
             ],
             [
              0.1111111111111111,
              "#46039f"
             ],
             [
              0.2222222222222222,
              "#7201a8"
             ],
             [
              0.3333333333333333,
              "#9c179e"
             ],
             [
              0.4444444444444444,
              "#bd3786"
             ],
             [
              0.5555555555555556,
              "#d8576b"
             ],
             [
              0.6666666666666666,
              "#ed7953"
             ],
             [
              0.7777777777777778,
              "#fb9f3a"
             ],
             [
              0.8888888888888888,
              "#fdca26"
             ],
             [
              1,
              "#f0f921"
             ]
            ],
            "type": "histogram2dcontour"
           }
          ],
          "mesh3d": [
           {
            "colorbar": {
             "outlinewidth": 0,
             "ticks": ""
            },
            "type": "mesh3d"
           }
          ],
          "parcoords": [
           {
            "line": {
             "colorbar": {
              "outlinewidth": 0,
              "ticks": ""
             }
            },
            "type": "parcoords"
           }
          ],
          "pie": [
           {
            "automargin": true,
            "type": "pie"
           }
          ],
          "scatter": [
           {
            "marker": {
             "colorbar": {
              "outlinewidth": 0,
              "ticks": ""
             }
            },
            "type": "scatter"
           }
          ],
          "scatter3d": [
           {
            "line": {
             "colorbar": {
              "outlinewidth": 0,
              "ticks": ""
             }
            },
            "marker": {
             "colorbar": {
              "outlinewidth": 0,
              "ticks": ""
             }
            },
            "type": "scatter3d"
           }
          ],
          "scattercarpet": [
           {
            "marker": {
             "colorbar": {
              "outlinewidth": 0,
              "ticks": ""
             }
            },
            "type": "scattercarpet"
           }
          ],
          "scattergeo": [
           {
            "marker": {
             "colorbar": {
              "outlinewidth": 0,
              "ticks": ""
             }
            },
            "type": "scattergeo"
           }
          ],
          "scattergl": [
           {
            "marker": {
             "colorbar": {
              "outlinewidth": 0,
              "ticks": ""
             }
            },
            "type": "scattergl"
           }
          ],
          "scattermapbox": [
           {
            "marker": {
             "colorbar": {
              "outlinewidth": 0,
              "ticks": ""
             }
            },
            "type": "scattermapbox"
           }
          ],
          "scatterpolar": [
           {
            "marker": {
             "colorbar": {
              "outlinewidth": 0,
              "ticks": ""
             }
            },
            "type": "scatterpolar"
           }
          ],
          "scatterpolargl": [
           {
            "marker": {
             "colorbar": {
              "outlinewidth": 0,
              "ticks": ""
             }
            },
            "type": "scatterpolargl"
           }
          ],
          "scatterternary": [
           {
            "marker": {
             "colorbar": {
              "outlinewidth": 0,
              "ticks": ""
             }
            },
            "type": "scatterternary"
           }
          ],
          "surface": [
           {
            "colorbar": {
             "outlinewidth": 0,
             "ticks": ""
            },
            "colorscale": [
             [
              0,
              "#0d0887"
             ],
             [
              0.1111111111111111,
              "#46039f"
             ],
             [
              0.2222222222222222,
              "#7201a8"
             ],
             [
              0.3333333333333333,
              "#9c179e"
             ],
             [
              0.4444444444444444,
              "#bd3786"
             ],
             [
              0.5555555555555556,
              "#d8576b"
             ],
             [
              0.6666666666666666,
              "#ed7953"
             ],
             [
              0.7777777777777778,
              "#fb9f3a"
             ],
             [
              0.8888888888888888,
              "#fdca26"
             ],
             [
              1,
              "#f0f921"
             ]
            ],
            "type": "surface"
           }
          ],
          "table": [
           {
            "cells": {
             "fill": {
              "color": "#EBF0F8"
             },
             "line": {
              "color": "white"
             }
            },
            "header": {
             "fill": {
              "color": "#C8D4E3"
             },
             "line": {
              "color": "white"
             }
            },
            "type": "table"
           }
          ]
         },
         "layout": {
          "annotationdefaults": {
           "arrowcolor": "#2a3f5f",
           "arrowhead": 0,
           "arrowwidth": 1
          },
          "autotypenumbers": "strict",
          "coloraxis": {
           "colorbar": {
            "outlinewidth": 0,
            "ticks": ""
           }
          },
          "colorscale": {
           "diverging": [
            [
             0,
             "#8e0152"
            ],
            [
             0.1,
             "#c51b7d"
            ],
            [
             0.2,
             "#de77ae"
            ],
            [
             0.3,
             "#f1b6da"
            ],
            [
             0.4,
             "#fde0ef"
            ],
            [
             0.5,
             "#f7f7f7"
            ],
            [
             0.6,
             "#e6f5d0"
            ],
            [
             0.7,
             "#b8e186"
            ],
            [
             0.8,
             "#7fbc41"
            ],
            [
             0.9,
             "#4d9221"
            ],
            [
             1,
             "#276419"
            ]
           ],
           "sequential": [
            [
             0,
             "#0d0887"
            ],
            [
             0.1111111111111111,
             "#46039f"
            ],
            [
             0.2222222222222222,
             "#7201a8"
            ],
            [
             0.3333333333333333,
             "#9c179e"
            ],
            [
             0.4444444444444444,
             "#bd3786"
            ],
            [
             0.5555555555555556,
             "#d8576b"
            ],
            [
             0.6666666666666666,
             "#ed7953"
            ],
            [
             0.7777777777777778,
             "#fb9f3a"
            ],
            [
             0.8888888888888888,
             "#fdca26"
            ],
            [
             1,
             "#f0f921"
            ]
           ],
           "sequentialminus": [
            [
             0,
             "#0d0887"
            ],
            [
             0.1111111111111111,
             "#46039f"
            ],
            [
             0.2222222222222222,
             "#7201a8"
            ],
            [
             0.3333333333333333,
             "#9c179e"
            ],
            [
             0.4444444444444444,
             "#bd3786"
            ],
            [
             0.5555555555555556,
             "#d8576b"
            ],
            [
             0.6666666666666666,
             "#ed7953"
            ],
            [
             0.7777777777777778,
             "#fb9f3a"
            ],
            [
             0.8888888888888888,
             "#fdca26"
            ],
            [
             1,
             "#f0f921"
            ]
           ]
          },
          "colorway": [
           "#636efa",
           "#EF553B",
           "#00cc96",
           "#ab63fa",
           "#FFA15A",
           "#19d3f3",
           "#FF6692",
           "#B6E880",
           "#FF97FF",
           "#FECB52"
          ],
          "font": {
           "color": "#2a3f5f"
          },
          "geo": {
           "bgcolor": "white",
           "lakecolor": "white",
           "landcolor": "#E5ECF6",
           "showlakes": true,
           "showland": true,
           "subunitcolor": "white"
          },
          "hoverlabel": {
           "align": "left"
          },
          "hovermode": "closest",
          "mapbox": {
           "style": "light"
          },
          "paper_bgcolor": "white",
          "plot_bgcolor": "#E5ECF6",
          "polar": {
           "angularaxis": {
            "gridcolor": "white",
            "linecolor": "white",
            "ticks": ""
           },
           "bgcolor": "#E5ECF6",
           "radialaxis": {
            "gridcolor": "white",
            "linecolor": "white",
            "ticks": ""
           }
          },
          "scene": {
           "xaxis": {
            "backgroundcolor": "#E5ECF6",
            "gridcolor": "white",
            "gridwidth": 2,
            "linecolor": "white",
            "showbackground": true,
            "ticks": "",
            "zerolinecolor": "white"
           },
           "yaxis": {
            "backgroundcolor": "#E5ECF6",
            "gridcolor": "white",
            "gridwidth": 2,
            "linecolor": "white",
            "showbackground": true,
            "ticks": "",
            "zerolinecolor": "white"
           },
           "zaxis": {
            "backgroundcolor": "#E5ECF6",
            "gridcolor": "white",
            "gridwidth": 2,
            "linecolor": "white",
            "showbackground": true,
            "ticks": "",
            "zerolinecolor": "white"
           }
          },
          "shapedefaults": {
           "line": {
            "color": "#2a3f5f"
           }
          },
          "ternary": {
           "aaxis": {
            "gridcolor": "white",
            "linecolor": "white",
            "ticks": ""
           },
           "baxis": {
            "gridcolor": "white",
            "linecolor": "white",
            "ticks": ""
           },
           "bgcolor": "#E5ECF6",
           "caxis": {
            "gridcolor": "white",
            "linecolor": "white",
            "ticks": ""
           }
          },
          "title": {
           "x": 0.05
          },
          "xaxis": {
           "automargin": true,
           "gridcolor": "white",
           "linecolor": "white",
           "ticks": "",
           "title": {
            "standoff": 15
           },
           "zerolinecolor": "white",
           "zerolinewidth": 2
          },
          "yaxis": {
           "automargin": true,
           "gridcolor": "white",
           "linecolor": "white",
           "ticks": "",
           "title": {
            "standoff": 15
           },
           "zerolinecolor": "white",
           "zerolinewidth": 2
          }
         }
        },
        "title": {
         "text": "%Change in GDP vs. School Closure Weeks, size=Total Covid Cases(per 1M population)"
        },
        "xaxis": {
         "anchor": "y",
         "domain": [
          0,
          1
         ],
         "title": {
          "text": "School Closure Weeks"
         }
        },
        "yaxis": {
         "anchor": "x",
         "domain": [
          0,
          1
         ],
         "title": {
          "text": "%Change in GDP"
         }
        }
       }
      },
      "text/html": [
       "<div>                            <div id=\"ec669183-4dc1-4b15-849d-2e0a03ed8f57\" class=\"plotly-graph-div\" style=\"height:525px; width:100%;\"></div>            <script type=\"text/javascript\">                require([\"plotly\"], function(Plotly) {                    window.PLOTLYENV=window.PLOTLYENV || {};                                    if (document.getElementById(\"ec669183-4dc1-4b15-849d-2e0a03ed8f57\")) {                    Plotly.newPlot(                        \"ec669183-4dc1-4b15-849d-2e0a03ed8f57\",                        [{\"hovertemplate\": \"<b>%{hovertext}</b><br><br>School Closure Weeks=%{x}<br>%Change in GDP=%{y}<br>case=%{marker.color}<extra></extra>\", \"hovertext\": [\"Afghanistan\", \"Albania\", \"Algeria\", \"Angola\", \"Antigua and Barbuda\", \"Argentina\", \"Armenia\", \"Australia\", \"Austria\", \"Azerbaijan\", \"Bahamas\", \"Bahrain\", \"Bangladesh\", \"Barbados\", \"Belarus\", \"Belgium\", \"Belize\", \"Benin\", \"Bhutan\", \"Bolivia\", \"Bosnia and Herzegovina\", \"Botswana\", \"Brazil\", \"Brunei\", \"Bulgaria\", \"Burkina Faso\", \"Burundi\", \"Cambodia\", \"Cameroon\", \"Canada\", \"Central African Republic\", \"Chad\", \"Chile\", \"China\", \"Colombia\", \"Comoros\", \"Congo\", \"Costa Rica\", \"Croatia\", \"Cyprus\", \"Czechia\", \"Democratic Republic of Congo\", \"Denmark\", \"Djibouti\", \"Dominica\", \"Dominican Republic\", \"Ecuador\", \"Egypt\", \"El Salvador\", \"Equatorial Guinea\", \"Eritrea\", \"Estonia\", \"Eswatini\", \"Ethiopia\", \"Fiji\", \"Finland\", \"France\", \"Gabon\", \"Gambia\", \"Georgia\", \"Germany\", \"Ghana\", \"Greece\", \"Grenada\", \"Guatemala\", \"Guinea\", \"Guinea-Bissau\", \"Guyana\", \"Haiti\", \"Honduras\", \"Hungary\", \"Iceland\", \"India\", \"Indonesia\", \"Iran\", \"Iraq\", \"Ireland\", \"Israel\", \"Italy\", \"Jamaica\", \"Japan\", \"Jordan\", \"Kazakhstan\", \"Kenya\", \"Kuwait\", \"Kyrgyzstan\", \"Laos\", \"Latvia\", \"Lebanon\", \"Lesotho\", \"Liberia\", \"Libya\", \"Lithuania\", \"Luxembourg\", \"Madagascar\", \"Malawi\", \"Malaysia\", \"Maldives\", \"Mali\", \"Malta\", \"Marshall Islands\", \"Mauritania\", \"Mauritius\", \"Mexico\", \"Mongolia\", \"Montenegro\", \"Morocco\", \"Mozambique\", \"Myanmar\", \"Namibia\", \"Nepal\", \"Netherlands\", \"New Zealand\", \"Nicaragua\", \"Niger\", \"Nigeria\", \"Norway\", \"Oman\", \"Pakistan\", \"Panama\", \"Papua New Guinea\", \"Paraguay\", \"Peru\", \"Philippines\", \"Poland\", \"Portugal\", \"Qatar\", \"South Korea\", \"Moldova\", \"Romania\", \"Russia\", \"Rwanda\", \"Saint Kitts and Nevis\", \"Saint Lucia\", \"Saint Vincent and the Grenadines\", \"Samoa\", \"Saudi Arabia\", \"Senegal\", \"Serbia\", \"Seychelles\", \"Sierra Leone\", \"Singapore\", \"Slovakia\", \"Slovenia\", \"Solomon Islands\", \"Somalia\", \"South Sudan\", \"Spain\", \"Sri Lanka\", \"Sudan\", \"Suriname\", \"Sweden\", \"Switzerland\", \"Tajikistan\", \"Thailand\", \"Timor\", \"Togo\", \"Trinidad and Tobago\", \"Tunisia\", \"Turkey\", \"Uganda\", \"Ukraine\", \"United Arab Emirates\", \"United Kingdom\", \"Tanzania\", \"United States\", \"Uruguay\", \"Uzbekistan\", \"Vanuatu\", \"Venezuela\", \"Vietnam\", \"Yemen\", \"Zambia\", \"Zimbabwe\"], \"legendgroup\": \"\", \"marker\": {\"color\": [1549.0, 45616.79, 2798.5, 825.56, 12580.67, 66846.49, 73233.5, 1170.59, 69195.35, 31738.08, 26893.97, 106055.36, 4637.1, 13505.19, 38298.73, 86016.31, 31874.57, 650.32, 1450.21, 26469.91, 60491.37, 20348.06, 69531.29, 518.88, 58405.15, 637.41, 340.26, 918.78, 2721.7, 33167.45, 1327.39, 293.93, 63601.26, 71.25, 57096.88, 4421.6, 1996.34, 50386.78, 81729.62, 76391.23, 152640.0, 335.01, 43915.59, 11337.02, 2416.97, 24675.83, 21994.26, 2254.5, 10750.05, 5484.02, 1035.69, 92679.52, 15911.54, 2251.26, 134.98, 15764.2, 83893.68, 10424.0, 2441.8, 78450.81, 41036.33, 2982.76, 33442.01, 1421.98, 12774.98, 1700.55, 1898.38, 17244.73, 1148.34, 21654.06, 81167.97, 18997.8, 14697.66, 6149.39, 30426.21, 26850.59, 50688.61, 96888.34, 66996.12, 15547.62, 4820.07, 69995.41, 20406.35, 2985.96, 65057.46, 14766.12, 132.77, 63594.99, 77424.58, 5010.15, 417.19, 25953.65, 91958.21, 107823.62, 1363.29, 1782.49, 12899.71, 57960.34, 688.22, 68745.91, 67.57, 3973.62, 952.22, 18225.78, 12322.27, 155586.55, 13868.99, 2239.61, 2625.3, 19148.21, 11786.4, 90079.1, 543.94, 1041.28, 217.34, 801.39, 21019.54, 38557.78, 3791.54, 84662.49, 1258.74, 39881.08, 55020.49, 9693.51, 74134.95, 82130.14, 72054.04, 2423.85, 62315.4, 55013.75, 32732.8, 1954.18, 845.99, 24832.68, 16963.05, 15.12, 12072.8, 2416.64, 101867.77, 64805.78, 509.21, 10466.91, 70192.87, 116349.65, 29.12, 875.53, 947.14, 75723.38, 5308.68, 774.11, 17972.02, 96403.4, 76716.5, 1395.31, 1017.55, 1914.38, 1571.5, 8196.55, 26462.23, 58100.25, 917.62, 48951.61, 53139.11, 65367.01, 8.52, 98100.61, 58761.09, 2748.97, 13.02, 7066.09, 30.67, 213.34, 4989.24, 2576.41], \"coloraxis\": \"coloraxis\", \"symbol\": \"circle\"}, \"mode\": \"markers\", \"name\": \"\", \"orientation\": \"v\", \"showlegend\": false, \"type\": \"scatter\", \"x\": [31.0, 24.0, 21.0, 46.0, 41.0, 46.0, 12.0, 27.0, 27.0, 37.0, 41.0, 44.0, 47.0, 31.0, 0.0, 15.0, 38.0, 15.0, 49.0, 47.0, 38.0, 20.0, 44.0, 17.0, 32.0, 14.0, 0.0, 29.0, 18.0, 40.0, 23.0, 28.0, 44.0, 27.0, 43.0, 35.0, 26.0, 46.0, 10.0, 25.0, 38.0, 33.0, 23.0, 7.0, 17.0, 32.0, 44.0, 19.0, 45.0, 22.0, 49.0, 16.0, 49.0, 31.0, 13.0, 23.0, 10.0, 21.0, 28.0, 32.0, 28.0, 40.0, 32.0, 45.0, 45.0, 22.0, 23.0, 45.0, 31.0, 46.0, 33.0, 6.0, 51.0, 48.0, 45.0, 50.0, 26.0, 33.0, 35.0, 37.0, 11.0, 42.0, 36.0, 37.0, 42.0, 38.0, 19.0, 36.0, 37.0, 41.0, 37.0, 40.0, 29.0, 15.0, 16.0, 26.0, 35.0, 16.0, 17.0, 19.0, 2.0, 23.0, 8.0, 44.0, 34.0, 36.0, 21.0, 45.0, 48.0, 25.0, 53.0, 22.0, 9.0, 15.0, 16.0, 24.0, 19.0, 26.0, 33.0, 46.0, 6.0, 40.0, 42.0, 34.0, 35.0, 21.0, 41.0, 41.0, 16.0, 32.0, 13.0, 47.0, 11.0, 40.0, 28.0, 4.0, 41.0, 22.0, 34.0, 19.0, 14.0, 11.0, 37.0, 34.0, 7.0, 15.0, 49.0, 15.0, 43.0, 22.0, 20.0, 23.0, 6.0, 0.0, 25.0, 11.0, 14.0, 40.0, 28.0, 38.0, 50.0, 19.0, 42.0, 27.0, 15.0, 47.0, 27.0, 12.0, 4.0, 38.0, 14.0, 19.0, 18.0, 34.0], \"xaxis\": \"x\", \"y\": [-5.0, -3.5, -6.0, -4.0, -17.3, -10.0, -7.6, -2.4, -6.6, -4.3, -16.3, -5.4, 3.8, -17.6, -0.9, -6.4, -14.1, 2.0, -0.8, -7.7, -5.5, -8.3, -4.1, 1.2, -3.8, 0.8, -1.3, -3.5, -2.8, -5.4, 0.0, -0.9, -5.8, 2.3, -6.8, -0.5, -7.8, -4.8, -9.0, -5.1, -5.6, -0.1, -3.3, -1.0, -10.4, -6.7, -7.5, 3.6, -8.6, -5.8, -0.6, -2.9, -3.3, 6.1, -19.0, -2.9, -8.2, -1.8, 0.0, -6.1, -4.9, 0.9, -8.2, -13.5, -1.5, 5.2, -2.4, 43.4, -3.7, -8.0, -5.0, -6.6, -8.0, -2.1, 1.5, -10.9, 2.5, -2.4, -8.9, -10.2, -4.8, -2.0, -2.6, -0.1, -8.1, -8.0, -0.4, -3.6, -25.0, -4.5, -3.0, -59.7, -0.8, -1.3, -4.2, 0.6, -5.6, -32.2, -2.0, -7.0, -3.3, -2.2, -15.8, -8.2, -5.3, -15.2, -7.0, -0.5, 3.2, -7.2, -1.9, -3.8, -3.0, -3.0, 1.2, -1.8, -0.8, -6.4, -0.4, -17.9, -3.9, -0.9, -11.1, -9.5, -2.7, -7.6, -2.6, -1.0, -7.5, -3.9, -3.1, -0.2, -18.7, -18.9, -4.2, -3.2, -4.1, 0.8, -1.0, -13.4, -2.2, -5.4, -7.0, -5.5, -4.3, -1.5, -6.6, -11.0, -3.6, -3.6, -13.5, -2.8, -3.0, 4.5, -6.1, -6.8, 0.7, -7.8, -8.8, 1.8, -2.1, -4.2, -5.9, -9.9, 1.0, -3.5, -5.7, 1.6, -9.2, -30.0, 2.9, -5.0, -3.5, -8.0], \"yaxis\": \"y\"}],                        {\"coloraxis\": {\"colorbar\": {\"title\": {\"text\": \"case\"}}, \"colorscale\": [[0.0, \"#0d0887\"], [0.1111111111111111, \"#46039f\"], [0.2222222222222222, \"#7201a8\"], [0.3333333333333333, \"#9c179e\"], [0.4444444444444444, \"#bd3786\"], [0.5555555555555556, \"#d8576b\"], [0.6666666666666666, \"#ed7953\"], [0.7777777777777778, \"#fb9f3a\"], [0.8888888888888888, \"#fdca26\"], [1.0, \"#f0f921\"]]}, \"legend\": {\"tracegroupgap\": 0}, \"template\": {\"data\": {\"bar\": [{\"error_x\": {\"color\": \"#2a3f5f\"}, \"error_y\": {\"color\": \"#2a3f5f\"}, \"marker\": {\"line\": {\"color\": \"#E5ECF6\", \"width\": 0.5}}, \"type\": \"bar\"}], \"barpolar\": [{\"marker\": {\"line\": {\"color\": \"#E5ECF6\", \"width\": 0.5}}, \"type\": \"barpolar\"}], \"carpet\": [{\"aaxis\": {\"endlinecolor\": \"#2a3f5f\", \"gridcolor\": \"white\", \"linecolor\": \"white\", \"minorgridcolor\": \"white\", \"startlinecolor\": \"#2a3f5f\"}, \"baxis\": {\"endlinecolor\": \"#2a3f5f\", \"gridcolor\": \"white\", \"linecolor\": \"white\", \"minorgridcolor\": \"white\", \"startlinecolor\": \"#2a3f5f\"}, \"type\": \"carpet\"}], \"choropleth\": [{\"colorbar\": {\"outlinewidth\": 0, \"ticks\": \"\"}, \"type\": \"choropleth\"}], \"contour\": [{\"colorbar\": {\"outlinewidth\": 0, \"ticks\": \"\"}, \"colorscale\": [[0.0, \"#0d0887\"], [0.1111111111111111, \"#46039f\"], [0.2222222222222222, \"#7201a8\"], [0.3333333333333333, \"#9c179e\"], [0.4444444444444444, \"#bd3786\"], [0.5555555555555556, \"#d8576b\"], [0.6666666666666666, \"#ed7953\"], [0.7777777777777778, \"#fb9f3a\"], [0.8888888888888888, \"#fdca26\"], [1.0, \"#f0f921\"]], \"type\": \"contour\"}], \"contourcarpet\": [{\"colorbar\": {\"outlinewidth\": 0, \"ticks\": \"\"}, \"type\": \"contourcarpet\"}], \"heatmap\": [{\"colorbar\": {\"outlinewidth\": 0, \"ticks\": \"\"}, \"colorscale\": [[0.0, \"#0d0887\"], [0.1111111111111111, \"#46039f\"], [0.2222222222222222, \"#7201a8\"], [0.3333333333333333, \"#9c179e\"], [0.4444444444444444, \"#bd3786\"], [0.5555555555555556, \"#d8576b\"], [0.6666666666666666, \"#ed7953\"], [0.7777777777777778, \"#fb9f3a\"], [0.8888888888888888, \"#fdca26\"], [1.0, \"#f0f921\"]], \"type\": \"heatmap\"}], \"heatmapgl\": [{\"colorbar\": {\"outlinewidth\": 0, \"ticks\": \"\"}, \"colorscale\": [[0.0, \"#0d0887\"], [0.1111111111111111, \"#46039f\"], [0.2222222222222222, \"#7201a8\"], [0.3333333333333333, \"#9c179e\"], [0.4444444444444444, \"#bd3786\"], [0.5555555555555556, \"#d8576b\"], [0.6666666666666666, \"#ed7953\"], [0.7777777777777778, \"#fb9f3a\"], [0.8888888888888888, \"#fdca26\"], [1.0, \"#f0f921\"]], \"type\": \"heatmapgl\"}], \"histogram\": [{\"marker\": {\"colorbar\": {\"outlinewidth\": 0, \"ticks\": \"\"}}, \"type\": \"histogram\"}], \"histogram2d\": [{\"colorbar\": {\"outlinewidth\": 0, \"ticks\": \"\"}, \"colorscale\": [[0.0, \"#0d0887\"], [0.1111111111111111, \"#46039f\"], [0.2222222222222222, \"#7201a8\"], [0.3333333333333333, \"#9c179e\"], [0.4444444444444444, \"#bd3786\"], [0.5555555555555556, \"#d8576b\"], [0.6666666666666666, \"#ed7953\"], [0.7777777777777778, \"#fb9f3a\"], [0.8888888888888888, \"#fdca26\"], [1.0, \"#f0f921\"]], \"type\": \"histogram2d\"}], \"histogram2dcontour\": [{\"colorbar\": {\"outlinewidth\": 0, \"ticks\": \"\"}, \"colorscale\": [[0.0, \"#0d0887\"], [0.1111111111111111, \"#46039f\"], [0.2222222222222222, \"#7201a8\"], [0.3333333333333333, \"#9c179e\"], [0.4444444444444444, \"#bd3786\"], [0.5555555555555556, \"#d8576b\"], [0.6666666666666666, \"#ed7953\"], [0.7777777777777778, \"#fb9f3a\"], [0.8888888888888888, \"#fdca26\"], [1.0, \"#f0f921\"]], \"type\": \"histogram2dcontour\"}], \"mesh3d\": [{\"colorbar\": {\"outlinewidth\": 0, \"ticks\": \"\"}, \"type\": \"mesh3d\"}], \"parcoords\": [{\"line\": {\"colorbar\": {\"outlinewidth\": 0, \"ticks\": \"\"}}, \"type\": \"parcoords\"}], \"pie\": [{\"automargin\": true, \"type\": \"pie\"}], \"scatter\": [{\"marker\": {\"colorbar\": {\"outlinewidth\": 0, \"ticks\": \"\"}}, \"type\": \"scatter\"}], \"scatter3d\": [{\"line\": {\"colorbar\": {\"outlinewidth\": 0, \"ticks\": \"\"}}, \"marker\": {\"colorbar\": {\"outlinewidth\": 0, \"ticks\": \"\"}}, \"type\": \"scatter3d\"}], \"scattercarpet\": [{\"marker\": {\"colorbar\": {\"outlinewidth\": 0, \"ticks\": \"\"}}, \"type\": \"scattercarpet\"}], \"scattergeo\": [{\"marker\": {\"colorbar\": {\"outlinewidth\": 0, \"ticks\": \"\"}}, \"type\": \"scattergeo\"}], \"scattergl\": [{\"marker\": {\"colorbar\": {\"outlinewidth\": 0, \"ticks\": \"\"}}, \"type\": \"scattergl\"}], \"scattermapbox\": [{\"marker\": {\"colorbar\": {\"outlinewidth\": 0, \"ticks\": \"\"}}, \"type\": \"scattermapbox\"}], \"scatterpolar\": [{\"marker\": {\"colorbar\": {\"outlinewidth\": 0, \"ticks\": \"\"}}, \"type\": \"scatterpolar\"}], \"scatterpolargl\": [{\"marker\": {\"colorbar\": {\"outlinewidth\": 0, \"ticks\": \"\"}}, \"type\": \"scatterpolargl\"}], \"scatterternary\": [{\"marker\": {\"colorbar\": {\"outlinewidth\": 0, \"ticks\": \"\"}}, \"type\": \"scatterternary\"}], \"surface\": [{\"colorbar\": {\"outlinewidth\": 0, \"ticks\": \"\"}, \"colorscale\": [[0.0, \"#0d0887\"], [0.1111111111111111, \"#46039f\"], [0.2222222222222222, \"#7201a8\"], [0.3333333333333333, \"#9c179e\"], [0.4444444444444444, \"#bd3786\"], [0.5555555555555556, \"#d8576b\"], [0.6666666666666666, \"#ed7953\"], [0.7777777777777778, \"#fb9f3a\"], [0.8888888888888888, \"#fdca26\"], [1.0, \"#f0f921\"]], \"type\": \"surface\"}], \"table\": [{\"cells\": {\"fill\": {\"color\": \"#EBF0F8\"}, \"line\": {\"color\": \"white\"}}, \"header\": {\"fill\": {\"color\": \"#C8D4E3\"}, \"line\": {\"color\": \"white\"}}, \"type\": \"table\"}]}, \"layout\": {\"annotationdefaults\": {\"arrowcolor\": \"#2a3f5f\", \"arrowhead\": 0, \"arrowwidth\": 1}, \"autotypenumbers\": \"strict\", \"coloraxis\": {\"colorbar\": {\"outlinewidth\": 0, \"ticks\": \"\"}}, \"colorscale\": {\"diverging\": [[0, \"#8e0152\"], [0.1, \"#c51b7d\"], [0.2, \"#de77ae\"], [0.3, \"#f1b6da\"], [0.4, \"#fde0ef\"], [0.5, \"#f7f7f7\"], [0.6, \"#e6f5d0\"], [0.7, \"#b8e186\"], [0.8, \"#7fbc41\"], [0.9, \"#4d9221\"], [1, \"#276419\"]], \"sequential\": [[0.0, \"#0d0887\"], [0.1111111111111111, \"#46039f\"], [0.2222222222222222, \"#7201a8\"], [0.3333333333333333, \"#9c179e\"], [0.4444444444444444, \"#bd3786\"], [0.5555555555555556, \"#d8576b\"], [0.6666666666666666, \"#ed7953\"], [0.7777777777777778, \"#fb9f3a\"], [0.8888888888888888, \"#fdca26\"], [1.0, \"#f0f921\"]], \"sequentialminus\": [[0.0, \"#0d0887\"], [0.1111111111111111, \"#46039f\"], [0.2222222222222222, \"#7201a8\"], [0.3333333333333333, \"#9c179e\"], [0.4444444444444444, \"#bd3786\"], [0.5555555555555556, \"#d8576b\"], [0.6666666666666666, \"#ed7953\"], [0.7777777777777778, \"#fb9f3a\"], [0.8888888888888888, \"#fdca26\"], [1.0, \"#f0f921\"]]}, \"colorway\": [\"#636efa\", \"#EF553B\", \"#00cc96\", \"#ab63fa\", \"#FFA15A\", \"#19d3f3\", \"#FF6692\", \"#B6E880\", \"#FF97FF\", \"#FECB52\"], \"font\": {\"color\": \"#2a3f5f\"}, \"geo\": {\"bgcolor\": \"white\", \"lakecolor\": \"white\", \"landcolor\": \"#E5ECF6\", \"showlakes\": true, \"showland\": true, \"subunitcolor\": \"white\"}, \"hoverlabel\": {\"align\": \"left\"}, \"hovermode\": \"closest\", \"mapbox\": {\"style\": \"light\"}, \"paper_bgcolor\": \"white\", \"plot_bgcolor\": \"#E5ECF6\", \"polar\": {\"angularaxis\": {\"gridcolor\": \"white\", \"linecolor\": \"white\", \"ticks\": \"\"}, \"bgcolor\": \"#E5ECF6\", \"radialaxis\": {\"gridcolor\": \"white\", \"linecolor\": \"white\", \"ticks\": \"\"}}, \"scene\": {\"xaxis\": {\"backgroundcolor\": \"#E5ECF6\", \"gridcolor\": \"white\", \"gridwidth\": 2, \"linecolor\": \"white\", \"showbackground\": true, \"ticks\": \"\", \"zerolinecolor\": \"white\"}, \"yaxis\": {\"backgroundcolor\": \"#E5ECF6\", \"gridcolor\": \"white\", \"gridwidth\": 2, \"linecolor\": \"white\", \"showbackground\": true, \"ticks\": \"\", \"zerolinecolor\": \"white\"}, \"zaxis\": {\"backgroundcolor\": \"#E5ECF6\", \"gridcolor\": \"white\", \"gridwidth\": 2, \"linecolor\": \"white\", \"showbackground\": true, \"ticks\": \"\", \"zerolinecolor\": \"white\"}}, \"shapedefaults\": {\"line\": {\"color\": \"#2a3f5f\"}}, \"ternary\": {\"aaxis\": {\"gridcolor\": \"white\", \"linecolor\": \"white\", \"ticks\": \"\"}, \"baxis\": {\"gridcolor\": \"white\", \"linecolor\": \"white\", \"ticks\": \"\"}, \"bgcolor\": \"#E5ECF6\", \"caxis\": {\"gridcolor\": \"white\", \"linecolor\": \"white\", \"ticks\": \"\"}}, \"title\": {\"x\": 0.05}, \"xaxis\": {\"automargin\": true, \"gridcolor\": \"white\", \"linecolor\": \"white\", \"ticks\": \"\", \"title\": {\"standoff\": 15}, \"zerolinecolor\": \"white\", \"zerolinewidth\": 2}, \"yaxis\": {\"automargin\": true, \"gridcolor\": \"white\", \"linecolor\": \"white\", \"ticks\": \"\", \"title\": {\"standoff\": 15}, \"zerolinecolor\": \"white\", \"zerolinewidth\": 2}}}, \"title\": {\"text\": \"%Change in GDP vs. School Closure Weeks, size=Total Covid Cases(per 1M population)\"}, \"xaxis\": {\"anchor\": \"y\", \"domain\": [0.0, 1.0], \"title\": {\"text\": \"School Closure Weeks\"}}, \"yaxis\": {\"anchor\": \"x\", \"domain\": [0.0, 1.0], \"title\": {\"text\": \"%Change in GDP\"}}},                        {\"responsive\": true}                    ).then(function(){\n",
       "                            \n",
       "var gd = document.getElementById('ec669183-4dc1-4b15-849d-2e0a03ed8f57');\n",
       "var x = new MutationObserver(function (mutations, observer) {{\n",
       "        var display = window.getComputedStyle(gd).display;\n",
       "        if (!display || display === 'none') {{\n",
       "            console.log([gd, 'removed!']);\n",
       "            Plotly.purge(gd);\n",
       "            observer.disconnect();\n",
       "        }}\n",
       "}});\n",
       "\n",
       "// Listen for the removal of the full notebook cells\n",
       "var notebookContainer = gd.closest('#notebook-container');\n",
       "if (notebookContainer) {{\n",
       "    x.observe(notebookContainer, {childList: true});\n",
       "}}\n",
       "\n",
       "// Listen for the clearing of the current output cell\n",
       "var outputEl = gd.closest('.output');\n",
       "if (outputEl) {{\n",
       "    x.observe(outputEl, {childList: true});\n",
       "}}\n",
       "\n",
       "                        })                };                });            </script>        </div>"
      ]
     },
     "metadata": {},
     "output_type": "display_data"
    }
   ],
   "source": [
    "fig = px.scatter(df2, x=\"closure\", y=\"change\",\n",
    "                 #size=\"change\",\n",
    "                 color='case',\n",
    "                 hover_name=\"Country\",\n",
    "                 labels={\"closure\": \"School Closure Weeks\",\n",
    "                        \"change\":\"%Change in GDP\"},\n",
    "                 title=\"%Change in GDP vs. School Closure Weeks, size=Total Covid Cases(per 1M population)\"\n",
    "                )\n",
    "fig.show()"
   ]
  },
  {
   "cell_type": "code",
   "execution_count": 39,
   "id": "broadband-ceremony",
   "metadata": {},
   "outputs": [
    {
     "data": {
      "text/plain": [
       "[<matplotlib.lines.Line2D at 0x7fa344a6a2d0>]"
      ]
     },
     "execution_count": 39,
     "metadata": {},
     "output_type": "execute_result"
    },
    {
     "data": {
      "image/png": "[encoded data removed]",
      "text/plain": [
       "<Figure size 432x288 with 1 Axes>"
      ]
     },
     "metadata": {
      "needs_background": "light"
     },
     "output_type": "display_data"
    }
   ],
   "source": [
    "fig,ax=plt.subplots(1)\n",
    "x=df2.closure\n",
    "y=df2.case\n",
    "#ax.scatter(df2.closure,df2.case)\n",
    "m, b = np. polyfit(df2.closure, df2.case, 1)\n",
    "plt.plot(x, y, 'o')\n",
    "plt.plot(x, m*x + b)"
   ]
  },
  {
   "cell_type": "code",
   "execution_count": 40,
   "id": "compact-gates",
   "metadata": {},
   "outputs": [
    {
     "ename": "AttributeError",
     "evalue": "'Figure' object has no attribute 'to_html'",
     "output_type": "error",
     "traceback": [
      "\u001b[0;31m---------------------------------------------------------------------------\u001b[0m",
      "\u001b[0;31mAttributeError\u001b[0m                            Traceback (most recent call last)",
      "\u001b[0;32m<ipython-input-40-8e45bc995dae>\u001b[0m in \u001b[0;36m<module>\u001b[0;34m\u001b[0m\n\u001b[1;32m      1\u001b[0m \u001b[0;32mfrom\u001b[0m \u001b[0mplotly\u001b[0m\u001b[0;34m.\u001b[0m\u001b[0mio\u001b[0m \u001b[0;32mimport\u001b[0m \u001b[0mto_html\u001b[0m\u001b[0;34m\u001b[0m\u001b[0;34m\u001b[0m\u001b[0m\n\u001b[1;32m      2\u001b[0m \u001b[0;32mwith\u001b[0m \u001b[0mopen\u001b[0m\u001b[0;34m(\u001b[0m\u001b[0;34m'Edu trade-off.html'\u001b[0m\u001b[0;34m,\u001b[0m \u001b[0;34m'w'\u001b[0m\u001b[0;34m)\u001b[0m \u001b[0;32mas\u001b[0m \u001b[0mf\u001b[0m\u001b[0;34m:\u001b[0m\u001b[0;34m\u001b[0m\u001b[0;34m\u001b[0m\u001b[0m\n\u001b[0;32m----> 3\u001b[0;31m     \u001b[0mf\u001b[0m\u001b[0;34m.\u001b[0m\u001b[0mwrite\u001b[0m\u001b[0;34m(\u001b[0m\u001b[0mfig\u001b[0m\u001b[0;34m.\u001b[0m\u001b[0mto_html\u001b[0m\u001b[0;34m(\u001b[0m\u001b[0mfull_html\u001b[0m\u001b[0;34m=\u001b[0m\u001b[0;32mFalse\u001b[0m\u001b[0;34m,\u001b[0m \u001b[0minclude_plotlyjs\u001b[0m\u001b[0;34m=\u001b[0m\u001b[0;34m'cdn'\u001b[0m\u001b[0;34m)\u001b[0m\u001b[0;34m)\u001b[0m\u001b[0;34m\u001b[0m\u001b[0;34m\u001b[0m\u001b[0m\n\u001b[0m",
      "\u001b[0;31mAttributeError\u001b[0m: 'Figure' object has no attribute 'to_html'"
     ]
    }
   ],
   "source": [
    "from plotly.io import to_html\n",
    "with open('Edu trade-off.html', 'w') as f:\n",
    "    f.write(fig.to_html(full_html=False, include_plotlyjs='cdn'))"
   ]
  },
  {
   "cell_type": "code",
   "execution_count": 93,
   "id": "homeless-harvard",
   "metadata": {},
   "outputs": [
    {
     "data": {
      "text/plain": [
       "'https://plotly.com/~SylviaM00/37/'"
      ]
     },
     "execution_count": 93,
     "metadata": {},
     "output_type": "execute_result"
    }
   ],
   "source": [
    "import chart_studio\n",
    "import chart_studio.plotly as py\n",
    "username = 'SylviaM00' # your username\n",
    "api_key = '2MCql5JuPV9pzWfQu1FR' # your api key - go to profile > settings > regenerate key\n",
    "chart_studio.tools.set_credentials_file(username=username, api_key=api_key)\n",
    "\n",
    "py.plot(fig, filename = 'Bubble Plot-trade off', auto_open=True)"
   ]
  },
  {
   "cell_type": "code",
   "execution_count": null,
   "id": "arctic-wrapping",
   "metadata": {},
   "outputs": [],
   "source": []
  }
 ],
 "metadata": {
  "kernelspec": {
   "display_name": "Python [conda env:pic16b] *",
   "language": "python",
   "name": "conda-env-pic16b-py"
  },
  "language_info": {
   "codemirror_mode": {
    "name": "ipython",
    "version": 3
   },
   "file_extension": ".py",
   "mimetype": "text/x-python",
   "name": "python",
   "nbconvert_exporter": "python",
   "pygments_lexer": "ipython3",
   "version": "3.7.10"
  }
 },
 "nbformat": 4,
 "nbformat_minor": 5
}
